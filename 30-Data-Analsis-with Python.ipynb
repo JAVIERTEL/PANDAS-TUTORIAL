{
 "cells": [
  {
   "cell_type": "markdown",
   "id": "4fcf9464",
   "metadata": {},
   "source": [
    "# Data Analysis with Python using Forbes 2022 Dataset"
   ]
  },
  {
   "cell_type": "markdown",
   "id": "f422390c",
   "metadata": {},
   "source": [
    "Hi Guys, Welcome to [Tirendaz Academy](https://youtube.com/c/tirendazacademy) 😀\n",
    "In this notebook, I'm going to talk about data analysis with Python.\n",
    "Happy learning 🐱‍🏍 "
   ]
  },
  {
   "cell_type": "markdown",
   "id": "0fb11529",
   "metadata": {},
   "source": [
    "## Loading Data"
   ]
  },
  {
   "cell_type": "code",
   "execution_count": 24,
   "id": "c0a1700b",
   "metadata": {},
   "outputs": [],
   "source": [
    "import pandas as pd"
   ]
  },
  {
   "cell_type": "code",
   "execution_count": 25,
   "id": "010e4103",
   "metadata": {},
   "outputs": [],
   "source": [
    "df = pd.read_csv(\"DataSets/forbes_2022_billionaires.csv\")"
   ]
  },
  {
   "cell_type": "code",
   "execution_count": 26,
   "id": "49ca38b5",
   "metadata": {},
   "outputs": [
    {
     "data": {
      "text/html": [
       "<div>\n",
       "<style scoped>\n",
       "    .dataframe tbody tr th:only-of-type {\n",
       "        vertical-align: middle;\n",
       "    }\n",
       "\n",
       "    .dataframe tbody tr th {\n",
       "        vertical-align: top;\n",
       "    }\n",
       "\n",
       "    .dataframe thead th {\n",
       "        text-align: right;\n",
       "    }\n",
       "</style>\n",
       "<table border=\"1\" class=\"dataframe\">\n",
       "  <thead>\n",
       "    <tr style=\"text-align: right;\">\n",
       "      <th></th>\n",
       "      <th>rank</th>\n",
       "      <th>personName</th>\n",
       "      <th>age</th>\n",
       "      <th>finalWorth</th>\n",
       "      <th>year</th>\n",
       "      <th>month</th>\n",
       "      <th>category</th>\n",
       "      <th>source</th>\n",
       "      <th>country</th>\n",
       "      <th>state</th>\n",
       "      <th>...</th>\n",
       "      <th>organization</th>\n",
       "      <th>selfMade</th>\n",
       "      <th>gender</th>\n",
       "      <th>birthDate</th>\n",
       "      <th>title</th>\n",
       "      <th>philanthropyScore</th>\n",
       "      <th>residenceMsa</th>\n",
       "      <th>numberOfSiblings</th>\n",
       "      <th>bio</th>\n",
       "      <th>about</th>\n",
       "    </tr>\n",
       "  </thead>\n",
       "  <tbody>\n",
       "    <tr>\n",
       "      <th>0</th>\n",
       "      <td>1</td>\n",
       "      <td>Elon Musk</td>\n",
       "      <td>50.0</td>\n",
       "      <td>219000.0</td>\n",
       "      <td>2022</td>\n",
       "      <td>4</td>\n",
       "      <td>Automotive</td>\n",
       "      <td>Tesla, SpaceX</td>\n",
       "      <td>United States</td>\n",
       "      <td>Texas</td>\n",
       "      <td>...</td>\n",
       "      <td>Tesla</td>\n",
       "      <td>True</td>\n",
       "      <td>M</td>\n",
       "      <td>1971-06-28</td>\n",
       "      <td>CEO</td>\n",
       "      <td>1.0</td>\n",
       "      <td>NaN</td>\n",
       "      <td>NaN</td>\n",
       "      <td>Elon Musk is working to revolutionize transpor...</td>\n",
       "      <td>Musk was accepted to a graduate program at Sta...</td>\n",
       "    </tr>\n",
       "    <tr>\n",
       "      <th>1</th>\n",
       "      <td>2</td>\n",
       "      <td>Jeff Bezos</td>\n",
       "      <td>58.0</td>\n",
       "      <td>171000.0</td>\n",
       "      <td>2022</td>\n",
       "      <td>4</td>\n",
       "      <td>Technology</td>\n",
       "      <td>Amazon</td>\n",
       "      <td>United States</td>\n",
       "      <td>Washington</td>\n",
       "      <td>...</td>\n",
       "      <td>Amazon</td>\n",
       "      <td>True</td>\n",
       "      <td>M</td>\n",
       "      <td>1964-01-12</td>\n",
       "      <td>Entrepreneur</td>\n",
       "      <td>1.0</td>\n",
       "      <td>Seattle-Tacoma-Bellevue, WA</td>\n",
       "      <td>NaN</td>\n",
       "      <td>Jeff Bezos founded e-commerce giant Amazon in ...</td>\n",
       "      <td>Growing up, Jeff Bezos worked summers on his g...</td>\n",
       "    </tr>\n",
       "    <tr>\n",
       "      <th>2</th>\n",
       "      <td>3</td>\n",
       "      <td>Bernard Arnault &amp; family</td>\n",
       "      <td>73.0</td>\n",
       "      <td>158000.0</td>\n",
       "      <td>2022</td>\n",
       "      <td>4</td>\n",
       "      <td>Fashion &amp; Retail</td>\n",
       "      <td>LVMH</td>\n",
       "      <td>France</td>\n",
       "      <td>NaN</td>\n",
       "      <td>...</td>\n",
       "      <td>LVMH Moët Hennessy Louis Vuitton</td>\n",
       "      <td>False</td>\n",
       "      <td>M</td>\n",
       "      <td>1949-03-05</td>\n",
       "      <td>Chairman and CEO</td>\n",
       "      <td>NaN</td>\n",
       "      <td>NaN</td>\n",
       "      <td>NaN</td>\n",
       "      <td>Bernard Arnault oversees the LVMH empire of so...</td>\n",
       "      <td>Arnault apparently wooed his wife, Helene Merc...</td>\n",
       "    </tr>\n",
       "    <tr>\n",
       "      <th>3</th>\n",
       "      <td>4</td>\n",
       "      <td>Bill Gates</td>\n",
       "      <td>66.0</td>\n",
       "      <td>129000.0</td>\n",
       "      <td>2022</td>\n",
       "      <td>4</td>\n",
       "      <td>Technology</td>\n",
       "      <td>Microsoft</td>\n",
       "      <td>United States</td>\n",
       "      <td>Washington</td>\n",
       "      <td>...</td>\n",
       "      <td>Bill &amp; Melinda Gates Foundation</td>\n",
       "      <td>True</td>\n",
       "      <td>M</td>\n",
       "      <td>1955-10-28</td>\n",
       "      <td>Cofounder</td>\n",
       "      <td>4.0</td>\n",
       "      <td>Seattle-Tacoma-Bellevue, WA</td>\n",
       "      <td>NaN</td>\n",
       "      <td>Bill Gates turned his fortune from software fi...</td>\n",
       "      <td>When Gates was a kid, he spent so much time re...</td>\n",
       "    </tr>\n",
       "    <tr>\n",
       "      <th>4</th>\n",
       "      <td>5</td>\n",
       "      <td>Warren Buffett</td>\n",
       "      <td>91.0</td>\n",
       "      <td>118000.0</td>\n",
       "      <td>2022</td>\n",
       "      <td>4</td>\n",
       "      <td>Finance &amp; Investments</td>\n",
       "      <td>Berkshire Hathaway</td>\n",
       "      <td>United States</td>\n",
       "      <td>Nebraska</td>\n",
       "      <td>...</td>\n",
       "      <td>Berkshire Hathaway</td>\n",
       "      <td>True</td>\n",
       "      <td>M</td>\n",
       "      <td>1930-08-30</td>\n",
       "      <td>CEO</td>\n",
       "      <td>5.0</td>\n",
       "      <td>Omaha, NE</td>\n",
       "      <td>NaN</td>\n",
       "      <td>Known as the \"Oracle of Omaha,\" Warren Buffett...</td>\n",
       "      <td>Buffett still lives in the same Omaha, Nebrask...</td>\n",
       "    </tr>\n",
       "  </tbody>\n",
       "</table>\n",
       "<p>5 rows × 22 columns</p>\n",
       "</div>"
      ],
      "text/plain": [
       "   rank                personName   age  finalWorth  year  month  \\\n",
       "0     1                 Elon Musk  50.0    219000.0  2022      4   \n",
       "1     2                Jeff Bezos  58.0    171000.0  2022      4   \n",
       "2     3  Bernard Arnault & family  73.0    158000.0  2022      4   \n",
       "3     4                Bill Gates  66.0    129000.0  2022      4   \n",
       "4     5            Warren Buffett  91.0    118000.0  2022      4   \n",
       "\n",
       "                category              source        country       state  ...  \\\n",
       "0             Automotive       Tesla, SpaceX  United States       Texas  ...   \n",
       "1             Technology              Amazon  United States  Washington  ...   \n",
       "2       Fashion & Retail                LVMH         France         NaN  ...   \n",
       "3             Technology           Microsoft  United States  Washington  ...   \n",
       "4  Finance & Investments  Berkshire Hathaway  United States    Nebraska  ...   \n",
       "\n",
       "                       organization selfMade gender   birthDate  \\\n",
       "0                             Tesla     True      M  1971-06-28   \n",
       "1                            Amazon     True      M  1964-01-12   \n",
       "2  LVMH Moët Hennessy Louis Vuitton    False      M  1949-03-05   \n",
       "3   Bill & Melinda Gates Foundation     True      M  1955-10-28   \n",
       "4                Berkshire Hathaway     True      M  1930-08-30   \n",
       "\n",
       "              title philanthropyScore                 residenceMsa  \\\n",
       "0               CEO               1.0                          NaN   \n",
       "1      Entrepreneur               1.0  Seattle-Tacoma-Bellevue, WA   \n",
       "2  Chairman and CEO               NaN                          NaN   \n",
       "3         Cofounder               4.0  Seattle-Tacoma-Bellevue, WA   \n",
       "4               CEO               5.0                    Omaha, NE   \n",
       "\n",
       "   numberOfSiblings                                                bio  \\\n",
       "0               NaN  Elon Musk is working to revolutionize transpor...   \n",
       "1               NaN  Jeff Bezos founded e-commerce giant Amazon in ...   \n",
       "2               NaN  Bernard Arnault oversees the LVMH empire of so...   \n",
       "3               NaN  Bill Gates turned his fortune from software fi...   \n",
       "4               NaN  Known as the \"Oracle of Omaha,\" Warren Buffett...   \n",
       "\n",
       "                                               about  \n",
       "0  Musk was accepted to a graduate program at Sta...  \n",
       "1  Growing up, Jeff Bezos worked summers on his g...  \n",
       "2  Arnault apparently wooed his wife, Helene Merc...  \n",
       "3  When Gates was a kid, he spent so much time re...  \n",
       "4  Buffett still lives in the same Omaha, Nebrask...  \n",
       "\n",
       "[5 rows x 22 columns]"
      ]
     },
     "execution_count": 26,
     "metadata": {},
     "output_type": "execute_result"
    }
   ],
   "source": [
    "df.head()"
   ]
  },
  {
   "cell_type": "code",
   "execution_count": 27,
   "id": "b93696c3",
   "metadata": {},
   "outputs": [
    {
     "data": {
      "text/plain": [
       "(2668, 22)"
      ]
     },
     "execution_count": 27,
     "metadata": {},
     "output_type": "execute_result"
    }
   ],
   "source": [
    "df.shape"
   ]
  },
  {
   "cell_type": "code",
   "execution_count": 28,
   "id": "5ec05c6c",
   "metadata": {},
   "outputs": [
    {
     "data": {
      "text/plain": [
       "Index(['rank', 'personName', 'age', 'finalWorth', 'year', 'month', 'category',\n",
       "       'source', 'country', 'state', 'city', 'countryOfCitizenship',\n",
       "       'organization', 'selfMade', 'gender', 'birthDate', 'title',\n",
       "       'philanthropyScore', 'residenceMsa', 'numberOfSiblings', 'bio',\n",
       "       'about'],\n",
       "      dtype='object')"
      ]
     },
     "execution_count": 28,
     "metadata": {},
     "output_type": "execute_result"
    }
   ],
   "source": [
    "df.columns"
   ]
  },
  {
   "cell_type": "markdown",
   "id": "2c3a8b31",
   "metadata": {},
   "source": [
    "## Data Preprocessing"
   ]
  },
  {
   "cell_type": "code",
   "execution_count": 29,
   "id": "ff8c82fd",
   "metadata": {},
   "outputs": [],
   "source": [
    "df = df.loc[:,[\"rank\",\"personName\",\"age\",\"finalWorth\",\"category\",\"country\",\"gender\"]] #selecting columns"
   ]
  },
  {
   "cell_type": "code",
   "execution_count": 30,
   "id": "4f3b1a1f",
   "metadata": {},
   "outputs": [
    {
     "data": {
      "text/html": [
       "<div>\n",
       "<style scoped>\n",
       "    .dataframe tbody tr th:only-of-type {\n",
       "        vertical-align: middle;\n",
       "    }\n",
       "\n",
       "    .dataframe tbody tr th {\n",
       "        vertical-align: top;\n",
       "    }\n",
       "\n",
       "    .dataframe thead th {\n",
       "        text-align: right;\n",
       "    }\n",
       "</style>\n",
       "<table border=\"1\" class=\"dataframe\">\n",
       "  <thead>\n",
       "    <tr style=\"text-align: right;\">\n",
       "      <th></th>\n",
       "      <th>rank</th>\n",
       "      <th>personName</th>\n",
       "      <th>age</th>\n",
       "      <th>finalWorth</th>\n",
       "      <th>category</th>\n",
       "      <th>country</th>\n",
       "      <th>gender</th>\n",
       "    </tr>\n",
       "  </thead>\n",
       "  <tbody>\n",
       "    <tr>\n",
       "      <th>0</th>\n",
       "      <td>1</td>\n",
       "      <td>Elon Musk</td>\n",
       "      <td>50.0</td>\n",
       "      <td>219000.0</td>\n",
       "      <td>Automotive</td>\n",
       "      <td>United States</td>\n",
       "      <td>M</td>\n",
       "    </tr>\n",
       "    <tr>\n",
       "      <th>1</th>\n",
       "      <td>2</td>\n",
       "      <td>Jeff Bezos</td>\n",
       "      <td>58.0</td>\n",
       "      <td>171000.0</td>\n",
       "      <td>Technology</td>\n",
       "      <td>United States</td>\n",
       "      <td>M</td>\n",
       "    </tr>\n",
       "    <tr>\n",
       "      <th>2</th>\n",
       "      <td>3</td>\n",
       "      <td>Bernard Arnault &amp; family</td>\n",
       "      <td>73.0</td>\n",
       "      <td>158000.0</td>\n",
       "      <td>Fashion &amp; Retail</td>\n",
       "      <td>France</td>\n",
       "      <td>M</td>\n",
       "    </tr>\n",
       "    <tr>\n",
       "      <th>3</th>\n",
       "      <td>4</td>\n",
       "      <td>Bill Gates</td>\n",
       "      <td>66.0</td>\n",
       "      <td>129000.0</td>\n",
       "      <td>Technology</td>\n",
       "      <td>United States</td>\n",
       "      <td>M</td>\n",
       "    </tr>\n",
       "    <tr>\n",
       "      <th>4</th>\n",
       "      <td>5</td>\n",
       "      <td>Warren Buffett</td>\n",
       "      <td>91.0</td>\n",
       "      <td>118000.0</td>\n",
       "      <td>Finance &amp; Investments</td>\n",
       "      <td>United States</td>\n",
       "      <td>M</td>\n",
       "    </tr>\n",
       "  </tbody>\n",
       "</table>\n",
       "</div>"
      ],
      "text/plain": [
       "   rank                personName   age  finalWorth               category  \\\n",
       "0     1                 Elon Musk  50.0    219000.0             Automotive   \n",
       "1     2                Jeff Bezos  58.0    171000.0             Technology   \n",
       "2     3  Bernard Arnault & family  73.0    158000.0       Fashion & Retail   \n",
       "3     4                Bill Gates  66.0    129000.0             Technology   \n",
       "4     5            Warren Buffett  91.0    118000.0  Finance & Investments   \n",
       "\n",
       "         country gender  \n",
       "0  United States      M  \n",
       "1  United States      M  \n",
       "2         France      M  \n",
       "3  United States      M  \n",
       "4  United States      M  "
      ]
     },
     "execution_count": 30,
     "metadata": {},
     "output_type": "execute_result"
    }
   ],
   "source": [
    "df.head()"
   ]
  },
  {
   "cell_type": "code",
   "execution_count": 31,
   "id": "f623fabc",
   "metadata": {},
   "outputs": [],
   "source": [
    "df=df.rename(columns={\"rank\":\"Sıra\",\"personName\":\"İsim\",\"age\":\"Yaş\",\n",
    "                      \"finalWorth\":\"Servet\",\"category\":\"Kategori\",\n",
    "                       \"country\":\"Ülke\", \"gender\":\"Cinsiyet\"}) #changing column names"
   ]
  },
  {
   "cell_type": "code",
   "execution_count": 32,
   "id": "82357bea",
   "metadata": {},
   "outputs": [
    {
     "data": {
      "text/html": [
       "<div>\n",
       "<style scoped>\n",
       "    .dataframe tbody tr th:only-of-type {\n",
       "        vertical-align: middle;\n",
       "    }\n",
       "\n",
       "    .dataframe tbody tr th {\n",
       "        vertical-align: top;\n",
       "    }\n",
       "\n",
       "    .dataframe thead th {\n",
       "        text-align: right;\n",
       "    }\n",
       "</style>\n",
       "<table border=\"1\" class=\"dataframe\">\n",
       "  <thead>\n",
       "    <tr style=\"text-align: right;\">\n",
       "      <th></th>\n",
       "      <th>Sıra</th>\n",
       "      <th>İsim</th>\n",
       "      <th>Yaş</th>\n",
       "      <th>Servet</th>\n",
       "      <th>Kategori</th>\n",
       "      <th>Ülke</th>\n",
       "      <th>Cinsiyet</th>\n",
       "    </tr>\n",
       "  </thead>\n",
       "  <tbody>\n",
       "    <tr>\n",
       "      <th>0</th>\n",
       "      <td>1</td>\n",
       "      <td>Elon Musk</td>\n",
       "      <td>50.0</td>\n",
       "      <td>219000.0</td>\n",
       "      <td>Automotive</td>\n",
       "      <td>United States</td>\n",
       "      <td>M</td>\n",
       "    </tr>\n",
       "    <tr>\n",
       "      <th>1</th>\n",
       "      <td>2</td>\n",
       "      <td>Jeff Bezos</td>\n",
       "      <td>58.0</td>\n",
       "      <td>171000.0</td>\n",
       "      <td>Technology</td>\n",
       "      <td>United States</td>\n",
       "      <td>M</td>\n",
       "    </tr>\n",
       "    <tr>\n",
       "      <th>2</th>\n",
       "      <td>3</td>\n",
       "      <td>Bernard Arnault &amp; family</td>\n",
       "      <td>73.0</td>\n",
       "      <td>158000.0</td>\n",
       "      <td>Fashion &amp; Retail</td>\n",
       "      <td>France</td>\n",
       "      <td>M</td>\n",
       "    </tr>\n",
       "    <tr>\n",
       "      <th>3</th>\n",
       "      <td>4</td>\n",
       "      <td>Bill Gates</td>\n",
       "      <td>66.0</td>\n",
       "      <td>129000.0</td>\n",
       "      <td>Technology</td>\n",
       "      <td>United States</td>\n",
       "      <td>M</td>\n",
       "    </tr>\n",
       "    <tr>\n",
       "      <th>4</th>\n",
       "      <td>5</td>\n",
       "      <td>Warren Buffett</td>\n",
       "      <td>91.0</td>\n",
       "      <td>118000.0</td>\n",
       "      <td>Finance &amp; Investments</td>\n",
       "      <td>United States</td>\n",
       "      <td>M</td>\n",
       "    </tr>\n",
       "  </tbody>\n",
       "</table>\n",
       "</div>"
      ],
      "text/plain": [
       "   Sıra                      İsim   Yaş    Servet               Kategori  \\\n",
       "0     1                 Elon Musk  50.0  219000.0             Automotive   \n",
       "1     2                Jeff Bezos  58.0  171000.0             Technology   \n",
       "2     3  Bernard Arnault & family  73.0  158000.0       Fashion & Retail   \n",
       "3     4                Bill Gates  66.0  129000.0             Technology   \n",
       "4     5            Warren Buffett  91.0  118000.0  Finance & Investments   \n",
       "\n",
       "            Ülke Cinsiyet  \n",
       "0  United States        M  \n",
       "1  United States        M  \n",
       "2         France        M  \n",
       "3  United States        M  \n",
       "4  United States        M  "
      ]
     },
     "execution_count": 32,
     "metadata": {},
     "output_type": "execute_result"
    }
   ],
   "source": [
    "df.head()"
   ]
  },
  {
   "cell_type": "code",
   "execution_count": 33,
   "id": "0aca69fa",
   "metadata": {},
   "outputs": [],
   "source": [
    "df = df.set_index(\"Sıra\") #setting index"
   ]
  },
  {
   "cell_type": "code",
   "execution_count": 34,
   "id": "50810238",
   "metadata": {},
   "outputs": [
    {
     "data": {
      "text/html": [
       "<div>\n",
       "<style scoped>\n",
       "    .dataframe tbody tr th:only-of-type {\n",
       "        vertical-align: middle;\n",
       "    }\n",
       "\n",
       "    .dataframe tbody tr th {\n",
       "        vertical-align: top;\n",
       "    }\n",
       "\n",
       "    .dataframe thead th {\n",
       "        text-align: right;\n",
       "    }\n",
       "</style>\n",
       "<table border=\"1\" class=\"dataframe\">\n",
       "  <thead>\n",
       "    <tr style=\"text-align: right;\">\n",
       "      <th></th>\n",
       "      <th>İsim</th>\n",
       "      <th>Yaş</th>\n",
       "      <th>Servet</th>\n",
       "      <th>Kategori</th>\n",
       "      <th>Ülke</th>\n",
       "      <th>Cinsiyet</th>\n",
       "    </tr>\n",
       "    <tr>\n",
       "      <th>Sıra</th>\n",
       "      <th></th>\n",
       "      <th></th>\n",
       "      <th></th>\n",
       "      <th></th>\n",
       "      <th></th>\n",
       "      <th></th>\n",
       "    </tr>\n",
       "  </thead>\n",
       "  <tbody>\n",
       "    <tr>\n",
       "      <th>1</th>\n",
       "      <td>Elon Musk</td>\n",
       "      <td>50.0</td>\n",
       "      <td>219000.0</td>\n",
       "      <td>Automotive</td>\n",
       "      <td>United States</td>\n",
       "      <td>M</td>\n",
       "    </tr>\n",
       "    <tr>\n",
       "      <th>2</th>\n",
       "      <td>Jeff Bezos</td>\n",
       "      <td>58.0</td>\n",
       "      <td>171000.0</td>\n",
       "      <td>Technology</td>\n",
       "      <td>United States</td>\n",
       "      <td>M</td>\n",
       "    </tr>\n",
       "    <tr>\n",
       "      <th>3</th>\n",
       "      <td>Bernard Arnault &amp; family</td>\n",
       "      <td>73.0</td>\n",
       "      <td>158000.0</td>\n",
       "      <td>Fashion &amp; Retail</td>\n",
       "      <td>France</td>\n",
       "      <td>M</td>\n",
       "    </tr>\n",
       "    <tr>\n",
       "      <th>4</th>\n",
       "      <td>Bill Gates</td>\n",
       "      <td>66.0</td>\n",
       "      <td>129000.0</td>\n",
       "      <td>Technology</td>\n",
       "      <td>United States</td>\n",
       "      <td>M</td>\n",
       "    </tr>\n",
       "    <tr>\n",
       "      <th>5</th>\n",
       "      <td>Warren Buffett</td>\n",
       "      <td>91.0</td>\n",
       "      <td>118000.0</td>\n",
       "      <td>Finance &amp; Investments</td>\n",
       "      <td>United States</td>\n",
       "      <td>M</td>\n",
       "    </tr>\n",
       "  </tbody>\n",
       "</table>\n",
       "</div>"
      ],
      "text/plain": [
       "                          İsim   Yaş    Servet               Kategori  \\\n",
       "Sıra                                                                    \n",
       "1                    Elon Musk  50.0  219000.0             Automotive   \n",
       "2                   Jeff Bezos  58.0  171000.0             Technology   \n",
       "3     Bernard Arnault & family  73.0  158000.0       Fashion & Retail   \n",
       "4                   Bill Gates  66.0  129000.0             Technology   \n",
       "5               Warren Buffett  91.0  118000.0  Finance & Investments   \n",
       "\n",
       "               Ülke Cinsiyet  \n",
       "Sıra                          \n",
       "1     United States        M  \n",
       "2     United States        M  \n",
       "3            France        M  \n",
       "4     United States        M  \n",
       "5     United States        M  "
      ]
     },
     "execution_count": 34,
     "metadata": {},
     "output_type": "execute_result"
    }
   ],
   "source": [
    "df.head()"
   ]
  },
  {
   "cell_type": "code",
   "execution_count": 35,
   "id": "7c634d35",
   "metadata": {},
   "outputs": [
    {
     "data": {
      "text/plain": [
       "İsim         object\n",
       "Yaş         float64\n",
       "Servet      float64\n",
       "Kategori     object\n",
       "Ülke         object\n",
       "Cinsiyet     object\n",
       "dtype: object"
      ]
     },
     "execution_count": 35,
     "metadata": {},
     "output_type": "execute_result"
    }
   ],
   "source": [
    "df.dtypes"
   ]
  },
  {
   "cell_type": "code",
   "execution_count": 36,
   "id": "5d3321dc",
   "metadata": {},
   "outputs": [
    {
     "data": {
      "text/plain": [
       "İsim         0\n",
       "Yaş         86\n",
       "Servet       0\n",
       "Kategori     0\n",
       "Ülke        13\n",
       "Cinsiyet    16\n",
       "dtype: int64"
      ]
     },
     "execution_count": 36,
     "metadata": {},
     "output_type": "execute_result"
    }
   ],
   "source": [
    "df.isnull().sum() #checking for missing values"
   ]
  },
  {
   "cell_type": "code",
   "execution_count": 37,
   "id": "5594abc0",
   "metadata": {},
   "outputs": [],
   "source": [
    "df.dropna(inplace=True) #dropping missing values"
   ]
  },
  {
   "cell_type": "code",
   "execution_count": 38,
   "id": "7c8eecbd",
   "metadata": {},
   "outputs": [
    {
     "data": {
      "text/plain": [
       "(2568, 6)"
      ]
     },
     "execution_count": 38,
     "metadata": {},
     "output_type": "execute_result"
    }
   ],
   "source": [
    "df.shape"
   ]
  },
  {
   "cell_type": "markdown",
   "id": "23c6b5cf",
   "metadata": {},
   "source": [
    "## Informations about gender of the richest in the world"
   ]
  },
  {
   "cell_type": "code",
   "execution_count": 39,
   "id": "36d3b74a",
   "metadata": {},
   "outputs": [
    {
     "data": {
      "text/plain": [
       "Cinsiyet\n",
       "M    2282\n",
       "F     286\n",
       "Name: count, dtype: int64"
      ]
     },
     "execution_count": 39,
     "metadata": {},
     "output_type": "execute_result"
    }
   ],
   "source": [
    "df[\"Cinsiyet\"].value_counts() #checking for unique values"
   ]
  },
  {
   "cell_type": "code",
   "execution_count": 40,
   "id": "58f3c8c1",
   "metadata": {},
   "outputs": [
    {
     "data": {
      "text/plain": [
       "Cinsiyet\n",
       "M    0.888629\n",
       "F    0.111371\n",
       "Name: proportion, dtype: float64"
      ]
     },
     "execution_count": 40,
     "metadata": {},
     "output_type": "execute_result"
    }
   ],
   "source": [
    "df[\"Cinsiyet\"].value_counts(normalize=True) #checking for unique values"
   ]
  },
  {
   "cell_type": "code",
   "execution_count": 41,
   "id": "32f0282d",
   "metadata": {},
   "outputs": [
    {
     "data": {
      "text/plain": [
       "Cinsiyet\n",
       "M    0.826087\n",
       "F    0.173913\n",
       "Name: proportion, dtype: float64"
      ]
     },
     "execution_count": 41,
     "metadata": {},
     "output_type": "execute_result"
    }
   ],
   "source": [
    "df[df[\"Ülke\"]==\"Turkey\"].Cinsiyet.value_counts(normalize=True)"
   ]
  },
  {
   "cell_type": "code",
   "execution_count": 42,
   "id": "b44be4e0",
   "metadata": {},
   "outputs": [
    {
     "data": {
      "text/plain": [
       "array(['United States', 'France', 'India', 'Mexico', 'China', 'Singapore',\n",
       "       'Spain', 'Canada', 'Germany', 'Switzerland', 'Belgium',\n",
       "       'Hong Kong', 'United Kingdom', 'Australia', 'Austria', 'Italy',\n",
       "       'Japan', 'Bahamas', 'Indonesia', 'Chile', 'Russia', 'Sweden',\n",
       "       'Czechia', 'Monaco', 'United Arab Emirates', 'Nigeria', 'Denmark',\n",
       "       'Thailand', 'Malaysia', 'Brazil', 'Colombia', 'New Zealand',\n",
       "       'South Korea', 'South Africa', 'Philippines', 'Egypt', 'Taiwan',\n",
       "       'Israel', 'Vietnam', 'Poland', 'Norway', 'Cayman Islands',\n",
       "       'Netherlands', 'Eswatini (Swaziland)', 'Peru', 'Algeria',\n",
       "       'Kazakhstan', 'Georgia', 'Portugal', 'British Virgin Islands',\n",
       "       'Turkey', 'Finland', 'Ukraine', 'Ireland', 'Bermuda', 'Lebanon',\n",
       "       'Argentina', 'Cambodia', 'Oman', 'Guernsey', 'Liechtenstein',\n",
       "       'Turks and Caicos Islands', 'Qatar', 'Morocco', 'Uruguay',\n",
       "       'Slovakia', 'Romania', 'Nepal', 'Tanzania', 'Bahrain', 'Greece',\n",
       "       'Hungary', 'Andorra'], dtype=object)"
      ]
     },
     "execution_count": 42,
     "metadata": {},
     "output_type": "execute_result"
    }
   ],
   "source": [
    "df[\"Ülke\"].unique()"
   ]
  },
  {
   "cell_type": "code",
   "execution_count": 43,
   "id": "e40deb6b",
   "metadata": {},
   "outputs": [
    {
     "data": {
      "text/plain": [
       "Cinsiyet\n",
       "M    0.952381\n",
       "F    0.047619\n",
       "Name: proportion, dtype: float64"
      ]
     },
     "execution_count": 43,
     "metadata": {},
     "output_type": "execute_result"
    }
   ],
   "source": [
    "df[df[\"Ülke\"]==\"Canada\"].Cinsiyet.value_counts(normalize=True)"
   ]
  },
  {
   "cell_type": "code",
   "execution_count": 44,
   "id": "be6992d4",
   "metadata": {},
   "outputs": [],
   "source": [
    "df_cinsiyet = df.groupby([\"Cinsiyet\"])"
   ]
  },
  {
   "cell_type": "code",
   "execution_count": 45,
   "id": "d9ffd61b",
   "metadata": {},
   "outputs": [
    {
     "data": {
      "text/plain": [
       "Cinsiyet\n",
       "F    62.937063\n",
       "M    64.409290\n",
       "Name: Yaş, dtype: float64"
      ]
     },
     "execution_count": 45,
     "metadata": {},
     "output_type": "execute_result"
    }
   ],
   "source": [
    "df_cinsiyet[\"Yaş\"].mean()"
   ]
  },
  {
   "cell_type": "code",
   "execution_count": 46,
   "id": "5c5a0b7b",
   "metadata": {},
   "outputs": [
    {
     "ename": "ModuleNotFoundError",
     "evalue": "No module named 'seaborn'",
     "output_type": "error",
     "traceback": [
      "\u001b[1;31m---------------------------------------------------------------------------\u001b[0m",
      "\u001b[1;31mModuleNotFoundError\u001b[0m                       Traceback (most recent call last)",
      "Cell \u001b[1;32mIn[46], line 1\u001b[0m\n\u001b[1;32m----> 1\u001b[0m \u001b[38;5;28;01mimport\u001b[39;00m \u001b[38;5;21;01mseaborn\u001b[39;00m \u001b[38;5;28;01mas\u001b[39;00m \u001b[38;5;21;01msns\u001b[39;00m\n\u001b[0;32m      2\u001b[0m sns\u001b[38;5;241m.\u001b[39mset_theme()\n\u001b[0;32m      3\u001b[0m sns\u001b[38;5;241m.\u001b[39mset(rc \u001b[38;5;241m=\u001b[39m {\u001b[38;5;124m\"\u001b[39m\u001b[38;5;124mfigure.dpi\u001b[39m\u001b[38;5;124m\"\u001b[39m:\u001b[38;5;241m300\u001b[39m})\n",
      "\u001b[1;31mModuleNotFoundError\u001b[0m: No module named 'seaborn'"
     ]
    }
   ],
   "source": [
    "import seaborn as sns\n",
    "sns.set_theme()\n",
    "sns.set(rc = {\"figure.dpi\":300})\n",
    "import warnings\n",
    "warnings.filterwarnings(\"ignore\")"
   ]
  },
  {
   "cell_type": "code",
   "execution_count": null,
   "id": "fc292357",
   "metadata": {},
   "outputs": [],
   "source": [
    "df_cinsiyet.size().plot(kind = \"bar\")"
   ]
  },
  {
   "cell_type": "markdown",
   "id": "4dbb8506",
   "metadata": {},
   "source": [
    "## Who are the top 10 richest in the world?"
   ]
  },
  {
   "cell_type": "code",
   "execution_count": null,
   "id": "222c2bf6",
   "metadata": {},
   "outputs": [],
   "source": [
    "sns.barplot(y = df[\"İsim\"][:10], x = df[\"Servet\"][:10])"
   ]
  },
  {
   "cell_type": "markdown",
   "id": "e68c5bbe",
   "metadata": {},
   "source": [
    "## Which country has the highest number of billionaires?"
   ]
  },
  {
   "cell_type": "code",
   "execution_count": null,
   "id": "592eefdf",
   "metadata": {},
   "outputs": [],
   "source": [
    "len(df[\"Ülke\"].unique())"
   ]
  },
  {
   "cell_type": "code",
   "execution_count": 28,
   "id": "735d0233",
   "metadata": {},
   "outputs": [],
   "source": [
    "df_ulke = df.groupby(\"Ülke\")"
   ]
  },
  {
   "cell_type": "code",
   "execution_count": 29,
   "id": "5113b1c9",
   "metadata": {},
   "outputs": [],
   "source": [
    "df_ulke_sayi = pd.DataFrame(df_ulke.size().sort_values(ascending=False), \n",
    "                           columns = [\"Sayı\"])"
   ]
  },
  {
   "cell_type": "code",
   "execution_count": null,
   "id": "04656dd8",
   "metadata": {},
   "outputs": [],
   "source": [
    "df_ulke_sayi.head()"
   ]
  },
  {
   "cell_type": "code",
   "execution_count": null,
   "id": "c07bc75b",
   "metadata": {},
   "outputs": [],
   "source": [
    "sns.barplot(x = df_ulke_sayi[\"Sayı\"][:10] , y = df_ulke_sayi.index[:10])"
   ]
  },
  {
   "cell_type": "markdown",
   "id": "f80be375",
   "metadata": {},
   "source": [
    "## Who are the Top 10 richest in the Turkey?"
   ]
  },
  {
   "cell_type": "code",
   "execution_count": 35,
   "id": "3c2795a7",
   "metadata": {},
   "outputs": [],
   "source": [
    "df_turkiye = df[df[\"Ülke\"]==\"Turkey\"]"
   ]
  },
  {
   "cell_type": "code",
   "execution_count": null,
   "id": "6aa8bb60",
   "metadata": {},
   "outputs": [],
   "source": [
    "df_turkiye[\"İsim\"].count()"
   ]
  },
  {
   "cell_type": "code",
   "execution_count": null,
   "id": "415e05a1",
   "metadata": {},
   "outputs": [],
   "source": [
    "df_turkiye.head(10)"
   ]
  },
  {
   "cell_type": "code",
   "execution_count": null,
   "id": "266729b4",
   "metadata": {
    "scrolled": true
   },
   "outputs": [],
   "source": [
    "sns.barplot(y=df_turkiye[\"İsim\"][:10], x = df_turkiye[\"Servet\"][:10])"
   ]
  },
  {
   "cell_type": "markdown",
   "id": "8b1f22ec",
   "metadata": {},
   "source": [
    "## Which Industry has the most billionaires in it?"
   ]
  },
  {
   "cell_type": "code",
   "execution_count": null,
   "id": "31b761ce",
   "metadata": {},
   "outputs": [],
   "source": [
    "df[\"Kategori\"].unique()"
   ]
  },
  {
   "cell_type": "code",
   "execution_count": 40,
   "id": "7f1d969c",
   "metadata": {},
   "outputs": [],
   "source": [
    "df[\"Kategori\"]=df[\"Kategori\"].apply(lambda x:x.replace(\" \",\"\")).\\\n",
    "    apply(lambda x:x.replace(\"&\",\"_\"))"
   ]
  },
  {
   "cell_type": "code",
   "execution_count": null,
   "id": "ddc0a2e0",
   "metadata": {},
   "outputs": [],
   "source": [
    "df[\"Kategori\"].unique()"
   ]
  },
  {
   "cell_type": "code",
   "execution_count": 42,
   "id": "3db37986",
   "metadata": {},
   "outputs": [],
   "source": [
    "df_kategori = df.groupby(\"Kategori\").size()"
   ]
  },
  {
   "cell_type": "code",
   "execution_count": null,
   "id": "e9e966ce",
   "metadata": {},
   "outputs": [],
   "source": [
    "df_kategori.head()"
   ]
  },
  {
   "cell_type": "code",
   "execution_count": 44,
   "id": "f934b2e8",
   "metadata": {},
   "outputs": [],
   "source": [
    "df_kategori = df_kategori.to_frame()"
   ]
  },
  {
   "cell_type": "code",
   "execution_count": null,
   "id": "0a156b79",
   "metadata": {},
   "outputs": [],
   "source": [
    "df_kategori.head()"
   ]
  },
  {
   "cell_type": "code",
   "execution_count": 46,
   "id": "dd304570",
   "metadata": {},
   "outputs": [],
   "source": [
    "df_kategori = df_kategori.rename(columns={0:\"Sayi\"}).sort_values(by=\"Sayi\",\n",
    "                                                                ascending=False)"
   ]
  },
  {
   "cell_type": "code",
   "execution_count": null,
   "id": "25e13b15",
   "metadata": {},
   "outputs": [],
   "source": [
    "df_kategori.head()"
   ]
  },
  {
   "cell_type": "code",
   "execution_count": null,
   "id": "784bc941",
   "metadata": {},
   "outputs": [],
   "source": [
    "sns.barplot( x = df_kategori[\"Sayi\"][:10], y = df_kategori.index[:10])"
   ]
  },
  {
   "cell_type": "markdown",
   "id": "5a7a9dff",
   "metadata": {},
   "source": [
    "## Is there a relationship between money and age?"
   ]
  },
  {
   "cell_type": "code",
   "execution_count": null,
   "id": "5e432619",
   "metadata": {},
   "outputs": [],
   "source": [
    "sns.scatterplot(df[\"Yaş\"],df[\"Servet\"])"
   ]
  },
  {
   "cell_type": "markdown",
   "id": "20abc0f5",
   "metadata": {},
   "source": [
    "## The distribution of age"
   ]
  },
  {
   "cell_type": "code",
   "execution_count": null,
   "id": "ba544adc",
   "metadata": {},
   "outputs": [],
   "source": [
    "sns.histplot(df[\"Yaş\"])"
   ]
  },
  {
   "cell_type": "markdown",
   "id": "99a2ffff",
   "metadata": {},
   "source": [
    "## The youngest billionaires"
   ]
  },
  {
   "cell_type": "code",
   "execution_count": null,
   "id": "5d11195b",
   "metadata": {},
   "outputs": [],
   "source": [
    "df_yas = df.sort_values(by=\"Yaş\")\n",
    "df_yas"
   ]
  },
  {
   "cell_type": "code",
   "execution_count": null,
   "id": "0f82fbfd",
   "metadata": {},
   "outputs": [],
   "source": [
    "sns.barplot(y=df_yas[\"İsim\"][:10], x = df_yas[\"Yaş\"][:10])"
   ]
  },
  {
   "cell_type": "markdown",
   "id": "3cea6d8e",
   "metadata": {},
   "source": [
    "Don't forget to follow us on [YouTube](http://youtube.com/tirendazacademy) | [Medium](http://tirendazacademy.medium.com) | [Twitter](http://twitter.com/tirendazacademy) | [GitHub](http://github.com/tirendazacademy) | [Linkedin](https://www.linkedin.com/in/tirendaz-academy) | [Kaggle](https://www.kaggle.com/tirendazacademy) 😎"
   ]
  }
 ],
 "metadata": {
  "kernelspec": {
   "display_name": "Python 3",
   "language": "python",
   "name": "python3"
  },
  "language_info": {
   "codemirror_mode": {
    "name": "ipython",
    "version": 3
   },
   "file_extension": ".py",
   "mimetype": "text/x-python",
   "name": "python",
   "nbconvert_exporter": "python",
   "pygments_lexer": "ipython3",
   "version": "3.12.0"
  }
 },
 "nbformat": 4,
 "nbformat_minor": 5
}

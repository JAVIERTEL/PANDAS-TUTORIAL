{
 "cells": [
  {
   "cell_type": "markdown",
   "metadata": {},
   "source": [
    "# What is Groupby in Pandas?"
   ]
  },
  {
   "cell_type": "markdown",
   "metadata": {},
   "source": [
    "Hi Guys, Welcome to [Tirendaz Academy](https://youtube.com/c/tirendazacademy) 😀\n",
    "</br>\n",
    "In this notebook, I'm going to show the groupby method in Pandas.\n",
    "</br>\n",
    "Happy Learning 🐱‍🏍 "
   ]
  },
  {
   "cell_type": "code",
   "execution_count": 1,
   "metadata": {},
   "outputs": [],
   "source": [
    "import pandas as pd\n",
    "import numpy as np"
   ]
  },
  {
   "cell_type": "code",
   "execution_count": 2,
   "metadata": {},
   "outputs": [
    {
     "data": {
      "text/html": [
       "<div>\n",
       "<style scoped>\n",
       "    .dataframe tbody tr th:only-of-type {\n",
       "        vertical-align: middle;\n",
       "    }\n",
       "\n",
       "    .dataframe tbody tr th {\n",
       "        vertical-align: top;\n",
       "    }\n",
       "\n",
       "    .dataframe thead th {\n",
       "        text-align: right;\n",
       "    }\n",
       "</style>\n",
       "<table border=\"1\" class=\"dataframe\">\n",
       "  <thead>\n",
       "    <tr style=\"text-align: right;\">\n",
       "      <th></th>\n",
       "      <th>key1</th>\n",
       "      <th>key2</th>\n",
       "      <th>data1</th>\n",
       "      <th>data2</th>\n",
       "    </tr>\n",
       "  </thead>\n",
       "  <tbody>\n",
       "    <tr>\n",
       "      <th>0</th>\n",
       "      <td>a</td>\n",
       "      <td>one</td>\n",
       "      <td>2.151827</td>\n",
       "      <td>1.495032</td>\n",
       "    </tr>\n",
       "    <tr>\n",
       "      <th>1</th>\n",
       "      <td>a</td>\n",
       "      <td>two</td>\n",
       "      <td>-0.487813</td>\n",
       "      <td>-0.084666</td>\n",
       "    </tr>\n",
       "    <tr>\n",
       "      <th>2</th>\n",
       "      <td>b</td>\n",
       "      <td>three</td>\n",
       "      <td>0.547705</td>\n",
       "      <td>0.605679</td>\n",
       "    </tr>\n",
       "    <tr>\n",
       "      <th>3</th>\n",
       "      <td>b</td>\n",
       "      <td>one</td>\n",
       "      <td>1.081165</td>\n",
       "      <td>-0.353946</td>\n",
       "    </tr>\n",
       "    <tr>\n",
       "      <th>4</th>\n",
       "      <td>a</td>\n",
       "      <td>two</td>\n",
       "      <td>0.831665</td>\n",
       "      <td>-0.431025</td>\n",
       "    </tr>\n",
       "    <tr>\n",
       "      <th>5</th>\n",
       "      <td>b</td>\n",
       "      <td>three</td>\n",
       "      <td>0.197081</td>\n",
       "      <td>0.301316</td>\n",
       "    </tr>\n",
       "  </tbody>\n",
       "</table>\n",
       "</div>"
      ],
      "text/plain": [
       "  key1   key2     data1     data2\n",
       "0    a    one  2.151827  1.495032\n",
       "1    a    two -0.487813 -0.084666\n",
       "2    b  three  0.547705  0.605679\n",
       "3    b    one  1.081165 -0.353946\n",
       "4    a    two  0.831665 -0.431025\n",
       "5    b  three  0.197081  0.301316"
      ]
     },
     "execution_count": 2,
     "metadata": {},
     "output_type": "execute_result"
    }
   ],
   "source": [
    "df=pd.DataFrame(\n",
    "    {\"key1\":list(\"aabbab\"),\n",
    "     \"key2\":[\"one\",\"two\",\"three\"]*2,\n",
    "     \"data1\":np.random.randn(6),\n",
    "     \"data2\":np.random.randn(6)})\n",
    "df"
   ]
  },
  {
   "cell_type": "code",
   "execution_count": 3,
   "metadata": {},
   "outputs": [],
   "source": [
    "group=df[\"data1\"].groupby(df[\"key1\"])  #agrupa los datos de data 1 por key"
   ]
  },
  {
   "cell_type": "code",
   "execution_count": 14,
   "metadata": {},
   "outputs": [
    {
     "name": "stdout",
     "output_type": "stream",
     "text": [
      "<pandas.core.groupby.generic.SeriesGroupBy object at 0x0000019F7A66AF60>\n"
     ]
    }
   ],
   "source": [
    "group"
   ]
  },
  {
   "cell_type": "code",
   "execution_count": 15,
   "metadata": {},
   "outputs": [
    {
     "data": {
      "text/plain": [
       "key1\n",
       "a    0.831893\n",
       "b    0.608650\n",
       "Name: data1, dtype: float64"
      ]
     },
     "execution_count": 15,
     "metadata": {},
     "output_type": "execute_result"
    }
   ],
   "source": [
    "group.mean()"
   ]
  },
  {
   "cell_type": "code",
   "execution_count": 16,
   "metadata": {},
   "outputs": [
    {
     "data": {
      "text/plain": [
       "key1  key2 \n",
       "a     one      2.151827\n",
       "      two      0.171926\n",
       "b     one      1.081165\n",
       "      three    0.372393\n",
       "Name: data1, dtype: float64"
      ]
     },
     "execution_count": 16,
     "metadata": {},
     "output_type": "execute_result"
    }
   ],
   "source": [
    "ave=df[\"data1\"].groupby([df[\"key1\"],\n",
    "                         df[\"key2\"]]).mean() #agrupa los datos de data 1 por key1 y key2 y hace la media\n",
    "ave"
   ]
  },
  {
   "cell_type": "code",
   "execution_count": 17,
   "metadata": {},
   "outputs": [
    {
     "data": {
      "text/html": [
       "<div>\n",
       "<style scoped>\n",
       "    .dataframe tbody tr th:only-of-type {\n",
       "        vertical-align: middle;\n",
       "    }\n",
       "\n",
       "    .dataframe tbody tr th {\n",
       "        vertical-align: top;\n",
       "    }\n",
       "\n",
       "    .dataframe thead th {\n",
       "        text-align: right;\n",
       "    }\n",
       "</style>\n",
       "<table border=\"1\" class=\"dataframe\">\n",
       "  <thead>\n",
       "    <tr style=\"text-align: right;\">\n",
       "      <th>key2</th>\n",
       "      <th>one</th>\n",
       "      <th>three</th>\n",
       "      <th>two</th>\n",
       "    </tr>\n",
       "    <tr>\n",
       "      <th>key1</th>\n",
       "      <th></th>\n",
       "      <th></th>\n",
       "      <th></th>\n",
       "    </tr>\n",
       "  </thead>\n",
       "  <tbody>\n",
       "    <tr>\n",
       "      <th>a</th>\n",
       "      <td>2.151827</td>\n",
       "      <td>NaN</td>\n",
       "      <td>0.171926</td>\n",
       "    </tr>\n",
       "    <tr>\n",
       "      <th>b</th>\n",
       "      <td>1.081165</td>\n",
       "      <td>0.372393</td>\n",
       "      <td>NaN</td>\n",
       "    </tr>\n",
       "  </tbody>\n",
       "</table>\n",
       "</div>"
      ],
      "text/plain": [
       "key2       one     three       two\n",
       "key1                              \n",
       "a     2.151827       NaN  0.171926\n",
       "b     1.081165  0.372393       NaN"
      ]
     },
     "execution_count": 17,
     "metadata": {},
     "output_type": "execute_result"
    }
   ],
   "source": [
    "ave.unstack() #forma una tabla con los datos de key2 como columnas"
   ]
  },
  {
   "cell_type": "code",
   "execution_count": 19,
   "metadata": {},
   "outputs": [
    {
     "ename": "AttributeError",
     "evalue": "'DataFrame' object has no attribute 'group'",
     "output_type": "error",
     "traceback": [
      "\u001b[1;31m---------------------------------------------------------------------------\u001b[0m",
      "\u001b[1;31mAttributeError\u001b[0m                            Traceback (most recent call last)",
      "\u001b[1;32m~\\AppData\\Local\\Temp\\ipykernel_19676\\2210957505.py\u001b[0m in \u001b[0;36m?\u001b[1;34m()\u001b[0m\n\u001b[1;32m----> 1\u001b[1;33m \u001b[0mdf\u001b[0m\u001b[1;33m.\u001b[0m\u001b[0mgroup\u001b[0m\u001b[1;33m(\u001b[0m\u001b[1;34m\"key1\"\u001b[0m\u001b[1;33m)\u001b[0m\u001b[1;33m.\u001b[0m\u001b[0mmean\u001b[0m\u001b[1;33m(\u001b[0m\u001b[1;33m)\u001b[0m \u001b[1;31m#no entiendo\u001b[0m\u001b[1;33m\u001b[0m\u001b[1;33m\u001b[0m\u001b[0m\n\u001b[0m\u001b[0;32m      2\u001b[0m \u001b[1;33m\u001b[0m\u001b[0m\n",
      "\u001b[1;32mc:\\Users\\javie\\AppData\\Local\\Programs\\Python\\Python312\\Lib\\site-packages\\pandas\\core\\generic.py\u001b[0m in \u001b[0;36m?\u001b[1;34m(self, name)\u001b[0m\n\u001b[0;32m   6295\u001b[0m             \u001b[1;32mand\u001b[0m \u001b[0mname\u001b[0m \u001b[1;32mnot\u001b[0m \u001b[1;32min\u001b[0m \u001b[0mself\u001b[0m\u001b[1;33m.\u001b[0m\u001b[0m_accessors\u001b[0m\u001b[1;33m\u001b[0m\u001b[1;33m\u001b[0m\u001b[0m\n\u001b[0;32m   6296\u001b[0m             \u001b[1;32mand\u001b[0m \u001b[0mself\u001b[0m\u001b[1;33m.\u001b[0m\u001b[0m_info_axis\u001b[0m\u001b[1;33m.\u001b[0m\u001b[0m_can_hold_identifiers_and_holds_name\u001b[0m\u001b[1;33m(\u001b[0m\u001b[0mname\u001b[0m\u001b[1;33m)\u001b[0m\u001b[1;33m\u001b[0m\u001b[1;33m\u001b[0m\u001b[0m\n\u001b[0;32m   6297\u001b[0m         \u001b[1;33m)\u001b[0m\u001b[1;33m:\u001b[0m\u001b[1;33m\u001b[0m\u001b[1;33m\u001b[0m\u001b[0m\n\u001b[0;32m   6298\u001b[0m             \u001b[1;32mreturn\u001b[0m \u001b[0mself\u001b[0m\u001b[1;33m[\u001b[0m\u001b[0mname\u001b[0m\u001b[1;33m]\u001b[0m\u001b[1;33m\u001b[0m\u001b[1;33m\u001b[0m\u001b[0m\n\u001b[1;32m-> 6299\u001b[1;33m         \u001b[1;32mreturn\u001b[0m \u001b[0mobject\u001b[0m\u001b[1;33m.\u001b[0m\u001b[0m__getattribute__\u001b[0m\u001b[1;33m(\u001b[0m\u001b[0mself\u001b[0m\u001b[1;33m,\u001b[0m \u001b[0mname\u001b[0m\u001b[1;33m)\u001b[0m\u001b[1;33m\u001b[0m\u001b[1;33m\u001b[0m\u001b[0m\n\u001b[0m",
      "\u001b[1;31mAttributeError\u001b[0m: 'DataFrame' object has no attribute 'group'"
     ]
    }
   ],
   "source": [
    "df.groupby(\"key1\").mean() #no entiendo\n",
    "\n"
   ]
  },
  {
   "cell_type": "code",
   "execution_count": 9,
   "metadata": {},
   "outputs": [
    {
     "data": {
      "text/html": [
       "<div>\n",
       "<style scoped>\n",
       "    .dataframe tbody tr th:only-of-type {\n",
       "        vertical-align: middle;\n",
       "    }\n",
       "\n",
       "    .dataframe tbody tr th {\n",
       "        vertical-align: top;\n",
       "    }\n",
       "\n",
       "    .dataframe thead th {\n",
       "        text-align: right;\n",
       "    }\n",
       "</style>\n",
       "<table border=\"1\" class=\"dataframe\">\n",
       "  <thead>\n",
       "    <tr style=\"text-align: right;\">\n",
       "      <th></th>\n",
       "      <th></th>\n",
       "      <th>data1</th>\n",
       "      <th>data2</th>\n",
       "    </tr>\n",
       "    <tr>\n",
       "      <th>key1</th>\n",
       "      <th>key2</th>\n",
       "      <th></th>\n",
       "      <th></th>\n",
       "    </tr>\n",
       "  </thead>\n",
       "  <tbody>\n",
       "    <tr>\n",
       "      <th rowspan=\"2\" valign=\"top\">a</th>\n",
       "      <th>one</th>\n",
       "      <td>0.128979</td>\n",
       "      <td>0.903436</td>\n",
       "    </tr>\n",
       "    <tr>\n",
       "      <th>two</th>\n",
       "      <td>-0.656807</td>\n",
       "      <td>0.243476</td>\n",
       "    </tr>\n",
       "    <tr>\n",
       "      <th rowspan=\"2\" valign=\"top\">b</th>\n",
       "      <th>one</th>\n",
       "      <td>2.135132</td>\n",
       "      <td>-0.996191</td>\n",
       "    </tr>\n",
       "    <tr>\n",
       "      <th>three</th>\n",
       "      <td>-0.335856</td>\n",
       "      <td>-0.324653</td>\n",
       "    </tr>\n",
       "  </tbody>\n",
       "</table>\n",
       "</div>"
      ],
      "text/plain": [
       "               data1     data2\n",
       "key1 key2                     \n",
       "a    one    0.128979  0.903436\n",
       "     two   -0.656807  0.243476\n",
       "b    one    2.135132 -0.996191\n",
       "     three -0.335856 -0.324653"
      ]
     },
     "execution_count": 9,
     "metadata": {},
     "output_type": "execute_result"
    }
   ],
   "source": [
    "df.groupby([\"key1\",\"key2\"]).mean()  #agrupa los datos por key1 y key2 y hace la media"
   ]
  },
  {
   "cell_type": "markdown",
   "metadata": {},
   "source": [
    "## Iterating over Groups"
   ]
  },
  {
   "cell_type": "code",
   "execution_count": 22,
   "metadata": {},
   "outputs": [
    {
     "name": "stdout",
     "output_type": "stream",
     "text": [
      "a\n",
      "  key1 key2     data1     data2\n",
      "0    a  one  2.151827  1.495032\n",
      "1    a  two -0.487813 -0.084666\n",
      "4    a  two  0.831665 -0.431025\n",
      "b\n",
      "  key1   key2     data1     data2\n",
      "2    b  three  0.547705  0.605679\n",
      "3    b    one  1.081165 -0.353946\n",
      "5    b  three  0.197081  0.301316\n"
     ]
    }
   ],
   "source": [
    "for name, group in df.groupby(\"key1\"): #imprime los datos agrupados por key1\n",
    "    print(name)\n",
    "    print(group) "
   ]
  },
  {
   "cell_type": "code",
   "execution_count": 23,
   "metadata": {},
   "outputs": [
    {
     "name": "stdout",
     "output_type": "stream",
     "text": [
      "a one\n",
      "  key1 key2     data1     data2\n",
      "0    a  one  2.151827  1.495032\n",
      "a two\n",
      "  key1 key2     data1     data2\n",
      "1    a  two -0.487813 -0.084666\n",
      "4    a  two  0.831665 -0.431025\n",
      "b one\n",
      "  key1 key2     data1     data2\n",
      "3    b  one  1.081165 -0.353946\n",
      "b three\n",
      "  key1   key2     data1     data2\n",
      "2    b  three  0.547705  0.605679\n",
      "5    b  three  0.197081  0.301316\n"
     ]
    }
   ],
   "source": [
    "for (x1,x2),group in df.groupby([\"key1\",\n",
    "                                 \"key2\"]): #imprime los datos agrupados por key1 y key2\n",
    "    print(x1,x2)\n",
    "    print(group)"
   ]
  },
  {
   "cell_type": "code",
   "execution_count": 24,
   "metadata": {},
   "outputs": [],
   "source": [
    "piece=dict(list(df.groupby(\"key1\"))) #crea un diccionario con los datos agrupados por key1"
   ]
  },
  {
   "cell_type": "code",
   "execution_count": 25,
   "metadata": {},
   "outputs": [
    {
     "data": {
      "text/html": [
       "<div>\n",
       "<style scoped>\n",
       "    .dataframe tbody tr th:only-of-type {\n",
       "        vertical-align: middle;\n",
       "    }\n",
       "\n",
       "    .dataframe tbody tr th {\n",
       "        vertical-align: top;\n",
       "    }\n",
       "\n",
       "    .dataframe thead th {\n",
       "        text-align: right;\n",
       "    }\n",
       "</style>\n",
       "<table border=\"1\" class=\"dataframe\">\n",
       "  <thead>\n",
       "    <tr style=\"text-align: right;\">\n",
       "      <th></th>\n",
       "      <th>key1</th>\n",
       "      <th>key2</th>\n",
       "      <th>data1</th>\n",
       "      <th>data2</th>\n",
       "    </tr>\n",
       "  </thead>\n",
       "  <tbody>\n",
       "    <tr>\n",
       "      <th>0</th>\n",
       "      <td>a</td>\n",
       "      <td>one</td>\n",
       "      <td>2.151827</td>\n",
       "      <td>1.495032</td>\n",
       "    </tr>\n",
       "    <tr>\n",
       "      <th>1</th>\n",
       "      <td>a</td>\n",
       "      <td>two</td>\n",
       "      <td>-0.487813</td>\n",
       "      <td>-0.084666</td>\n",
       "    </tr>\n",
       "    <tr>\n",
       "      <th>4</th>\n",
       "      <td>a</td>\n",
       "      <td>two</td>\n",
       "      <td>0.831665</td>\n",
       "      <td>-0.431025</td>\n",
       "    </tr>\n",
       "  </tbody>\n",
       "</table>\n",
       "</div>"
      ],
      "text/plain": [
       "  key1 key2     data1     data2\n",
       "0    a  one  2.151827  1.495032\n",
       "1    a  two -0.487813 -0.084666\n",
       "4    a  two  0.831665 -0.431025"
      ]
     },
     "execution_count": 25,
     "metadata": {},
     "output_type": "execute_result"
    }
   ],
   "source": [
    "piece[\"a\"] #imprime los datos de key1=a"
   ]
  },
  {
   "cell_type": "markdown",
   "metadata": {},
   "source": [
    "## Selecting a Column or Subset of Columns"
   ]
  },
  {
   "cell_type": "code",
   "execution_count": 26,
   "metadata": {},
   "outputs": [
    {
     "data": {
      "text/html": [
       "<div>\n",
       "<style scoped>\n",
       "    .dataframe tbody tr th:only-of-type {\n",
       "        vertical-align: middle;\n",
       "    }\n",
       "\n",
       "    .dataframe tbody tr th {\n",
       "        vertical-align: top;\n",
       "    }\n",
       "\n",
       "    .dataframe thead th {\n",
       "        text-align: right;\n",
       "    }\n",
       "</style>\n",
       "<table border=\"1\" class=\"dataframe\">\n",
       "  <thead>\n",
       "    <tr style=\"text-align: right;\">\n",
       "      <th></th>\n",
       "      <th></th>\n",
       "      <th>data1</th>\n",
       "    </tr>\n",
       "    <tr>\n",
       "      <th>key1</th>\n",
       "      <th>key2</th>\n",
       "      <th></th>\n",
       "    </tr>\n",
       "  </thead>\n",
       "  <tbody>\n",
       "    <tr>\n",
       "      <th rowspan=\"2\" valign=\"top\">a</th>\n",
       "      <th>one</th>\n",
       "      <td>2.151827</td>\n",
       "    </tr>\n",
       "    <tr>\n",
       "      <th>two</th>\n",
       "      <td>0.171926</td>\n",
       "    </tr>\n",
       "    <tr>\n",
       "      <th rowspan=\"2\" valign=\"top\">b</th>\n",
       "      <th>one</th>\n",
       "      <td>1.081165</td>\n",
       "    </tr>\n",
       "    <tr>\n",
       "      <th>three</th>\n",
       "      <td>0.372393</td>\n",
       "    </tr>\n",
       "  </tbody>\n",
       "</table>\n",
       "</div>"
      ],
      "text/plain": [
       "               data1\n",
       "key1 key2           \n",
       "a    one    2.151827\n",
       "     two    0.171926\n",
       "b    one    1.081165\n",
       "     three  0.372393"
      ]
     },
     "execution_count": 26,
     "metadata": {},
     "output_type": "execute_result"
    }
   ],
   "source": [
    "df.groupby(['key1', \n",
    "            'key2'])[['data1']].mean() #agrupa los datos por key1 y key2 y hace la media de data1"
   ]
  },
  {
   "cell_type": "markdown",
   "metadata": {},
   "source": [
    "## Grouping with Dicts and Series"
   ]
  },
  {
   "cell_type": "code",
   "execution_count": 27,
   "metadata": {},
   "outputs": [
    {
     "data": {
      "text/html": [
       "<div>\n",
       "<style scoped>\n",
       "    .dataframe tbody tr th:only-of-type {\n",
       "        vertical-align: middle;\n",
       "    }\n",
       "\n",
       "    .dataframe tbody tr th {\n",
       "        vertical-align: top;\n",
       "    }\n",
       "\n",
       "    .dataframe thead th {\n",
       "        text-align: right;\n",
       "    }\n",
       "</style>\n",
       "<table border=\"1\" class=\"dataframe\">\n",
       "  <thead>\n",
       "    <tr style=\"text-align: right;\">\n",
       "      <th></th>\n",
       "      <th>a</th>\n",
       "      <th>b</th>\n",
       "      <th>c</th>\n",
       "      <th>d</th>\n",
       "    </tr>\n",
       "  </thead>\n",
       "  <tbody>\n",
       "    <tr>\n",
       "      <th>apple</th>\n",
       "      <td>0.508255</td>\n",
       "      <td>-0.932132</td>\n",
       "      <td>0.042360</td>\n",
       "      <td>-0.286081</td>\n",
       "    </tr>\n",
       "    <tr>\n",
       "      <th>cherry</th>\n",
       "      <td>-0.525460</td>\n",
       "      <td>-1.624222</td>\n",
       "      <td>0.091484</td>\n",
       "      <td>0.393443</td>\n",
       "    </tr>\n",
       "    <tr>\n",
       "      <th>banana</th>\n",
       "      <td>1.732453</td>\n",
       "      <td>0.342012</td>\n",
       "      <td>0.053884</td>\n",
       "      <td>-0.542366</td>\n",
       "    </tr>\n",
       "    <tr>\n",
       "      <th>kiwi</th>\n",
       "      <td>-0.844223</td>\n",
       "      <td>1.326736</td>\n",
       "      <td>0.688268</td>\n",
       "      <td>0.094277</td>\n",
       "    </tr>\n",
       "  </tbody>\n",
       "</table>\n",
       "</div>"
      ],
      "text/plain": [
       "               a         b         c         d\n",
       "apple   0.508255 -0.932132  0.042360 -0.286081\n",
       "cherry -0.525460 -1.624222  0.091484  0.393443\n",
       "banana  1.732453  0.342012  0.053884 -0.542366\n",
       "kiwi   -0.844223  1.326736  0.688268  0.094277"
      ]
     },
     "execution_count": 27,
     "metadata": {},
     "output_type": "execute_result"
    }
   ],
   "source": [
    "fruit=pd.DataFrame(np.random.randn(4,4),\n",
    "                   columns=list(\"abcd\"),\n",
    "                   index=[\"apple\",\"cherry\",\n",
    "                          \"banana\",\"kiwi\"]) #crea un dataframe con datos aleatorios\n",
    "fruit"
   ]
  },
  {
   "cell_type": "code",
   "execution_count": 28,
   "metadata": {},
   "outputs": [],
   "source": [
    "label={\"a\": \"green\",\"b\":\"yellow\",\n",
    "       \"c\":\"green\",\"d\":\"yellow\",\n",
    "       \"e\":\"purple\"} #crea un diccionario con los colores de las frutas"
   ]
  },
  {
   "cell_type": "code",
   "execution_count": 29,
   "metadata": {},
   "outputs": [
    {
     "name": "stderr",
     "output_type": "stream",
     "text": [
      "C:\\Users\\javie\\AppData\\Local\\Temp\\ipykernel_19676\\1554457867.py:1: FutureWarning: DataFrame.groupby with axis=1 is deprecated. Do `frame.T.groupby(...)` without axis instead.\n",
      "  group=fruit.groupby(label,axis=1)\n"
     ]
    }
   ],
   "source": [
    "group=fruit.groupby(label,axis=1) #agrupa los datos por color"
   ]
  },
  {
   "cell_type": "code",
   "execution_count": 30,
   "metadata": {},
   "outputs": [
    {
     "data": {
      "text/html": [
       "<div>\n",
       "<style scoped>\n",
       "    .dataframe tbody tr th:only-of-type {\n",
       "        vertical-align: middle;\n",
       "    }\n",
       "\n",
       "    .dataframe tbody tr th {\n",
       "        vertical-align: top;\n",
       "    }\n",
       "\n",
       "    .dataframe thead th {\n",
       "        text-align: right;\n",
       "    }\n",
       "</style>\n",
       "<table border=\"1\" class=\"dataframe\">\n",
       "  <thead>\n",
       "    <tr style=\"text-align: right;\">\n",
       "      <th></th>\n",
       "      <th>green</th>\n",
       "      <th>yellow</th>\n",
       "    </tr>\n",
       "  </thead>\n",
       "  <tbody>\n",
       "    <tr>\n",
       "      <th>apple</th>\n",
       "      <td>0.550615</td>\n",
       "      <td>-1.218213</td>\n",
       "    </tr>\n",
       "    <tr>\n",
       "      <th>cherry</th>\n",
       "      <td>-0.433977</td>\n",
       "      <td>-1.230779</td>\n",
       "    </tr>\n",
       "    <tr>\n",
       "      <th>banana</th>\n",
       "      <td>1.786337</td>\n",
       "      <td>-0.200354</td>\n",
       "    </tr>\n",
       "    <tr>\n",
       "      <th>kiwi</th>\n",
       "      <td>-0.155955</td>\n",
       "      <td>1.421012</td>\n",
       "    </tr>\n",
       "  </tbody>\n",
       "</table>\n",
       "</div>"
      ],
      "text/plain": [
       "           green    yellow\n",
       "apple   0.550615 -1.218213\n",
       "cherry -0.433977 -1.230779\n",
       "banana  1.786337 -0.200354\n",
       "kiwi   -0.155955  1.421012"
      ]
     },
     "execution_count": 30,
     "metadata": {},
     "output_type": "execute_result"
    }
   ],
   "source": [
    "group.sum() #suma los datos agrupados por color"
   ]
  },
  {
   "cell_type": "code",
   "execution_count": 31,
   "metadata": {},
   "outputs": [
    {
     "data": {
      "text/plain": [
       "a     green\n",
       "b    yellow\n",
       "c     green\n",
       "d    yellow\n",
       "e    purple\n",
       "dtype: object"
      ]
     },
     "execution_count": 31,
     "metadata": {},
     "output_type": "execute_result"
    }
   ],
   "source": [
    "s=pd.Series(label) #crea una serie con los colores de las frutas\n",
    "s"
   ]
  },
  {
   "cell_type": "code",
   "execution_count": 32,
   "metadata": {},
   "outputs": [
    {
     "name": "stderr",
     "output_type": "stream",
     "text": [
      "C:\\Users\\javie\\AppData\\Local\\Temp\\ipykernel_19676\\2731039387.py:1: FutureWarning: DataFrame.groupby with axis=1 is deprecated. Do `frame.T.groupby(...)` without axis instead.\n",
      "  fruit.groupby(s,axis=1).count()\n"
     ]
    },
    {
     "data": {
      "text/html": [
       "<div>\n",
       "<style scoped>\n",
       "    .dataframe tbody tr th:only-of-type {\n",
       "        vertical-align: middle;\n",
       "    }\n",
       "\n",
       "    .dataframe tbody tr th {\n",
       "        vertical-align: top;\n",
       "    }\n",
       "\n",
       "    .dataframe thead th {\n",
       "        text-align: right;\n",
       "    }\n",
       "</style>\n",
       "<table border=\"1\" class=\"dataframe\">\n",
       "  <thead>\n",
       "    <tr style=\"text-align: right;\">\n",
       "      <th></th>\n",
       "      <th>green</th>\n",
       "      <th>yellow</th>\n",
       "    </tr>\n",
       "  </thead>\n",
       "  <tbody>\n",
       "    <tr>\n",
       "      <th>apple</th>\n",
       "      <td>2</td>\n",
       "      <td>2</td>\n",
       "    </tr>\n",
       "    <tr>\n",
       "      <th>cherry</th>\n",
       "      <td>2</td>\n",
       "      <td>2</td>\n",
       "    </tr>\n",
       "    <tr>\n",
       "      <th>banana</th>\n",
       "      <td>2</td>\n",
       "      <td>2</td>\n",
       "    </tr>\n",
       "    <tr>\n",
       "      <th>kiwi</th>\n",
       "      <td>2</td>\n",
       "      <td>2</td>\n",
       "    </tr>\n",
       "  </tbody>\n",
       "</table>\n",
       "</div>"
      ],
      "text/plain": [
       "        green  yellow\n",
       "apple       2       2\n",
       "cherry      2       2\n",
       "banana      2       2\n",
       "kiwi        2       2"
      ]
     },
     "execution_count": 32,
     "metadata": {},
     "output_type": "execute_result"
    }
   ],
   "source": [
    "fruit.groupby(s,axis=1).count() #cuenta los datos agrupados por color"
   ]
  },
  {
   "cell_type": "markdown",
   "metadata": {},
   "source": [
    "## Grouping with Functions"
   ]
  },
  {
   "cell_type": "code",
   "execution_count": 33,
   "metadata": {},
   "outputs": [
    {
     "data": {
      "text/html": [
       "<div>\n",
       "<style scoped>\n",
       "    .dataframe tbody tr th:only-of-type {\n",
       "        vertical-align: middle;\n",
       "    }\n",
       "\n",
       "    .dataframe tbody tr th {\n",
       "        vertical-align: top;\n",
       "    }\n",
       "\n",
       "    .dataframe thead th {\n",
       "        text-align: right;\n",
       "    }\n",
       "</style>\n",
       "<table border=\"1\" class=\"dataframe\">\n",
       "  <thead>\n",
       "    <tr style=\"text-align: right;\">\n",
       "      <th></th>\n",
       "      <th>a</th>\n",
       "      <th>b</th>\n",
       "      <th>c</th>\n",
       "      <th>d</th>\n",
       "    </tr>\n",
       "  </thead>\n",
       "  <tbody>\n",
       "    <tr>\n",
       "      <th>4</th>\n",
       "      <td>-0.844223</td>\n",
       "      <td>1.326736</td>\n",
       "      <td>0.688268</td>\n",
       "      <td>0.094277</td>\n",
       "    </tr>\n",
       "    <tr>\n",
       "      <th>5</th>\n",
       "      <td>0.508255</td>\n",
       "      <td>-0.932132</td>\n",
       "      <td>0.042360</td>\n",
       "      <td>-0.286081</td>\n",
       "    </tr>\n",
       "    <tr>\n",
       "      <th>6</th>\n",
       "      <td>1.206993</td>\n",
       "      <td>-1.282210</td>\n",
       "      <td>0.145368</td>\n",
       "      <td>-0.148923</td>\n",
       "    </tr>\n",
       "  </tbody>\n",
       "</table>\n",
       "</div>"
      ],
      "text/plain": [
       "          a         b         c         d\n",
       "4 -0.844223  1.326736  0.688268  0.094277\n",
       "5  0.508255 -0.932132  0.042360 -0.286081\n",
       "6  1.206993 -1.282210  0.145368 -0.148923"
      ]
     },
     "execution_count": 33,
     "metadata": {},
     "output_type": "execute_result"
    }
   ],
   "source": [
    "fruit.groupby(len).sum() #agrupa los datos por longitud de las frutas y suma"
   ]
  },
  {
   "cell_type": "markdown",
   "metadata": {},
   "source": [
    "## Grouping by Index Levels"
   ]
  },
  {
   "cell_type": "code",
   "execution_count": 34,
   "metadata": {},
   "outputs": [],
   "source": [
    "data=pd.DataFrame(np.random.randn(4,5),\n",
    "                  columns=[list(\"AAABB\"),\n",
    "                           [1,2,3,1,2]]) #crea un dataframe con datos aleatorios"
   ]
  },
  {
   "cell_type": "code",
   "execution_count": 35,
   "metadata": {},
   "outputs": [
    {
     "data": {
      "text/html": [
       "<div>\n",
       "<style scoped>\n",
       "    .dataframe tbody tr th:only-of-type {\n",
       "        vertical-align: middle;\n",
       "    }\n",
       "\n",
       "    .dataframe tbody tr th {\n",
       "        vertical-align: top;\n",
       "    }\n",
       "\n",
       "    .dataframe thead tr th {\n",
       "        text-align: left;\n",
       "    }\n",
       "</style>\n",
       "<table border=\"1\" class=\"dataframe\">\n",
       "  <thead>\n",
       "    <tr>\n",
       "      <th>letter</th>\n",
       "      <th colspan=\"3\" halign=\"left\">A</th>\n",
       "      <th colspan=\"2\" halign=\"left\">B</th>\n",
       "    </tr>\n",
       "    <tr>\n",
       "      <th>number</th>\n",
       "      <th>1</th>\n",
       "      <th>2</th>\n",
       "      <th>3</th>\n",
       "      <th>1</th>\n",
       "      <th>2</th>\n",
       "    </tr>\n",
       "  </thead>\n",
       "  <tbody>\n",
       "    <tr>\n",
       "      <th>0</th>\n",
       "      <td>-0.721546</td>\n",
       "      <td>-0.847531</td>\n",
       "      <td>1.417852</td>\n",
       "      <td>0.218740</td>\n",
       "      <td>0.336698</td>\n",
       "    </tr>\n",
       "    <tr>\n",
       "      <th>1</th>\n",
       "      <td>-0.325602</td>\n",
       "      <td>-2.948532</td>\n",
       "      <td>-0.653888</td>\n",
       "      <td>-0.305327</td>\n",
       "      <td>0.122940</td>\n",
       "    </tr>\n",
       "    <tr>\n",
       "      <th>2</th>\n",
       "      <td>0.823239</td>\n",
       "      <td>1.955351</td>\n",
       "      <td>0.739069</td>\n",
       "      <td>-0.542593</td>\n",
       "      <td>0.080989</td>\n",
       "    </tr>\n",
       "    <tr>\n",
       "      <th>3</th>\n",
       "      <td>-1.158528</td>\n",
       "      <td>-0.203205</td>\n",
       "      <td>0.209244</td>\n",
       "      <td>-1.236226</td>\n",
       "      <td>1.009336</td>\n",
       "    </tr>\n",
       "  </tbody>\n",
       "</table>\n",
       "</div>"
      ],
      "text/plain": [
       "letter         A                             B          \n",
       "number         1         2         3         1         2\n",
       "0      -0.721546 -0.847531  1.417852  0.218740  0.336698\n",
       "1      -0.325602 -2.948532 -0.653888 -0.305327  0.122940\n",
       "2       0.823239  1.955351  0.739069 -0.542593  0.080989\n",
       "3      -1.158528 -0.203205  0.209244 -1.236226  1.009336"
      ]
     },
     "execution_count": 35,
     "metadata": {},
     "output_type": "execute_result"
    }
   ],
   "source": [
    "data.columns.names=[\"letter\",\"number\"] #pone nombre a las columnas\n",
    "data"
   ]
  },
  {
   "cell_type": "code",
   "execution_count": 36,
   "metadata": {},
   "outputs": [
    {
     "name": "stderr",
     "output_type": "stream",
     "text": [
      "C:\\Users\\javie\\AppData\\Local\\Temp\\ipykernel_19676\\249029581.py:1: FutureWarning: DataFrame.groupby with axis=1 is deprecated. Do `frame.T.groupby(...)` without axis instead.\n",
      "  data.groupby(level=\"letter\",axis=1).sum()\n"
     ]
    },
    {
     "data": {
      "text/html": [
       "<div>\n",
       "<style scoped>\n",
       "    .dataframe tbody tr th:only-of-type {\n",
       "        vertical-align: middle;\n",
       "    }\n",
       "\n",
       "    .dataframe tbody tr th {\n",
       "        vertical-align: top;\n",
       "    }\n",
       "\n",
       "    .dataframe thead th {\n",
       "        text-align: right;\n",
       "    }\n",
       "</style>\n",
       "<table border=\"1\" class=\"dataframe\">\n",
       "  <thead>\n",
       "    <tr style=\"text-align: right;\">\n",
       "      <th>letter</th>\n",
       "      <th>A</th>\n",
       "      <th>B</th>\n",
       "    </tr>\n",
       "  </thead>\n",
       "  <tbody>\n",
       "    <tr>\n",
       "      <th>0</th>\n",
       "      <td>-0.151225</td>\n",
       "      <td>0.555438</td>\n",
       "    </tr>\n",
       "    <tr>\n",
       "      <th>1</th>\n",
       "      <td>-3.928022</td>\n",
       "      <td>-0.182386</td>\n",
       "    </tr>\n",
       "    <tr>\n",
       "      <th>2</th>\n",
       "      <td>3.517660</td>\n",
       "      <td>-0.461605</td>\n",
       "    </tr>\n",
       "    <tr>\n",
       "      <th>3</th>\n",
       "      <td>-1.152489</td>\n",
       "      <td>-0.226891</td>\n",
       "    </tr>\n",
       "  </tbody>\n",
       "</table>\n",
       "</div>"
      ],
      "text/plain": [
       "letter         A         B\n",
       "0      -0.151225  0.555438\n",
       "1      -3.928022 -0.182386\n",
       "2       3.517660 -0.461605\n",
       "3      -1.152489 -0.226891"
      ]
     },
     "execution_count": 36,
     "metadata": {},
     "output_type": "execute_result"
    }
   ],
   "source": [
    "data.groupby(level=\"letter\",axis=1).sum() #agrupa los datos por letra y suma"
   ]
  },
  {
   "cell_type": "markdown",
   "metadata": {},
   "source": [
    "## Application with Real Data Set "
   ]
  },
  {
   "cell_type": "code",
   "execution_count": 38,
   "metadata": {},
   "outputs": [],
   "source": [
    "game=pd.read_csv(\"DataSets/vgsalesGlobale.csv\") "
   ]
  },
  {
   "cell_type": "code",
   "execution_count": 39,
   "metadata": {},
   "outputs": [
    {
     "data": {
      "text/html": [
       "<div>\n",
       "<style scoped>\n",
       "    .dataframe tbody tr th:only-of-type {\n",
       "        vertical-align: middle;\n",
       "    }\n",
       "\n",
       "    .dataframe tbody tr th {\n",
       "        vertical-align: top;\n",
       "    }\n",
       "\n",
       "    .dataframe thead th {\n",
       "        text-align: right;\n",
       "    }\n",
       "</style>\n",
       "<table border=\"1\" class=\"dataframe\">\n",
       "  <thead>\n",
       "    <tr style=\"text-align: right;\">\n",
       "      <th></th>\n",
       "      <th>Rank</th>\n",
       "      <th>Name</th>\n",
       "      <th>Platform</th>\n",
       "      <th>Year</th>\n",
       "      <th>Genre</th>\n",
       "      <th>Publisher</th>\n",
       "      <th>NA_Sales</th>\n",
       "      <th>EU_Sales</th>\n",
       "      <th>JP_Sales</th>\n",
       "      <th>Other_Sales</th>\n",
       "      <th>Global_Sales</th>\n",
       "    </tr>\n",
       "  </thead>\n",
       "  <tbody>\n",
       "    <tr>\n",
       "      <th>0</th>\n",
       "      <td>1</td>\n",
       "      <td>Wii Sports</td>\n",
       "      <td>Wii</td>\n",
       "      <td>2006.0</td>\n",
       "      <td>Sports</td>\n",
       "      <td>Nintendo</td>\n",
       "      <td>41.49</td>\n",
       "      <td>29.02</td>\n",
       "      <td>3.77</td>\n",
       "      <td>8.46</td>\n",
       "      <td>82.74</td>\n",
       "    </tr>\n",
       "    <tr>\n",
       "      <th>1</th>\n",
       "      <td>2</td>\n",
       "      <td>Super Mario Bros.</td>\n",
       "      <td>NES</td>\n",
       "      <td>1985.0</td>\n",
       "      <td>Platform</td>\n",
       "      <td>Nintendo</td>\n",
       "      <td>29.08</td>\n",
       "      <td>3.58</td>\n",
       "      <td>6.81</td>\n",
       "      <td>0.77</td>\n",
       "      <td>40.24</td>\n",
       "    </tr>\n",
       "    <tr>\n",
       "      <th>2</th>\n",
       "      <td>3</td>\n",
       "      <td>Mario Kart Wii</td>\n",
       "      <td>Wii</td>\n",
       "      <td>2008.0</td>\n",
       "      <td>Racing</td>\n",
       "      <td>Nintendo</td>\n",
       "      <td>15.85</td>\n",
       "      <td>12.88</td>\n",
       "      <td>3.79</td>\n",
       "      <td>3.31</td>\n",
       "      <td>35.82</td>\n",
       "    </tr>\n",
       "    <tr>\n",
       "      <th>3</th>\n",
       "      <td>4</td>\n",
       "      <td>Wii Sports Resort</td>\n",
       "      <td>Wii</td>\n",
       "      <td>2009.0</td>\n",
       "      <td>Sports</td>\n",
       "      <td>Nintendo</td>\n",
       "      <td>15.75</td>\n",
       "      <td>11.01</td>\n",
       "      <td>3.28</td>\n",
       "      <td>2.96</td>\n",
       "      <td>33.00</td>\n",
       "    </tr>\n",
       "    <tr>\n",
       "      <th>4</th>\n",
       "      <td>5</td>\n",
       "      <td>Pokemon Red/Pokemon Blue</td>\n",
       "      <td>GB</td>\n",
       "      <td>1996.0</td>\n",
       "      <td>Role-Playing</td>\n",
       "      <td>Nintendo</td>\n",
       "      <td>11.27</td>\n",
       "      <td>8.89</td>\n",
       "      <td>10.22</td>\n",
       "      <td>1.00</td>\n",
       "      <td>31.37</td>\n",
       "    </tr>\n",
       "  </tbody>\n",
       "</table>\n",
       "</div>"
      ],
      "text/plain": [
       "   Rank                      Name Platform    Year         Genre Publisher  \\\n",
       "0     1                Wii Sports      Wii  2006.0        Sports  Nintendo   \n",
       "1     2         Super Mario Bros.      NES  1985.0      Platform  Nintendo   \n",
       "2     3            Mario Kart Wii      Wii  2008.0        Racing  Nintendo   \n",
       "3     4         Wii Sports Resort      Wii  2009.0        Sports  Nintendo   \n",
       "4     5  Pokemon Red/Pokemon Blue       GB  1996.0  Role-Playing  Nintendo   \n",
       "\n",
       "   NA_Sales  EU_Sales  JP_Sales  Other_Sales  Global_Sales  \n",
       "0     41.49     29.02      3.77         8.46         82.74  \n",
       "1     29.08      3.58      6.81         0.77         40.24  \n",
       "2     15.85     12.88      3.79         3.31         35.82  \n",
       "3     15.75     11.01      3.28         2.96         33.00  \n",
       "4     11.27      8.89     10.22         1.00         31.37  "
      ]
     },
     "execution_count": 39,
     "metadata": {},
     "output_type": "execute_result"
    }
   ],
   "source": [
    "game.head() #imprime los primeros datos"
   ]
  },
  {
   "cell_type": "code",
   "execution_count": 40,
   "metadata": {},
   "outputs": [
    {
     "data": {
      "text/plain": [
       "Rank              int64\n",
       "Name             object\n",
       "Platform         object\n",
       "Year            float64\n",
       "Genre            object\n",
       "Publisher        object\n",
       "NA_Sales        float64\n",
       "EU_Sales        float64\n",
       "JP_Sales        float64\n",
       "Other_Sales     float64\n",
       "Global_Sales    float64\n",
       "dtype: object"
      ]
     },
     "execution_count": 40,
     "metadata": {},
     "output_type": "execute_result"
    }
   ],
   "source": [
    "game.dtypes #imprime los tipos de datos"
   ]
  },
  {
   "cell_type": "code",
   "execution_count": 41,
   "metadata": {},
   "outputs": [
    {
     "data": {
      "text/html": [
       "<div>\n",
       "<style scoped>\n",
       "    .dataframe tbody tr th:only-of-type {\n",
       "        vertical-align: middle;\n",
       "    }\n",
       "\n",
       "    .dataframe tbody tr th {\n",
       "        vertical-align: top;\n",
       "    }\n",
       "\n",
       "    .dataframe thead th {\n",
       "        text-align: right;\n",
       "    }\n",
       "</style>\n",
       "<table border=\"1\" class=\"dataframe\">\n",
       "  <thead>\n",
       "    <tr style=\"text-align: right;\">\n",
       "      <th></th>\n",
       "      <th>Rank</th>\n",
       "      <th>Year</th>\n",
       "      <th>NA_Sales</th>\n",
       "      <th>EU_Sales</th>\n",
       "      <th>JP_Sales</th>\n",
       "      <th>Other_Sales</th>\n",
       "      <th>Global_Sales</th>\n",
       "    </tr>\n",
       "  </thead>\n",
       "  <tbody>\n",
       "    <tr>\n",
       "      <th>count</th>\n",
       "      <td>16291.000000</td>\n",
       "      <td>16291.000000</td>\n",
       "      <td>16291.000000</td>\n",
       "      <td>16291.000000</td>\n",
       "      <td>16291.000000</td>\n",
       "      <td>16291.000000</td>\n",
       "      <td>16291.000000</td>\n",
       "    </tr>\n",
       "    <tr>\n",
       "      <th>mean</th>\n",
       "      <td>8290.190228</td>\n",
       "      <td>2006.405561</td>\n",
       "      <td>0.265647</td>\n",
       "      <td>0.147731</td>\n",
       "      <td>0.078833</td>\n",
       "      <td>0.048426</td>\n",
       "      <td>0.540910</td>\n",
       "    </tr>\n",
       "    <tr>\n",
       "      <th>std</th>\n",
       "      <td>4792.654450</td>\n",
       "      <td>5.832412</td>\n",
       "      <td>0.822432</td>\n",
       "      <td>0.509303</td>\n",
       "      <td>0.311879</td>\n",
       "      <td>0.190083</td>\n",
       "      <td>1.567345</td>\n",
       "    </tr>\n",
       "    <tr>\n",
       "      <th>min</th>\n",
       "      <td>1.000000</td>\n",
       "      <td>1980.000000</td>\n",
       "      <td>0.000000</td>\n",
       "      <td>0.000000</td>\n",
       "      <td>0.000000</td>\n",
       "      <td>0.000000</td>\n",
       "      <td>0.010000</td>\n",
       "    </tr>\n",
       "    <tr>\n",
       "      <th>25%</th>\n",
       "      <td>4132.500000</td>\n",
       "      <td>2003.000000</td>\n",
       "      <td>0.000000</td>\n",
       "      <td>0.000000</td>\n",
       "      <td>0.000000</td>\n",
       "      <td>0.000000</td>\n",
       "      <td>0.060000</td>\n",
       "    </tr>\n",
       "    <tr>\n",
       "      <th>50%</th>\n",
       "      <td>8292.000000</td>\n",
       "      <td>2007.000000</td>\n",
       "      <td>0.080000</td>\n",
       "      <td>0.020000</td>\n",
       "      <td>0.000000</td>\n",
       "      <td>0.010000</td>\n",
       "      <td>0.170000</td>\n",
       "    </tr>\n",
       "    <tr>\n",
       "      <th>75%</th>\n",
       "      <td>12439.500000</td>\n",
       "      <td>2010.000000</td>\n",
       "      <td>0.240000</td>\n",
       "      <td>0.110000</td>\n",
       "      <td>0.040000</td>\n",
       "      <td>0.040000</td>\n",
       "      <td>0.480000</td>\n",
       "    </tr>\n",
       "    <tr>\n",
       "      <th>max</th>\n",
       "      <td>16600.000000</td>\n",
       "      <td>2020.000000</td>\n",
       "      <td>41.490000</td>\n",
       "      <td>29.020000</td>\n",
       "      <td>10.220000</td>\n",
       "      <td>10.570000</td>\n",
       "      <td>82.740000</td>\n",
       "    </tr>\n",
       "  </tbody>\n",
       "</table>\n",
       "</div>"
      ],
      "text/plain": [
       "               Rank          Year      NA_Sales      EU_Sales      JP_Sales  \\\n",
       "count  16291.000000  16291.000000  16291.000000  16291.000000  16291.000000   \n",
       "mean    8290.190228   2006.405561      0.265647      0.147731      0.078833   \n",
       "std     4792.654450      5.832412      0.822432      0.509303      0.311879   \n",
       "min        1.000000   1980.000000      0.000000      0.000000      0.000000   \n",
       "25%     4132.500000   2003.000000      0.000000      0.000000      0.000000   \n",
       "50%     8292.000000   2007.000000      0.080000      0.020000      0.000000   \n",
       "75%    12439.500000   2010.000000      0.240000      0.110000      0.040000   \n",
       "max    16600.000000   2020.000000     41.490000     29.020000     10.220000   \n",
       "\n",
       "        Other_Sales  Global_Sales  \n",
       "count  16291.000000  16291.000000  \n",
       "mean       0.048426      0.540910  \n",
       "std        0.190083      1.567345  \n",
       "min        0.000000      0.010000  \n",
       "25%        0.000000      0.060000  \n",
       "50%        0.010000      0.170000  \n",
       "75%        0.040000      0.480000  \n",
       "max       10.570000     82.740000  "
      ]
     },
     "execution_count": 41,
     "metadata": {},
     "output_type": "execute_result"
    }
   ],
   "source": [
    "game.dropna().describe() #elimina los datos nulos y describe los datos"
   ]
  },
  {
   "cell_type": "code",
   "execution_count": 42,
   "metadata": {},
   "outputs": [
    {
     "data": {
      "text/plain": [
       "np.float64(0.5374406555006628)"
      ]
     },
     "execution_count": 42,
     "metadata": {},
     "output_type": "execute_result"
    }
   ],
   "source": [
    "game.Global_Sales.mean() #calcula la media de las ventas globales"
   ]
  },
  {
   "cell_type": "code",
   "execution_count": 43,
   "metadata": {},
   "outputs": [],
   "source": [
    "group=game.groupby(\"Genre\") #agrupa los datos por genero"
   ]
  },
  {
   "cell_type": "code",
   "execution_count": 44,
   "metadata": {},
   "outputs": [
    {
     "data": {
      "text/plain": [
       "Genre\n",
       "Action          3316\n",
       "Adventure       1286\n",
       "Fighting         848\n",
       "Misc            1739\n",
       "Platform         886\n",
       "Puzzle           582\n",
       "Racing          1249\n",
       "Role-Playing    1488\n",
       "Shooter         1310\n",
       "Simulation       867\n",
       "Sports          2346\n",
       "Strategy         681\n",
       "Name: Global_Sales, dtype: int64"
      ]
     },
     "execution_count": 44,
     "metadata": {},
     "output_type": "execute_result"
    }
   ],
   "source": [
    "group[\"Global_Sales\"].count() #cuenta las ventas globales por genero"
   ]
  },
  {
   "cell_type": "code",
   "execution_count": 45,
   "metadata": {},
   "outputs": [
    {
     "data": {
      "text/html": [
       "<div>\n",
       "<style scoped>\n",
       "    .dataframe tbody tr th:only-of-type {\n",
       "        vertical-align: middle;\n",
       "    }\n",
       "\n",
       "    .dataframe tbody tr th {\n",
       "        vertical-align: top;\n",
       "    }\n",
       "\n",
       "    .dataframe thead th {\n",
       "        text-align: right;\n",
       "    }\n",
       "</style>\n",
       "<table border=\"1\" class=\"dataframe\">\n",
       "  <thead>\n",
       "    <tr style=\"text-align: right;\">\n",
       "      <th></th>\n",
       "      <th>count</th>\n",
       "      <th>mean</th>\n",
       "      <th>std</th>\n",
       "      <th>min</th>\n",
       "      <th>25%</th>\n",
       "      <th>50%</th>\n",
       "      <th>75%</th>\n",
       "      <th>max</th>\n",
       "    </tr>\n",
       "    <tr>\n",
       "      <th>Genre</th>\n",
       "      <th></th>\n",
       "      <th></th>\n",
       "      <th></th>\n",
       "      <th></th>\n",
       "      <th></th>\n",
       "      <th></th>\n",
       "      <th></th>\n",
       "      <th></th>\n",
       "    </tr>\n",
       "  </thead>\n",
       "  <tbody>\n",
       "    <tr>\n",
       "      <th>Action</th>\n",
       "      <td>3316.0</td>\n",
       "      <td>0.528100</td>\n",
       "      <td>1.156427</td>\n",
       "      <td>0.01</td>\n",
       "      <td>0.07</td>\n",
       "      <td>0.190</td>\n",
       "      <td>0.5000</td>\n",
       "      <td>21.40</td>\n",
       "    </tr>\n",
       "    <tr>\n",
       "      <th>Adventure</th>\n",
       "      <td>1286.0</td>\n",
       "      <td>0.185879</td>\n",
       "      <td>0.513280</td>\n",
       "      <td>0.01</td>\n",
       "      <td>0.02</td>\n",
       "      <td>0.060</td>\n",
       "      <td>0.1600</td>\n",
       "      <td>11.18</td>\n",
       "    </tr>\n",
       "    <tr>\n",
       "      <th>Fighting</th>\n",
       "      <td>848.0</td>\n",
       "      <td>0.529375</td>\n",
       "      <td>0.955965</td>\n",
       "      <td>0.01</td>\n",
       "      <td>0.08</td>\n",
       "      <td>0.210</td>\n",
       "      <td>0.5500</td>\n",
       "      <td>13.04</td>\n",
       "    </tr>\n",
       "    <tr>\n",
       "      <th>Misc</th>\n",
       "      <td>1739.0</td>\n",
       "      <td>0.465762</td>\n",
       "      <td>1.314886</td>\n",
       "      <td>0.01</td>\n",
       "      <td>0.06</td>\n",
       "      <td>0.160</td>\n",
       "      <td>0.4100</td>\n",
       "      <td>29.02</td>\n",
       "    </tr>\n",
       "    <tr>\n",
       "      <th>Platform</th>\n",
       "      <td>886.0</td>\n",
       "      <td>0.938341</td>\n",
       "      <td>2.585254</td>\n",
       "      <td>0.01</td>\n",
       "      <td>0.09</td>\n",
       "      <td>0.280</td>\n",
       "      <td>0.7900</td>\n",
       "      <td>40.24</td>\n",
       "    </tr>\n",
       "    <tr>\n",
       "      <th>Puzzle</th>\n",
       "      <td>582.0</td>\n",
       "      <td>0.420876</td>\n",
       "      <td>1.561716</td>\n",
       "      <td>0.01</td>\n",
       "      <td>0.04</td>\n",
       "      <td>0.110</td>\n",
       "      <td>0.3075</td>\n",
       "      <td>30.26</td>\n",
       "    </tr>\n",
       "    <tr>\n",
       "      <th>Racing</th>\n",
       "      <td>1249.0</td>\n",
       "      <td>0.586101</td>\n",
       "      <td>1.662437</td>\n",
       "      <td>0.01</td>\n",
       "      <td>0.07</td>\n",
       "      <td>0.190</td>\n",
       "      <td>0.5300</td>\n",
       "      <td>35.82</td>\n",
       "    </tr>\n",
       "    <tr>\n",
       "      <th>Role-Playing</th>\n",
       "      <td>1488.0</td>\n",
       "      <td>0.623233</td>\n",
       "      <td>1.707909</td>\n",
       "      <td>0.01</td>\n",
       "      <td>0.07</td>\n",
       "      <td>0.185</td>\n",
       "      <td>0.5225</td>\n",
       "      <td>31.37</td>\n",
       "    </tr>\n",
       "    <tr>\n",
       "      <th>Shooter</th>\n",
       "      <td>1310.0</td>\n",
       "      <td>0.791885</td>\n",
       "      <td>1.817263</td>\n",
       "      <td>0.01</td>\n",
       "      <td>0.08</td>\n",
       "      <td>0.230</td>\n",
       "      <td>0.7275</td>\n",
       "      <td>28.31</td>\n",
       "    </tr>\n",
       "    <tr>\n",
       "      <th>Simulation</th>\n",
       "      <td>867.0</td>\n",
       "      <td>0.452364</td>\n",
       "      <td>1.195255</td>\n",
       "      <td>0.01</td>\n",
       "      <td>0.05</td>\n",
       "      <td>0.160</td>\n",
       "      <td>0.4200</td>\n",
       "      <td>24.76</td>\n",
       "    </tr>\n",
       "    <tr>\n",
       "      <th>Sports</th>\n",
       "      <td>2346.0</td>\n",
       "      <td>0.567319</td>\n",
       "      <td>2.089716</td>\n",
       "      <td>0.01</td>\n",
       "      <td>0.09</td>\n",
       "      <td>0.220</td>\n",
       "      <td>0.5600</td>\n",
       "      <td>82.74</td>\n",
       "    </tr>\n",
       "    <tr>\n",
       "      <th>Strategy</th>\n",
       "      <td>681.0</td>\n",
       "      <td>0.257151</td>\n",
       "      <td>0.520908</td>\n",
       "      <td>0.01</td>\n",
       "      <td>0.04</td>\n",
       "      <td>0.090</td>\n",
       "      <td>0.2700</td>\n",
       "      <td>5.45</td>\n",
       "    </tr>\n",
       "  </tbody>\n",
       "</table>\n",
       "</div>"
      ],
      "text/plain": [
       "               count      mean       std   min   25%    50%     75%    max\n",
       "Genre                                                                     \n",
       "Action        3316.0  0.528100  1.156427  0.01  0.07  0.190  0.5000  21.40\n",
       "Adventure     1286.0  0.185879  0.513280  0.01  0.02  0.060  0.1600  11.18\n",
       "Fighting       848.0  0.529375  0.955965  0.01  0.08  0.210  0.5500  13.04\n",
       "Misc          1739.0  0.465762  1.314886  0.01  0.06  0.160  0.4100  29.02\n",
       "Platform       886.0  0.938341  2.585254  0.01  0.09  0.280  0.7900  40.24\n",
       "Puzzle         582.0  0.420876  1.561716  0.01  0.04  0.110  0.3075  30.26\n",
       "Racing        1249.0  0.586101  1.662437  0.01  0.07  0.190  0.5300  35.82\n",
       "Role-Playing  1488.0  0.623233  1.707909  0.01  0.07  0.185  0.5225  31.37\n",
       "Shooter       1310.0  0.791885  1.817263  0.01  0.08  0.230  0.7275  28.31\n",
       "Simulation     867.0  0.452364  1.195255  0.01  0.05  0.160  0.4200  24.76\n",
       "Sports        2346.0  0.567319  2.089716  0.01  0.09  0.220  0.5600  82.74\n",
       "Strategy       681.0  0.257151  0.520908  0.01  0.04  0.090  0.2700   5.45"
      ]
     },
     "execution_count": 45,
     "metadata": {},
     "output_type": "execute_result"
    }
   ],
   "source": [
    "group[\"Global_Sales\"].describe() #describe las ventas globales por genero"
   ]
  },
  {
   "cell_type": "code",
   "execution_count": 46,
   "metadata": {},
   "outputs": [
    {
     "data": {
      "text/plain": [
       "np.float64(0.5281001206272617)"
      ]
     },
     "execution_count": 46,
     "metadata": {},
     "output_type": "execute_result"
    }
   ],
   "source": [
    "game[game.Genre==\"Action\"].Global_Sales.mean() #calcula la media de las ventas globales del genero accion"
   ]
  },
  {
   "cell_type": "code",
   "execution_count": 47,
   "metadata": {},
   "outputs": [
    {
     "ename": "TypeError",
     "evalue": "agg function failed [how->mean,dtype->object]",
     "output_type": "error",
     "traceback": [
      "\u001b[1;31m---------------------------------------------------------------------------\u001b[0m",
      "\u001b[1;31mTypeError\u001b[0m                                 Traceback (most recent call last)",
      "File \u001b[1;32mc:\\Users\\javie\\AppData\\Local\\Programs\\Python\\Python312\\Lib\\site-packages\\pandas\\core\\groupby\\groupby.py:1942\u001b[0m, in \u001b[0;36mGroupBy._agg_py_fallback\u001b[1;34m(self, how, values, ndim, alt)\u001b[0m\n\u001b[0;32m   1941\u001b[0m \u001b[38;5;28;01mtry\u001b[39;00m:\n\u001b[1;32m-> 1942\u001b[0m     res_values \u001b[38;5;241m=\u001b[39m \u001b[38;5;28;43mself\u001b[39;49m\u001b[38;5;241;43m.\u001b[39;49m\u001b[43m_grouper\u001b[49m\u001b[38;5;241;43m.\u001b[39;49m\u001b[43magg_series\u001b[49m\u001b[43m(\u001b[49m\u001b[43mser\u001b[49m\u001b[43m,\u001b[49m\u001b[43m \u001b[49m\u001b[43malt\u001b[49m\u001b[43m,\u001b[49m\u001b[43m \u001b[49m\u001b[43mpreserve_dtype\u001b[49m\u001b[38;5;241;43m=\u001b[39;49m\u001b[38;5;28;43;01mTrue\u001b[39;49;00m\u001b[43m)\u001b[49m\n\u001b[0;32m   1943\u001b[0m \u001b[38;5;28;01mexcept\u001b[39;00m \u001b[38;5;167;01mException\u001b[39;00m \u001b[38;5;28;01mas\u001b[39;00m err:\n",
      "File \u001b[1;32mc:\\Users\\javie\\AppData\\Local\\Programs\\Python\\Python312\\Lib\\site-packages\\pandas\\core\\groupby\\ops.py:864\u001b[0m, in \u001b[0;36mBaseGrouper.agg_series\u001b[1;34m(self, obj, func, preserve_dtype)\u001b[0m\n\u001b[0;32m    862\u001b[0m     preserve_dtype \u001b[38;5;241m=\u001b[39m \u001b[38;5;28;01mTrue\u001b[39;00m\n\u001b[1;32m--> 864\u001b[0m result \u001b[38;5;241m=\u001b[39m \u001b[38;5;28;43mself\u001b[39;49m\u001b[38;5;241;43m.\u001b[39;49m\u001b[43m_aggregate_series_pure_python\u001b[49m\u001b[43m(\u001b[49m\u001b[43mobj\u001b[49m\u001b[43m,\u001b[49m\u001b[43m \u001b[49m\u001b[43mfunc\u001b[49m\u001b[43m)\u001b[49m\n\u001b[0;32m    866\u001b[0m npvalues \u001b[38;5;241m=\u001b[39m lib\u001b[38;5;241m.\u001b[39mmaybe_convert_objects(result, try_float\u001b[38;5;241m=\u001b[39m\u001b[38;5;28;01mFalse\u001b[39;00m)\n",
      "File \u001b[1;32mc:\\Users\\javie\\AppData\\Local\\Programs\\Python\\Python312\\Lib\\site-packages\\pandas\\core\\groupby\\ops.py:885\u001b[0m, in \u001b[0;36mBaseGrouper._aggregate_series_pure_python\u001b[1;34m(self, obj, func)\u001b[0m\n\u001b[0;32m    884\u001b[0m \u001b[38;5;28;01mfor\u001b[39;00m i, group \u001b[38;5;129;01min\u001b[39;00m \u001b[38;5;28menumerate\u001b[39m(splitter):\n\u001b[1;32m--> 885\u001b[0m     res \u001b[38;5;241m=\u001b[39m \u001b[43mfunc\u001b[49m\u001b[43m(\u001b[49m\u001b[43mgroup\u001b[49m\u001b[43m)\u001b[49m\n\u001b[0;32m    886\u001b[0m     res \u001b[38;5;241m=\u001b[39m extract_result(res)\n",
      "File \u001b[1;32mc:\\Users\\javie\\AppData\\Local\\Programs\\Python\\Python312\\Lib\\site-packages\\pandas\\core\\groupby\\groupby.py:2454\u001b[0m, in \u001b[0;36mGroupBy.mean.<locals>.<lambda>\u001b[1;34m(x)\u001b[0m\n\u001b[0;32m   2451\u001b[0m \u001b[38;5;28;01melse\u001b[39;00m:\n\u001b[0;32m   2452\u001b[0m     result \u001b[38;5;241m=\u001b[39m \u001b[38;5;28mself\u001b[39m\u001b[38;5;241m.\u001b[39m_cython_agg_general(\n\u001b[0;32m   2453\u001b[0m         \u001b[38;5;124m\"\u001b[39m\u001b[38;5;124mmean\u001b[39m\u001b[38;5;124m\"\u001b[39m,\n\u001b[1;32m-> 2454\u001b[0m         alt\u001b[38;5;241m=\u001b[39m\u001b[38;5;28;01mlambda\u001b[39;00m x: \u001b[43mSeries\u001b[49m\u001b[43m(\u001b[49m\u001b[43mx\u001b[49m\u001b[43m,\u001b[49m\u001b[43m \u001b[49m\u001b[43mcopy\u001b[49m\u001b[38;5;241;43m=\u001b[39;49m\u001b[38;5;28;43;01mFalse\u001b[39;49;00m\u001b[43m)\u001b[49m\u001b[38;5;241;43m.\u001b[39;49m\u001b[43mmean\u001b[49m\u001b[43m(\u001b[49m\u001b[43mnumeric_only\u001b[49m\u001b[38;5;241;43m=\u001b[39;49m\u001b[43mnumeric_only\u001b[49m\u001b[43m)\u001b[49m,\n\u001b[0;32m   2455\u001b[0m         numeric_only\u001b[38;5;241m=\u001b[39mnumeric_only,\n\u001b[0;32m   2456\u001b[0m     )\n\u001b[0;32m   2457\u001b[0m     \u001b[38;5;28;01mreturn\u001b[39;00m result\u001b[38;5;241m.\u001b[39m__finalize__(\u001b[38;5;28mself\u001b[39m\u001b[38;5;241m.\u001b[39mobj, method\u001b[38;5;241m=\u001b[39m\u001b[38;5;124m\"\u001b[39m\u001b[38;5;124mgroupby\u001b[39m\u001b[38;5;124m\"\u001b[39m)\n",
      "File \u001b[1;32mc:\\Users\\javie\\AppData\\Local\\Programs\\Python\\Python312\\Lib\\site-packages\\pandas\\core\\series.py:6549\u001b[0m, in \u001b[0;36mSeries.mean\u001b[1;34m(self, axis, skipna, numeric_only, **kwargs)\u001b[0m\n\u001b[0;32m   6541\u001b[0m \u001b[38;5;129m@doc\u001b[39m(make_doc(\u001b[38;5;124m\"\u001b[39m\u001b[38;5;124mmean\u001b[39m\u001b[38;5;124m\"\u001b[39m, ndim\u001b[38;5;241m=\u001b[39m\u001b[38;5;241m1\u001b[39m))\n\u001b[0;32m   6542\u001b[0m \u001b[38;5;28;01mdef\u001b[39;00m \u001b[38;5;21mmean\u001b[39m(\n\u001b[0;32m   6543\u001b[0m     \u001b[38;5;28mself\u001b[39m,\n\u001b[1;32m   (...)\u001b[0m\n\u001b[0;32m   6547\u001b[0m     \u001b[38;5;241m*\u001b[39m\u001b[38;5;241m*\u001b[39mkwargs,\n\u001b[0;32m   6548\u001b[0m ):\n\u001b[1;32m-> 6549\u001b[0m     \u001b[38;5;28;01mreturn\u001b[39;00m \u001b[43mNDFrame\u001b[49m\u001b[38;5;241;43m.\u001b[39;49m\u001b[43mmean\u001b[49m\u001b[43m(\u001b[49m\u001b[38;5;28;43mself\u001b[39;49m\u001b[43m,\u001b[49m\u001b[43m \u001b[49m\u001b[43maxis\u001b[49m\u001b[43m,\u001b[49m\u001b[43m \u001b[49m\u001b[43mskipna\u001b[49m\u001b[43m,\u001b[49m\u001b[43m \u001b[49m\u001b[43mnumeric_only\u001b[49m\u001b[43m,\u001b[49m\u001b[43m \u001b[49m\u001b[38;5;241;43m*\u001b[39;49m\u001b[38;5;241;43m*\u001b[39;49m\u001b[43mkwargs\u001b[49m\u001b[43m)\u001b[49m\n",
      "File \u001b[1;32mc:\\Users\\javie\\AppData\\Local\\Programs\\Python\\Python312\\Lib\\site-packages\\pandas\\core\\generic.py:12420\u001b[0m, in \u001b[0;36mNDFrame.mean\u001b[1;34m(self, axis, skipna, numeric_only, **kwargs)\u001b[0m\n\u001b[0;32m  12413\u001b[0m \u001b[38;5;28;01mdef\u001b[39;00m \u001b[38;5;21mmean\u001b[39m(\n\u001b[0;32m  12414\u001b[0m     \u001b[38;5;28mself\u001b[39m,\n\u001b[0;32m  12415\u001b[0m     axis: Axis \u001b[38;5;241m|\u001b[39m \u001b[38;5;28;01mNone\u001b[39;00m \u001b[38;5;241m=\u001b[39m \u001b[38;5;241m0\u001b[39m,\n\u001b[1;32m   (...)\u001b[0m\n\u001b[0;32m  12418\u001b[0m     \u001b[38;5;241m*\u001b[39m\u001b[38;5;241m*\u001b[39mkwargs,\n\u001b[0;32m  12419\u001b[0m ) \u001b[38;5;241m-\u001b[39m\u001b[38;5;241m>\u001b[39m Series \u001b[38;5;241m|\u001b[39m \u001b[38;5;28mfloat\u001b[39m:\n\u001b[1;32m> 12420\u001b[0m     \u001b[38;5;28;01mreturn\u001b[39;00m \u001b[38;5;28;43mself\u001b[39;49m\u001b[38;5;241;43m.\u001b[39;49m\u001b[43m_stat_function\u001b[49m\u001b[43m(\u001b[49m\n\u001b[0;32m  12421\u001b[0m \u001b[43m        \u001b[49m\u001b[38;5;124;43m\"\u001b[39;49m\u001b[38;5;124;43mmean\u001b[39;49m\u001b[38;5;124;43m\"\u001b[39;49m\u001b[43m,\u001b[49m\u001b[43m \u001b[49m\u001b[43mnanops\u001b[49m\u001b[38;5;241;43m.\u001b[39;49m\u001b[43mnanmean\u001b[49m\u001b[43m,\u001b[49m\u001b[43m \u001b[49m\u001b[43maxis\u001b[49m\u001b[43m,\u001b[49m\u001b[43m \u001b[49m\u001b[43mskipna\u001b[49m\u001b[43m,\u001b[49m\u001b[43m \u001b[49m\u001b[43mnumeric_only\u001b[49m\u001b[43m,\u001b[49m\u001b[43m \u001b[49m\u001b[38;5;241;43m*\u001b[39;49m\u001b[38;5;241;43m*\u001b[39;49m\u001b[43mkwargs\u001b[49m\n\u001b[0;32m  12422\u001b[0m \u001b[43m    \u001b[49m\u001b[43m)\u001b[49m\n",
      "File \u001b[1;32mc:\\Users\\javie\\AppData\\Local\\Programs\\Python\\Python312\\Lib\\site-packages\\pandas\\core\\generic.py:12377\u001b[0m, in \u001b[0;36mNDFrame._stat_function\u001b[1;34m(self, name, func, axis, skipna, numeric_only, **kwargs)\u001b[0m\n\u001b[0;32m  12375\u001b[0m validate_bool_kwarg(skipna, \u001b[38;5;124m\"\u001b[39m\u001b[38;5;124mskipna\u001b[39m\u001b[38;5;124m\"\u001b[39m, none_allowed\u001b[38;5;241m=\u001b[39m\u001b[38;5;28;01mFalse\u001b[39;00m)\n\u001b[1;32m> 12377\u001b[0m \u001b[38;5;28;01mreturn\u001b[39;00m \u001b[38;5;28;43mself\u001b[39;49m\u001b[38;5;241;43m.\u001b[39;49m\u001b[43m_reduce\u001b[49m\u001b[43m(\u001b[49m\n\u001b[0;32m  12378\u001b[0m \u001b[43m    \u001b[49m\u001b[43mfunc\u001b[49m\u001b[43m,\u001b[49m\u001b[43m \u001b[49m\u001b[43mname\u001b[49m\u001b[38;5;241;43m=\u001b[39;49m\u001b[43mname\u001b[49m\u001b[43m,\u001b[49m\u001b[43m \u001b[49m\u001b[43maxis\u001b[49m\u001b[38;5;241;43m=\u001b[39;49m\u001b[43maxis\u001b[49m\u001b[43m,\u001b[49m\u001b[43m \u001b[49m\u001b[43mskipna\u001b[49m\u001b[38;5;241;43m=\u001b[39;49m\u001b[43mskipna\u001b[49m\u001b[43m,\u001b[49m\u001b[43m \u001b[49m\u001b[43mnumeric_only\u001b[49m\u001b[38;5;241;43m=\u001b[39;49m\u001b[43mnumeric_only\u001b[49m\n\u001b[0;32m  12379\u001b[0m \u001b[43m\u001b[49m\u001b[43m)\u001b[49m\n",
      "File \u001b[1;32mc:\\Users\\javie\\AppData\\Local\\Programs\\Python\\Python312\\Lib\\site-packages\\pandas\\core\\series.py:6457\u001b[0m, in \u001b[0;36mSeries._reduce\u001b[1;34m(self, op, name, axis, skipna, numeric_only, filter_type, **kwds)\u001b[0m\n\u001b[0;32m   6453\u001b[0m     \u001b[38;5;28;01mraise\u001b[39;00m \u001b[38;5;167;01mTypeError\u001b[39;00m(\n\u001b[0;32m   6454\u001b[0m         \u001b[38;5;124mf\u001b[39m\u001b[38;5;124m\"\u001b[39m\u001b[38;5;124mSeries.\u001b[39m\u001b[38;5;132;01m{\u001b[39;00mname\u001b[38;5;132;01m}\u001b[39;00m\u001b[38;5;124m does not allow \u001b[39m\u001b[38;5;132;01m{\u001b[39;00mkwd_name\u001b[38;5;132;01m}\u001b[39;00m\u001b[38;5;124m=\u001b[39m\u001b[38;5;132;01m{\u001b[39;00mnumeric_only\u001b[38;5;132;01m}\u001b[39;00m\u001b[38;5;124m \u001b[39m\u001b[38;5;124m\"\u001b[39m\n\u001b[0;32m   6455\u001b[0m         \u001b[38;5;124m\"\u001b[39m\u001b[38;5;124mwith non-numeric dtypes.\u001b[39m\u001b[38;5;124m\"\u001b[39m\n\u001b[0;32m   6456\u001b[0m     )\n\u001b[1;32m-> 6457\u001b[0m \u001b[38;5;28;01mreturn\u001b[39;00m \u001b[43mop\u001b[49m\u001b[43m(\u001b[49m\u001b[43mdelegate\u001b[49m\u001b[43m,\u001b[49m\u001b[43m \u001b[49m\u001b[43mskipna\u001b[49m\u001b[38;5;241;43m=\u001b[39;49m\u001b[43mskipna\u001b[49m\u001b[43m,\u001b[49m\u001b[43m \u001b[49m\u001b[38;5;241;43m*\u001b[39;49m\u001b[38;5;241;43m*\u001b[39;49m\u001b[43mkwds\u001b[49m\u001b[43m)\u001b[49m\n",
      "File \u001b[1;32mc:\\Users\\javie\\AppData\\Local\\Programs\\Python\\Python312\\Lib\\site-packages\\pandas\\core\\nanops.py:147\u001b[0m, in \u001b[0;36mbottleneck_switch.__call__.<locals>.f\u001b[1;34m(values, axis, skipna, **kwds)\u001b[0m\n\u001b[0;32m    146\u001b[0m \u001b[38;5;28;01melse\u001b[39;00m:\n\u001b[1;32m--> 147\u001b[0m     result \u001b[38;5;241m=\u001b[39m \u001b[43malt\u001b[49m\u001b[43m(\u001b[49m\u001b[43mvalues\u001b[49m\u001b[43m,\u001b[49m\u001b[43m \u001b[49m\u001b[43maxis\u001b[49m\u001b[38;5;241;43m=\u001b[39;49m\u001b[43maxis\u001b[49m\u001b[43m,\u001b[49m\u001b[43m \u001b[49m\u001b[43mskipna\u001b[49m\u001b[38;5;241;43m=\u001b[39;49m\u001b[43mskipna\u001b[49m\u001b[43m,\u001b[49m\u001b[43m \u001b[49m\u001b[38;5;241;43m*\u001b[39;49m\u001b[38;5;241;43m*\u001b[39;49m\u001b[43mkwds\u001b[49m\u001b[43m)\u001b[49m\n\u001b[0;32m    149\u001b[0m \u001b[38;5;28;01mreturn\u001b[39;00m result\n",
      "File \u001b[1;32mc:\\Users\\javie\\AppData\\Local\\Programs\\Python\\Python312\\Lib\\site-packages\\pandas\\core\\nanops.py:404\u001b[0m, in \u001b[0;36m_datetimelike_compat.<locals>.new_func\u001b[1;34m(values, axis, skipna, mask, **kwargs)\u001b[0m\n\u001b[0;32m    402\u001b[0m     mask \u001b[38;5;241m=\u001b[39m isna(values)\n\u001b[1;32m--> 404\u001b[0m result \u001b[38;5;241m=\u001b[39m \u001b[43mfunc\u001b[49m\u001b[43m(\u001b[49m\u001b[43mvalues\u001b[49m\u001b[43m,\u001b[49m\u001b[43m \u001b[49m\u001b[43maxis\u001b[49m\u001b[38;5;241;43m=\u001b[39;49m\u001b[43maxis\u001b[49m\u001b[43m,\u001b[49m\u001b[43m \u001b[49m\u001b[43mskipna\u001b[49m\u001b[38;5;241;43m=\u001b[39;49m\u001b[43mskipna\u001b[49m\u001b[43m,\u001b[49m\u001b[43m \u001b[49m\u001b[43mmask\u001b[49m\u001b[38;5;241;43m=\u001b[39;49m\u001b[43mmask\u001b[49m\u001b[43m,\u001b[49m\u001b[43m \u001b[49m\u001b[38;5;241;43m*\u001b[39;49m\u001b[38;5;241;43m*\u001b[39;49m\u001b[43mkwargs\u001b[49m\u001b[43m)\u001b[49m\n\u001b[0;32m    406\u001b[0m \u001b[38;5;28;01mif\u001b[39;00m datetimelike:\n",
      "File \u001b[1;32mc:\\Users\\javie\\AppData\\Local\\Programs\\Python\\Python312\\Lib\\site-packages\\pandas\\core\\nanops.py:720\u001b[0m, in \u001b[0;36mnanmean\u001b[1;34m(values, axis, skipna, mask)\u001b[0m\n\u001b[0;32m    719\u001b[0m the_sum \u001b[38;5;241m=\u001b[39m values\u001b[38;5;241m.\u001b[39msum(axis, dtype\u001b[38;5;241m=\u001b[39mdtype_sum)\n\u001b[1;32m--> 720\u001b[0m the_sum \u001b[38;5;241m=\u001b[39m \u001b[43m_ensure_numeric\u001b[49m\u001b[43m(\u001b[49m\u001b[43mthe_sum\u001b[49m\u001b[43m)\u001b[49m\n\u001b[0;32m    722\u001b[0m \u001b[38;5;28;01mif\u001b[39;00m axis \u001b[38;5;129;01mis\u001b[39;00m \u001b[38;5;129;01mnot\u001b[39;00m \u001b[38;5;28;01mNone\u001b[39;00m \u001b[38;5;129;01mand\u001b[39;00m \u001b[38;5;28mgetattr\u001b[39m(the_sum, \u001b[38;5;124m\"\u001b[39m\u001b[38;5;124mndim\u001b[39m\u001b[38;5;124m\"\u001b[39m, \u001b[38;5;28;01mFalse\u001b[39;00m):\n",
      "File \u001b[1;32mc:\\Users\\javie\\AppData\\Local\\Programs\\Python\\Python312\\Lib\\site-packages\\pandas\\core\\nanops.py:1701\u001b[0m, in \u001b[0;36m_ensure_numeric\u001b[1;34m(x)\u001b[0m\n\u001b[0;32m   1699\u001b[0m \u001b[38;5;28;01mif\u001b[39;00m \u001b[38;5;28misinstance\u001b[39m(x, \u001b[38;5;28mstr\u001b[39m):\n\u001b[0;32m   1700\u001b[0m     \u001b[38;5;66;03m# GH#44008, GH#36703 avoid casting e.g. strings to numeric\u001b[39;00m\n\u001b[1;32m-> 1701\u001b[0m     \u001b[38;5;28;01mraise\u001b[39;00m \u001b[38;5;167;01mTypeError\u001b[39;00m(\u001b[38;5;124mf\u001b[39m\u001b[38;5;124m\"\u001b[39m\u001b[38;5;124mCould not convert string \u001b[39m\u001b[38;5;124m'\u001b[39m\u001b[38;5;132;01m{\u001b[39;00mx\u001b[38;5;132;01m}\u001b[39;00m\u001b[38;5;124m'\u001b[39m\u001b[38;5;124m to numeric\u001b[39m\u001b[38;5;124m\"\u001b[39m)\n\u001b[0;32m   1702\u001b[0m \u001b[38;5;28;01mtry\u001b[39;00m:\n",
      "\u001b[1;31mTypeError\u001b[0m: Could not convert string 'Grand Theft Auto VGrand Theft Auto: San AndreasGrand Theft Auto VGrand Theft Auto: Vice CityGrand Theft Auto IIIGrand Theft Auto VPokemon HeartGold/Pokemon SoulSilverGrand Theft Auto IVGrand Theft Auto IVFIFA Soccer 13Grand Theft Auto: Liberty City StoriesThe Legend of Zelda: Ocarina of TimeThe Legend of Zelda: Twilight PrincessUncharted 3: Drake's DeceptionUncharted 2: Among ThievesRed Dead RedemptionThe Legend of ZeldaAssassin's Creed IIIRed Dead RedemptionDriverMetal Gear Solid 2: Sons of LibertyMetal Gear Solid 4: Guns of the PatriotsMetal Gear SolidThe Last of UsLEGO Star Wars: The Complete SagaResident Evil 2Assassin's Creed IIBatman: Arkham CityAssassin's Creed IIIAssassin's Creed IITomb Raider IIFIFA Soccer 13The Legend of Zelda: Phantom HourglassResident Evil 5Grand Theft Auto VGrand Theft Auto: Vice City StoriesResident EvilUncharted: Drake's FortuneLEGO Star Wars: The Complete SagaGod of War IIIBatman: Arkham CityDriver 2The Lord of the Rings: The Two TowersTomb RaiderThe Legend of Zelda: A Link to the PastThe Legend of Zelda: The Wind WakerLuigi's Mansion: Dark MoonThe Last of UsSpider-Man: The MovieUncharted: The Nathan Drake CollectionGod of WarBatman: Arkham AsylumAssassin's Creed: RevelationsMetal Gear Solid 3: Snake EaterThe Legend of Zelda: Ocarina of TimeAssassin's Creed: RevelationsTeenage Mutant Ninja TurtlesFroggerWatch DogsThe Legend of Zelda: Skyward SwordGod of War IIAssassin's Creed: UnityAssassin's Creed IV: Black FlagThe Legend of Zelda: Link's AwakeningBatman: Arkham KnightLEGO Indiana Jones: The Original AdventuresResident Evil Director's CutHarry Potter and the Sorcerer's StoneResident Evil 3: NemesisResident Evil 4Luigi's MansionGrand Theft Auto: Liberty City StoriesThe GetawayTomb Raider III: Adventures of Lara CroftLEGO Star Wars: The Video GameRugrats in Paris: The MovieResident Evil 5Assassin's Creed: BrotherhoodKung FuBatman: Arkham AsylumAssassin's Creed: UnityGrand Theft Auto 2Spider-Man 2LEGO Batman: The VideogameMetal Gear Solid V: The Phantom PainThe Legend of Zelda: Spirit TracksThe Legend of Zelda: Majora's MaskAssassin's Creed IV: Black FlagStar Wars Episode III: Revenge of the SithThe Lord of the Rings: The Return of the KingAssassin's Creed SyndicateTrue Crime: Streets of LAMonster Hunter XGod of War: Chains of OlympusEnter the MatrixLEGO Batman: The VideogameLEGO Batman: The VideogameSpider-ManThe Legend of Zelda: A Link Between WorldsKung Fu PandaSaints Row 2Tom Clancy's Splinter CellMiddle-Earth: Shadow of MordorDevil May CryHitman 2: Silent AssassininFAMOUSSkylanders: Spyro's AdventureAssassin's Creed: BrotherhoodFinding NemoStar Wars: The Force UnleashedinFAMOUS: Second SonSaints Row: The ThirdAssassin's Creed IV: Black FlagMetroidThe Legend of Zelda: A Link to the PastOnimusha: WarlordsLEGO Star Wars II: The Original TrilogyHannah MontanaTom Clancy's Splinter CellSkylanders GiantsStar Wars: Shadows of the EmpireLEGO Star Wars: The Complete SagaGod of War CollectionHarry Potter and the Chamber of SecretsStreets of RageGhostbusters: The Video Game (DS Version)Perfect DarkTomb Raider (2013)Saints Row: The ThirdRockstar Games Double Pack: Grand Theft Auto III & Grand Theft Auto Vice CityLEGO Harry Potter: Years 1-4Tomb Raider: The Last RevelationDino CrisisLEGO Indiana Jones: The Original AdventuresBatman: Arkham OriginsDead IslandLEGO Star Wars: The Complete SagaBloodborneThe IncrediblesLEGO Harry Potter: Years 1-4Resident Evil - Code: Veronica XThe Legend of Zelda: Majora's Mask 3DGrand Theft AutoLEGO Marvel Super HeroesGuild Wars 2Dead IslandTomb Raider IIGod of War: AscensionYokai Watch BustersStar Wars: The Force UnleashedResident Evil 4Teenage Mutant Ninja Turtles II: The Arcade GameLEGO Indiana Jones: The Original AdventuresPrince of Persia: The Sands of TimeAssassin's Creed IV: Black FlagDevil May Cry 3: Dante's Awakening Special EditionFroggerPro Evolution Soccer 2012Saints RowHitman: AbsolutionFar Cry: PrimalToy Story 3: The Video GameDynasty Warriors 4Project Gotham Racing (JP weekly sales)Devil May Cry 3: Dante's AwakeningDead RisingFinding NemoNBA 2K11Metal Gear Solid: Peace WalkerGhostbusters: The Video Game (DS Version)Tom Clancy's Splinter Cell: ConvictionThe IncrediblesPeter Jackson's King Kong: The Official Game of the MovieNeed for Speed: The RunDead SpaceLEGO Marvel Super HeroesTenchu: Stealth AssassinsHarry Potter and the Chamber of SecretsHarry Potter and the Chamber of SecretsDevil May Cry 2E.T.: The Extra TerrestrialGrand Theft Auto: San AndreasBatman: Arkham OriginsWatch DogsTomb Raider (2013)The Legend of Zelda: Oracle of AgesStar Wars: The Force UnleashedLEGO Star Wars III: The Clone WarsDynasty Warriors 3Phineas and FerbGoldenEye 007 (2010)PinballinFAMOUS 2Just Cause 3The Evil WithinNBA 2K11Kinect Star WarsSpongeBob SquarePants: SuperSpongeThe Getaway: Black MondayJust Cause 2The Legend of Zelda: The Wind Waker50 Cent: BulletproofState of EmergencyHitman: Absolution2 Games in 1 Double Pack: The Incredibles / Finding Nemo: The Continuing AdventuresTwisted Metal IIIHarry Potter and the Sorcerer's StoneDisney InfinityDishonoredRockstar Games Double Pack: Grand Theft Auto III & Grand Theft Auto Vice CityBen 10: Protector of EarthSaints Row 2Saints Row IVHarry Potter and the Sorcerer's StoneResident Evil 4Call of Duty Black Ops: DeclassifiedLEGO Batman 2: DC Super HeroesStar Wars The Clone Wars: Lightsaber DuelsMetroid FusionDying LightHeavenly SwordLEGO Pirates of the Caribbean: The Video GameGhosts 'n GoblinsPrince of Persia: Warrior WithinJust Cause 2SpongeBob's Atlantis SquarePantisDollar DashFar Cry 2Silent HillNo Man's SkyThe Legend of Zelda: Twilight PrincessDevil May Cry 4LEGO Harry Potter: Years 1-4Kingdom Hearts 3D: Dream Drop DistanceHannah Montana: Music JamTwisted MetalFinal FightLEGO Marvel Super HeroesMafia IIDishonored007: The World is not EnoughSpider-Man 2: Enter: ElectroWatch DogsStar Wars: The Force Unleashed IIDead Rising 3Resident Evil: The Umbrella ChroniclesThe Simpsons GameMafia IIPac-Man World 2LEGO Star Wars III: The Clone WarsMega Man 2The Simpsons GameDead Rising 2Pac-Man World007: Quantum of SolaceTom Clancy's Splinter Cell: Pandora TomorrowAssassin's Creed III: LiberationMario GolfMetal Gear Rising: RevengeanceStar Wars: The Force Unleashed IILEGO Batman 2: DC Super HeroesMedal of Honor: WarfighterOnimusha 3: Demon SiegeBatman: Arkham KnightResident Evil: OutbreakFrogger 2: Swampy's RevengeDisney InfinityLEGO Indiana Jones 2: The Adventure ContinuesThe Legend of Zelda: The Minish CapSuper MetroidDead SpaceResident Evil (Remake)Tomb Raider (2013)LEGO Star Wars II: The Original TrilogyToy Story 3: The Video GameLEGO Star Wars: The Video GameMetroid: Other MSpider-Man: The MovieFar Cry 2Bakugan: Battle BrawlersTeenage Mutant Ninja Turtles III: The Manhattan ProjectDynasty Warriors 5Hannah Montana: Spotlight World TourWWE '13True Crime: Streets of LADead Rising 2Need for Speed: The RunLEGO Indiana Jones: The Original AdventuresAssassin's Creed: RogueLEGO Harry Potter: Years 1-4Ryse: Son of RomeLEGO Harry Potter: Years 5-7Grand Theft Auto: Chinatown WarsAlan WakeSamurai WarriorsDevil May Cry 4Crysis 2Spider-Man: The MovieMiddle-Earth: Shadow of MordorLEGO Batman: The VideogameThe LEGO Movie VideogameSkylanders GiantsLEGO Batman: The Videogame[Prototype]Crysis 2Saints Row IVResident Evil ZeroWatch DogsMetal Gear Solid V: Ground ZeroesAssassin's Creed SyndicateArmy Men 3DWWE '13ManhuntKid Icarus: UprisingSilent Hill 2Tomb Raider: UnderworldLEGO Batman: The VideogameJet Li: Rise to HonorYokai Watch 3Kung Fu PandaHyrule WarriorsRatatouilleLEGO The Lord of the RingsStar Wars: The Force UnleashedCombatLara Croft Tomb Raider: The Angel of DarknessTom Clancy's Splinter Cell: Pandora TomorrowTransformers: Autobots / Decepticons[Prototype]Assassin's Creed: BloodlinesRidge Racer VStar Wars Episode III: Revenge of the SithBen 10: Protector of EarthNinja GaidenBayonettaLEGO Batman 2: DC Super HeroesLEGO Indiana Jones 2: The Adventure ContinuesStar Wars Episode 1: Jedi Power BattlesDino Crisis 2The Lord of the Rings: The Fellowship of the RingLEGO Star Wars III: The Clone WarsEnter the MatrixOne Piece: Pirate WarriorsMetal Gear Solid: Portable OpsScarface: The World is YoursHitman 2: Silent AssassinSpider-Man: The MovieResident Evil: Operation Raccoon CityLEGO Indiana Jones: The Original AdventuresMedal of Honor: WarfighterMission: Impossible007: Quantum of SolaceLEGO Star Wars III: The Clone WarsLEGO Star Wars: The Video GameGauntlet: Dark LegacyNinja Gaiden SigmaRed Dead Redemption: Undead NightmareDoraemonPokemon Rumble BlastAction BassTenchu: Wrath of HeavenShadow of the ColossusCommandoResident Evil - Code: VeronicaThe Lord of the Rings: The Return of the KingLEGO Star Wars: The Video GameLEGO Star Wars III: The Clone WarsYakuza 3Dragon Age IICastlevania: Lords of ShadowDisney Infinity 2.0: Marvel Super HeroesSpider-Man 2Mad Max (2015)Transformers: The Game (XBox 360, PS2, PS3, Wii & PC Versions)Tom Clancy's Splinter Cell: Chaos TheoryToy Story 3: The Video GameThe Legend of Zelda: Tri Force HeroesLEGO The Lord of the RingsStar Wars: The Force UnleashedThe Simpsons GameLEGO Star Wars II: The Original TrilogyThe GodfatherDante's InfernoSkylanders GiantsPrince of PersiaGrand Theft Auto VResident Evil: The Darkside ChroniclesNCAA Football 13Grand Theft Auto: Chinatown WarsTomb Raider: UnderworldRed Dead Redemption: Undead NightmareBully: Scholarship EditionDisney UniverseLEGO Pirates of the Caribbean: The Video GameDarksidersSleeping DogsHulkLEGO Indiana Jones: The Original AdventuresSpider-Man 2Assassin's Creed: RogueSkylanders: Trap TeamUFC Undisputed 3The Simpsons GameGuinness World Records: The VideogameLegacy of Kain: Soul ReaverDisney TangledMega Man X4LEGO Indiana Jones 2: The Adventure ContinuesLEGO Marvel Super HeroesEpic Mickey 2: The Power of TwoThe Simpsons GameTomb RaiderZombiUFinal Fight 2The Lost World: Jurassic ParkDisney Infinity 2.0: Marvel Super HeroesHarry Potter and the Prisoner of AzkabanBayonetta 2Prince of PersiaGod of War: Ghost of SpartaNinja Gaiden IIThe LEGO Movie VideogameUFC Undisputed 3Dynasty Warriors 3: Xtreme LegendsDead Space 3Disney InfinityDead Space 3LEGO Harry Potter: Years 5-7Tom Clancy's Splinter Cell: BlacklistLEGO Pirates of the Caribbean: The Video GameScooby-Doo! First FrightsThe BouncerGrand Theft Auto: San AndreasTom Clancy's Splinter Cell: BlacklistPro Evolution Soccer 2014Brutal LegendYakuza 4Skylanders: Spyro's AdventureGrand Theft Auto: Vice City StoriesLEGO The Lord of the RingsLEGO Star Wars II: The Original TrilogyLEGO Harry Potter: Years 5-7PlayStation All-Stars Battle RoyaleLEGO Pirates of the Caribbean: The Video GameMega Man Star Force Dragon / Leo / PegasusThe Witcher 2: Assassins of KingsLEGO Jurassic WorldTom Clancy's Splinter Cell: Chaos TheoryBen 10: Alien ForceBrutal LegendSkylanders: Spyro's AdventureLego Batman 3: Beyond GothamThe Tomb Raider TrilogyAssassin's Creed IIICastlevania: Lament of InnocenceThe Witcher 2: Assassins of KingsBayonettaThe Legend of Zelda: Twilight Princess HDBullyPrince of Persia: The Sands of TimeLEGO Jurassic WorldSpider-ManTeenage Mutant Ninja TurtlesSkylanders: Trap TeamTeenage Mutant Ninja Turtles007: The World is not EnoughSpongeBob SquarePants: The Yellow AvengerDante's InfernoKung Fu PandaLego Batman 3: Beyond GothamDynasty Warriors 7The Evil WithinAvatar: The GameHarvest Moon 3D: A New BeginningLEGO Indiana Jones 2: The Adventure ContinuesThe Simpsons Game3XtremeStar Wars: The Force UnleashedLittleBigPlanet KartingLEGO Jurassic WorldFinding NemoLEGO Marvel Super HeroesSleeping DogsGrand Theft Auto IVGhostbusters: The Video GameResident Evil: RevelationsNBA 2K6Just Cause 3NCAA Football 13Scooby-Doo! First FrightsWarriors OrochiMonster Strike 3DSTomb Raider: AnniversaryDarksiders IIGhostbusters: The Video GameThe Lord of the Rings: War in the NorthThe Lord of the Rings: War in the NorthDynasty Warriors 4: Xtreme LegendsNinja Gaiden Sigma 2Army Men: Air AttackFar Cry: PrimalHarry Potter and the Order of the PhoenixRampage World TourRatatouilleKirby: Planet RobobotThief (2014)Spider-Man 2Devil May Cry HD CollectionMLB 16: The ShowThe IncrediblesDragon Age IIBen 10: Protector of EarthDynasty Warriors 2Lizzie McGuire 2: Lizzie DiariesThe Amazing Spider-Man (Console Version)Star Wars The Clone Wars: Republic HeroesCuster's RevengeDmC: Devil May CryTwisted Metal (2012)Disney's The Little Mermaid: Ariel's Undersea AdventureThe Legend of Zelda: Four Swords AdventuresArmy Men: Sarge's HeroesLego Batman 3: Beyond GothamDying LightBen 10: Alien ForceMadWorldYakuza[Prototype 2]Prince of Persia: Warrior WithinDarksiders IIResident Evil: RevelationsStar Wars: The Force Unleashed IIThe Godfather IIAlienStar Wars The Clone Wars: Jedi AllianceDead Island: RiptideDrawn to LifePokePark 2: Wonders BeyondTom Clancy's Splinter Cell: Double AgentGod of War SagaResident Evil: Operation Raccoon CityToy Story 3: The Video GameAvatar: The GameHarry Potter and the Half-Blood PrinceAir RaidCrystal CastlesStar Wars Episode II: Attack of the ClonesLEGO Batman 2: DC Super HeroesTwisted Metal: Head OnMercenaries: Playground of DestructionThe Lord of the Rings: ConquestAssassin's Creed: RevelationsTrue Crime: New York CityGenji: Days of the BladeThe Godfather IITurok[Prototype 2]Shark TaleThe Amazing Spider-Man (Console Version)X-Men Origins: Wolverine - Uncaged EditionMadagascar: Escape 2 AfricaAce Combat: Assault HorizonLEGO Batman 2: DC Super HeroesLEGO Marvel Super HeroesCrysis 2The Lord of the Rings: The Two TowersIndiana Jones and the Staff of KingsPirates of the Caribbean: At World's EndBeyblade VForce: Ultimate Blader JamRatchet & Clank CollectionAvatar: The GameStar Wars Episode III: Revenge of the SithUltimate Spider-ManFIFA Soccer 13God EaterKouchuu Ouja Mushi KingLEGO Harry Potter: Years 5-7TerrariaBen 10: Protector of EarthFear EffectThe Lord of the Rings: The Two TowersDragon Quest Heroes: The World's Tree Woe and the Blight BelowResident Evil: SurvivorDynasty Warriors 6Silent Hill 3Scooby-Doo 2: Monsters UnleashedPower Rangers: Dino ThunderBlast CorpsLEGO Harry Potter: Years 1-4Metal Gear Solid V: The Phantom PainSpider-Man 2Star Wars: Obi-WanF-14 TomcatSkylanders: Trap TeamPrince of Persia: The Forgotten SandsBook of SpellsMafiaMetal Gear Solid V: The Phantom PainKing KongThe LEGO Movie VideogameX-Men Origins: Wolverine - Uncaged EditionMetal Gear Solid: Portable Ops PlusDisney TangledShrek the ThirdMortal Kombat: Shaolin MonksSkylanders: Trap TeamOne Piece: Pirate Warriors 2Assassin's Creed IV: Black FlagHarry Potter and the Chamber of SecretsThe Lord of the Rings: The Return of the KingShark TaleKirby's Dream Collection: Special EditionBakugan: Battle BrawlersStar Wars: Masters of Teras KasiIron ManDisney Infinity 3.0Prince of Persia: The Two ThronesMetro: Last LightMercenaries: Playground of DestructionTurokLollipop ChainsawSpice WorldThe LEGO Movie VideogameRatatouilleCastlevania: Lords of Shadow007: Quantum of SolaceAdventures of TronThe Chronicles of Narnia: The Lion, The Witch and The WardrobeThe LEGO Movie VideogameFinding NemoFist of the North Star: Ken's RageToy Story 3: The Video GameKeystone KapersLEGO Marvel Super HeroesShrek: Hassle at the CastleGods Eater BurstTransformers: The Game (XBox 360, PS2, PS3, Wii & PC Versions)Disney Infinity 2.0: Marvel Super HeroesKung Fu PandaThe Evil WithinUpReal Heroes: FirefighterKung-Fu MasterHarry Potter and the Goblet of FireSengoku Basara: Samurai HeroesHarry Potter and the Half-Blood PrinceCrash of the TitansLEGO Marvel's AvengersDragon Age IILEGO Star Wars II: The Original TrilogyThe Lord of the Rings: ConquestOnimusha: Dawn of DreamsGravity RushLEGO DimensionsOkamiMiddle-Earth: Shadow of MordorNightmare CreaturesGhostbusters: The Video GameDisney UniverseIron ManHarry Potter and the Half-Blood PrinceAngry Birds TrilogyCondemned 2: BloodshotGod of War IIIX-ManOkamiLEGO Jurassic WorldMetal Gear Solid 2: SubstancePrince of Persia: The Forgotten SandsLEGO Pirates of the Caribbean: The Video GameDead Island: RiptideWarriors Orochi 3Viewtiful JoeSpongeBob's Atlantis SquarePantisMetal Gear Solid V: Ground ZeroesHalloweenTomb Raider III: Adventures of Lara CroftSamurai Warriors 2Dynasty Warriors 8Tomb Raider ChroniclesHarry Potter and the Goblet of FireDragon Ball Z: Buu's FurySpider-Man: Mysterio's MenaceTransformers: The Game (XBox 360, PS2, PS3, Wii & PC Versions)The Golden CompassPhineas and Ferb: Across the 2nd DimensionDisney InfinityThe Golden CompassLEGO Jurassic WorldLEGO The HobbitAvatar: The GameJaws UnleashedTomb Raider (2013)Scribblenauts: UnlimitedDisney Infinity 2.0: Marvel Super HeroesDead SpaceAssassin's Creed: BrotherhoodIron ManYakuza 5LEGO Indiana Jones 2: The Adventure ContinuesNaruto: The Broken BondSmurf: Rescue In Gargamel's CastleGo Diego Go! Great Dinosaur RescueTransformers: The Game (XBox 360, PS2, PS3, Wii & PC Versions)Silent Hill: Shattered MemoriesBarbie: Race & RideLost: Via DomusBen 10: Alien ForceMega Man X7Top Spin 3SpongeBob SquarePants featuring Nicktoons: Globs of DoomTom Clancy's HAWXTerminator 3: Rise of the MachinesPrince of Persia: The Two ThronesMega Man Star Force 2: Zerker x Ninja / SaurianTenchu 2: Birth of the Stealth AssassinsNaruto: Uzumaki Chronicles 2Top Spin 3UpDisney UniverseIron ManSpyro Orange: The Cortex ConspiracyEnslaved: Odyssey to the WestSpongeBob SquarePants featuring Nicktoons: Globs of DoomBen 10: Alien ForceTomb Raider: AnniversaryNo More HeroesAssassin's Creed IIThe Mysterious Murasame CastlePro Evolution Soccer 2012Dynasty Warriors 5: Xtreme LegendsSkylanders: Spyro's AdventureResident Evil Outbreak File #2Bob the Builder: Can We Fix It?Top Spin 3Tom Clancy's HAWXLEGO DimensionsTrue Crime: Streets of LAThe Incredible HulkThe Lord of the Rings: The Return of the KingArmy Men: Sarge's HeroesPhineas and Ferb: Across the 2nd DimensionResident Evil 2Manhunt 2Batman BeginsMadagascar: Escape 2 AfricaG-ForceGod of War: Origins CollectionSoul Reaver 2Metal Gear Solid 3: SubsistenceThe Godfather (old US sales)Harry Potter and the Deathly Hallows - Part 1Fighting Force 2Yokai SangokushiExterminationTMNTAssassin's Creed: UnityThe Amazing Spider-Man 2 (2014)SpongeBob SquarePants: SuperSpongeEnslaved: Odyssey to the WestDynasty Warriors: Gundam 3LEGO The HobbitIron ManLEGO DimensionsResident Evil: Revelations 2Manhunt 2Action ForceGauntlet LegendsFire Emblem: Path of RadianceMiddle-Earth: Shadow of MordorHow to Train Your DragonLego Star Wars: The Force AwakensEpic Mickey 2: The Power of TwoThe Incredible Hulk: Ultimate DestructionSpongeBob SquarePants featuring Nicktoons: Globs of DoomLegacy of Kain: DefianceLEGO Jurassic WorldPeter Jackson's King Kong: The Official Game of the MovieBatman: Arkham CityThe Lord of the Rings: The Fellowship of the RingSpider-ManOniThe Lord of the Rings: The Two TowersThe WarriorsBatman: Arkham Origins BlackgateGo Diego Go! Safari RescueSilent Hill: OriginsGuinness World Records: The VideogameThe Golden CompassMetal Gear Solid 2: SubstanceWay of the Samurai 3Mission: ImpossibleBully: Scholarship EditionPlayStation All-Stars Battle RoyaleRatatouilleKung Fu PandaTomb Raider: LegendRatatouilleLairThe PunisherHarry Potter and the Prisoner of AzkabanIron ManWay of the SamuraiThe LEGO Movie VideogamePrince of Persia TrilogyThe SaboteurDynasty WarriorsMonsters vs. AliensLost: Via DomusLEGO DimensionsHarry Potter and the Half-Blood PrinceQuantum BreakNBA 2K11Rory McIlroy PGA TourDishonoredSilent Hill 4: The RoomThe Adventures of Jimmy Neutron Boy Genius: Attack of the TwonkiesMidnight MagicPro Evolution Soccer 2012The Mummy ReturnsHitman: Blood MoneyLEGO The HobbitRugrats in Paris: The MovieSpider-Man 2The SaboteurThe Adventures of Jimmy Neutron Boy Genius: Attack of the TwonkiesMetal Gear Rising: RevengeanceDynasty Warriors: Gundam 2Shrek SuperSlamTomb Raider: AnniversaryFantastic 4Epic Mickey 2: The Power of TwoThe Evil WithinRaiders of the Lost ArkGauntletAce Combat: Assault HorizonResident Evil: The Mercenaries 3DSuper Monkey Ball 3DDragon Quest Heroes: The World's Tree Woe and the Blight BelowLego Batman 3: Beyond GothamThe Matrix: Path of NeoLollipop ChainsawPower Rangers: Dino ThunderScarface: The World is YoursBakugan Battle Brawlers: Defenders of the CoreTerrariaEpic Mickey: Power of IllusionLEGO Marvel Super HeroesPac-Man World 2Die Hard Trilogy 2: Viva Las VegasSteel DiverCrash of the TitansFar Cry 2Harry Potter and the Order of the PhoenixShrek the ThirdMetal Gear Solid HD EditionMadagascar: Operation PenguinSilent Hill: Shattered MemoriesDestroy All Humans! 2World of Warcraft: Warlords of DraenorGo Diego Go! Great Dinosaur RescueFIFA Soccer 13Skylanders: SuperChargersNickelodeon Team UmizoomiFlingSmashDynasty Warriors GundamTomb Raider: UnderworldUpDouble DragonThe Godfather (JP sales)Hamsterz LifeGauntlet LegendsDeadpoolWipEoutICOSilent Hill: DownpourLego Batman 3: Beyond GothamFIFA Soccer 13Clash of ElementalistsDisney Infinity 3.0CommandoRise of NightmaresSpider-Man: Friend or FoeKong: The 8th Wonder of the WorldMega Man Star Force 3: Black Ace / Red JokerMetal Gear Solid: The Twin SnakesCircus AtariCrash of the TitansRygar: The Legendary AdventureArt Academy: Lessons for EveryoneTransformers: Dark of the Moon - Autobots/DecepticonsMario & Sonic at the Rio 2016 Olympic GamesDeadpoolGremlinsThe Mark of KriRugrats: Castle CapersStar Wars The Clone Wars: Republic HeroesMad Max (2015)Tomb Raider: LegendSkylanders: SuperChargersThe Golden CompassScooby-Doo! and the Spooky SwampHarry Potter and the Deathly Hallows - Part 1Pirates of the Caribbean: At World's EndThief (2014)Dynasty Warriors: StrikeforceLego Batman 3: Beyond GothamEnter the MatrixThe Powerpuff Girls: Relish RampageWatch DogsSpider-Man: Shattered DimensionsApocalypseTransformers: Revenge of the Fallen (Wii & PS2 Version)Samurai Warriors 3One Piece: Pirate Warriors 3Sphinx and the Cursed MummyRampage World TourBee Movie GameViking: Battle for AsgardMaze Craze: A Game of Cops 'n RobbersMobile Suit GundamSilent Hill: HomecomingSamurai Warriors: Xtreme LegendsDragon Quest Heroes: Rocket SlimeJawbreakerScooby-Doo! Mystery MayhemTeenage Mutant Ninja Turtles 2: Battle NexusDisney Infinity 3.0Disney Infinity 3.0Van HelsingTransformers: Fall of CybertronMetro: Last LightSpawn: ArmageddonThe Godfather (US sales)DmC: Devil May CryG-ForceBen 10 Alien Force: Vilgax Attacks50 Cent: BulletproofNinja Gaiden 3LEGO Star Wars II: The Original TrilogyNaughty BearArmy Men World War: Final FrontBarbie: Groom and Glam PupsScooby-Doo! Mystery MayhemRobert Ludlum's The Bourne ConspiracyBattlebots: Design & DestroyDevil May Cry HD CollectionPower Rangers: S.P.D.Mobile Suit Gundam: One Year WarSpongeBob's Atlantis SquarePantisPrimal007: Quantum of SolaceThe Chronicles of Narnia: The Lion, The Witch and The WardrobeBionicleSleeping DogsBarnstormingGhostbusters: The Video GameHunter: The Reckoning  WaywardHow to Train Your DragonDef Jam IconLego Batman 3: Beyond GothamTRON: EvolutionThe SmurfsBakugan: Battle BrawlersSkylanders: Trap TeamPirates of the Caribbean: At World's EndNaruto: Ninja Council 3Ben 10 Alien Force: Vilgax AttacksBen 10 Alien Force: Vilgax AttacksSuper Wagyan LandRascalHarry Potter and the Deathly Hallows - Part 1SpongeBob's Truth or Square (US sales)Avatar: The Last Airbender - The Burning EarthSuperman: Shadow of ApokolipsStar Wars Trilogy: Apprentice of the ForceThe Adventures of Jimmy Neutron Boy Genius: Jet FusionWolfenstein: The Old BloodDisney Infinity 2.0: Marvel Super HeroesHarry Potter and the Goblet of FireCondemned: Criminal OriginsMega Man X6Castlevania: Curse of DarknessTom Clancy's HAWX 2Double Pack: Finding Nemo / The IncrediblesStar Wars The Clone Wars: Republic HeroesNBA 2K11Hyrule WarriorsHarry Potter and the Deathly Hallows - Part 1Pirates of the Caribbean: At World's EndThe SufferingGhostbusters: The Video GameAttack on Titan: Humanity in ChainsTomb Raider: The Last RevelationCrash of the TitansGrudge WarriorsMobile Suit GundamMass Effect TrilogyX-Men: The Official Game300: March to GloryMass Effect TrilogyLEGO Jurassic WorldUpSpider-Man: Web of ShadowsStar Wars The Clone Wars: Republic HeroesSuperman: The New Superman AdventuresThe Terminator: Dawn of FateThe LEGO Movie VideogameTransformers: Fall of CybertronThe Wonderful 101No More Heroes 2: Desperate StruggleNBA 2K11Naughty BearFrom Russia With LoveFIFA Soccer 13Asura's WrathAvatar: The GameMinority Report: Everybody RunsBeowulf: The GameMouse TrapSuper Monkey Ball: Step & RollTransformers: The Game (XBox 360, PS2, PS3, Wii & PC Versions)LEGO Harry Potter: Years 5-7WipeOut 3 The GameThief (2014)Congo BongoYu-Gi-Oh! 5D's Stardust Accelerator: World Championship 2009Warriors Orochi 2 (JP sales)The Chronicles of Narnia: Prince CaspianThe Incredibles: Rise of the UnderminerPower Rangers: Dino ThunderTMNTFinal Fantasy Crystal Chronicles: The Crystal BearersIron Man 2Star Wars The Clone Wars: Republic HeroesMafia IIRocket Power: Dream SchemeSpongeBob's Truth or Square (US sales)Rampage: Total DestructionPlanet 51Nicktoons: Freeze Frame FrenzyTomb Raider: AnniversaryCondemned 2: BloodshotSilent Hill: HomecomingScooby-Doo! and the Spooky SwampHitman: Blood MoneyFantastic Four: Rise of the Silver SurferUltimate Spider-ManLEGO The Lord of the RingsSkylanders: SuperChargersViking: Battle for AsgardDisney's Brother BearLEGO Star Wars III: The Clone WarsSpongeBob's Truth or Square (US sales)Laser BlastBattleTanx: Global AssaultRobert Ludlum's The Bourne ConspiracyBlood Omen 2Skylanders GiantsAirlockSamurai Warriors ChroniclesTomb Raider: LegendIce Age: Dawn of the DinosaursSaints Row IVEvil Dead: Fistfull of BoomstickOne Piece: Unlimited World RedLooney Tunes: Acme ArsenalBatman: Arkham CityIce AgeHeadhunterOverlord: Dark LegendNinja: Shadow of DarknessLilo & Stitch 2: Hämsterviel HavocMetal Gear Solid: Snake Eater 3DMobile Suit Gundam version 2.0The Incredible HulkIron Man 2MediEvil IIHunter: The ReckoningScribblenauts: UnlimitedSaints Row: The ThirdMadagascar: Escape 2 AfricaGravitarToukiden: The Age of DemonsThe Golden CompassHarry Potter and the Prisoner of AzkabanSAWDigging for DinosaursUltimate Spider-ManMini NinjasLEGO DimensionsPrince of Persia: The Forgotten SandsRampage: Total DestructionSpider-Man: Friend or FoeScooby-Doo! Classic Creep CapersDragonfireFIFA Soccer 13Harry Potter and the Order of the PhoenixPac-Man World 2DishonoredNeed for Speed: The RunTransformers: Dark of the MoonLEGO Batman 2: DC Super HeroesThe Chronicles of Narnia: Prince CaspianTom Clancy's HAWX 2Resident Evil ZeroRobotsMetro: Last LightThe Incredibles: Rise of the UnderminerSpider-Man: Shattered DimensionsHamtaro: Ham-Ham HeartbreakMobile Suit Z-GundamCubix Robots for Everyone: Clash 'n' BashAssassin's Creed IIINBA 2K6Jurassic ParkMystical Ninja starring GoemonSaban's Power Rangers: Lightspeed RescueMiddle-Earth: Shadow of MordorDark VoidTomb Raider (2013)Chicken ShootFrogs And FliesHarry Potter and the Chamber of SecretsG-ForceBlastoRemember MeSentouchu: Densetsu no Shinobi to Survival Battle!Mini NinjasBatman: Rise of Sin TzuDisney's Tarzan: Return to the JungleMega Man X3Mini NinjasStar Wars: Flight of the FalconDragon Ball Z: Budokai Tenkaichi 2 (JP sales)Harry Potter and the Deathly Hallows - Part 2Resident Evil: Dead AimThe Adventures of Jimmy Neutron Boy Genius: Jet FusionSpongeBob SquarePants: The Yellow AvengerSaban's Power Rangers: Lightspeed RescueDef Jam IconPirates of the Caribbean: At World's EndLEGO Pirates of the Caribbean: The Video GameDynasty Warriors 5 EmpiresConanSkylanders: Trap TeamAvatar: The Last Airbender - The Burning EarthTenchu ZFreewayDriver 2 AdvanceIron Man 2Chicken RiotHarry Potter and the Deathly Hallows - Part 2Alien's ReturnFrostbiteLEGO Marvel's AvengersKameo: Elements of PowerPower Rangers SamuraiDynasty Warriors 6 EmpiresFantastic VoyageThe Adventures of Tintin: The GameBee Movie GameSilent Hill HD CollectionBank HeistHarry Potter and the Half-Blood PrinceHarry Potter and the Deathly Hallows - Part 2Tiny TankTeenage Mutant Ninja TurtlesPirates of the Caribbean: At World's EndDynasty Warriors: Gundam 2Power Rangers SamuraiFade to BlackNight at the Museum: Battle of the SmithsonianSengoku Musou 3 ZNinja BladeTransformers: Revenge of the Fallen (DS Versions)Binary DomainDeathtrap DungeonIron Man 2HulkNaruto: Rise of a NinjaDisney's Treasure PlanetMedal of Honor: WarfighterShrek SuperSlamSonic Boom: Rise of LyricSilent Hill: DownpourNight at the Museum: Battle of the SmithsonianScooby-Doo! First FrightsWay of the Samurai 2BattleTanxPhineas and Ferb: Across the 2nd DimensionElebits1001 Touch GamesGolden Axe: Beast RiderMySims SkyHeroesClash of the TitansSamurai Warriors 2: Xtreme Legends (JP sales)Teen TitansDead Rising 2: Off the RecordFrogger II: Threeedeep!LEGO The Lord of the RingsFireballBatman: Arkham OriginsGod of War CollectionOverlord IITeenage Mutant Ninja Turtles 2: Battle NexusNicktoons: Movin'Batman: Arkham OriginsResident Evil: Revelations 2Golden Axe: Beast RiderBratz: Girlz Really RockLEGO Marvel's AvengersOverlord IIBatman: Arkham AsylumCrash of the TitansOverBloodMurdered: Soul SuspectGo, Diego, Go!: Great Dinosaur RescueTrackMania TurboPrince of Persia: The Sands of TimeFortressHarry Potter and the Half-Blood PrinceFrankenstein's MonsterManhunt 2Power Rangers: Time ForceShrek the ThirdResident Evil Archives: Resident EvilDynasty Warriors 4 EmpiresLEGO Marvel's AvengersPhineas and Ferb Ride AgainMario GolfThe Incredible HulkStar Wars Episode III: Revenge of the SithThe Matrix: Path of NeoMortal Kombat: Shaolin MonksHappy FeetMetro: Last LightDark VoidDr. Seuss: How the Grinch Stole ChristmasKISS Pinball2 Games in 1: Disney's Brother Bear / The Lion King 1 1/2TRON: EvolutionDisney Infinity 3.0Taiko Drum Master: Don and Katsu's Space-Time Great AdventureMySims SkyHeroesMega Man Battle Network 2Mountain KingSorcerySlot MachineAstroblastBlade IIMonsters vs. AliensSilent Hill: Shattered MemoriesDisney's Stitch: Experiment 626Ultimate Spider-ManNicktoons: Battle for Volcano IslandOne Piece: Unlimited World RedArmy Men World War: Land, Sea, AirShrek the ThirdNES RemixBatman: The Brave and the Bold the VideogameChaos LegionLooney Tunes: Duck AmuckTom Clancy's Splinter Cell 3DDmC: Devil May CryDynasty Warriors 6Dynasty Warriors 8: Xtreme LegendsToukiden KiwamiSengoku Basara: Samurai HeroesHarry Potter and the Order of the PhoenixSkylanders: SuperChargersOne Piece Unlimited Cruise SPYu Yu Hakusho Ghost Files: Spirit DetectiveN3: Ninety-Nine NightsArmy Men: Air Attack 2Spider-Man: Friend or FoeThe Suite Life of Zack & Cody: Circle of SpiesFinding Nemo: The Continuing AdventuresShark TaleTeenage Mutant Ninja TurtlesBatman: The Brave and the Bold the VideogameThief (2014)Mini NinjasThe Godfather: Dons EditionSoul Sacrifice DeltaAssassin's Creed IV: Black FlagThe Amazing Spider-Man 2 (2014)Dynasty Warriors: StrikeforceUpPrince of Persia: Rival SwordsOne Piece Unlimited Cruise 2: Awakening of a HeroBen 10 Alien Force: Vilgax AttacksNeed for Speed: The RunStarhawkDolphinMedieval Moves: Deadmund's QuestYs: Memories of CelcetaFIFA Soccer 13Fast FoodBladestorm: The Hundred Years' WarDead Rising: Chop Till You DropDisney InfinityNicktoons: Battle for Volcano IslandSonic Boom: Shattered CrystalOne Piece: Pirate Warriors 3The PunisherTransformers: Dark of the MoonShrek the ThirdSAWEl Shaddai: Ascension of the MetatronFamily Guy: Back to the MultiverseWarriors Orochi 2Bratz: Super BabyzKung ZhuThe Golden CompassIce Age: Dawn of the DinosaursDragon Ball GT: TransformationMetal Gear Solid V: Ground ZeroesThe WarriorsX-Men: Reign of ApocalypseFantastic 4: Flame OnSiren: Blood CurseAssassin's Creed II: DiscoveryPolarisViewtiful JoeBeyblade: Metal MastersArcade Hits: Frisky TomHarry Potter and the Sorcerer's StoneJackass the GameLord of DarknessHannah Montana: Spotlight World TourDisney's Treasure PlanetShadows of the DamnedThe Chronicles of Narnia: The Lion, The Witch and The WardrobeThe Adventures of Jimmy Neutron Boy Genius: Attack of the TwonkiesSilent Hill 2: Restless DreamsDragon Quest Heroes II: Twin Kings and the Prophecy's EndDanganronpa Another Episode: Ultra Despair GirlsThe WarriorsDynasty Warriors: GundamTransformers: Cybertron AdventuresIndiana Jones and the Staff of KingsMass Effect TrilogyTak and the Guardians of GrossTrue Crime: New York CityMarvel Super Hero Squad: The Infinity GauntletDead Rising 2: Off the RecordDeadpoolKenka Bancho: Badass RumbleMr. Do!The Legend of Zelda: The Minish Cap(weekly JP sales)Resident Evil 2: Dual Shock EditionDynasty WarriorsTiny Toon Adventures: Plucky's Big AdventureIron Man 2Resident Evil: Deadly SilenceThe Evil WithinRocky: LegendsFlag CaptureG-ForceLEGO Harry Potter: Years 5-7The Adventures of Tintin: The GameSengoku Basara 4Spider-Man: Web of ShadowsShadow ManShadow of RomeTohoku Daigaku Karei Igaku Kenkyuusho - Kawashima Ryuuta Kyouju Kanshuu - Mono Sugoku Nou o Kitaeru 5-Funkan no Oni TrainingHarry Potter and the Order of the PhoenixFantastic 4The Penguins of MadagascarLEGO The HobbitThe Incredible HulkResident Evil: RevelationsRatatouilleThe Incredible HulkScooby-Doo! and the Spooky SwampBatman: Arkham Origins BlackgateDeadly PremonitionUltimate NES RemixNinja Gaiden SigmaSuperman ReturnsDynasty Warriors NextOperation Armored LibertyRory McIlroy PGA TourDynasty Warriors 7: Xtreme LegendsAnd1 StreetballAngry Birds TrilogyGundam BreakerCreateRune: Viking WarlordAikatsu! 2-nin no My PrincessSkylanders: SuperChargersRugrats: I Gotta Go PartyPrison Break: The ConspiracyThe Adventures of Jimmy Neutron Boy Genius vs. Jimmy NegatronSengoku Basara 2Skylanders: Trap TeamIndiana Jones and the Staff of KingsSengoku Basara: Battle HeroesNightmare CreaturesYakuza: IshinIndiana Jones and the Staff of KingsThe Amazing Spider-Man 2 (2014)Tom Clancy's Splinter Cell: Double AgentMonsters vs. AliensSamurai Warriors 4Classic NES Series: BombermanAvatar: The Last Airbender - The Burning EarthPeter Jackson's King Kong: The Official Game of the MovieFrogger's Journey: The Forgotten RelicStar Trek: The GameTokyo JungleHunted: The Demon's ForgeMario & Sonic at the Rio 2016 Olympic GamesLEGO Star Wars III: The Clone WarsNHL 08Teen TitansStar Wars The Clone Wars: Republic HeroesResident Evil Archives: Resident Evil ZeroThe Suite Life of Zack & Cody: Tipton TroubleHappy FeetFamily Guy: Back to the MultiverseKung Fu Panda 2UpMadagascar: Escape 2 AfricaThe Powerpuff Girls: Chemical X-TractionNHL 08Dynasty Warriors 6 (JP sales)Spider-Man: Web of ShadowsSpongeBob's Truth or Square (US sales)Spider-Man: Edge of TimeThe OutfitGex 64: Enter the GeckoThe Mummy: Tomb of the Dragon EmperorHitman: AbsolutionDevil KingsX-Men: DestinyShadow ManX-Men Origins: WolverineNinja Gaiden 3Yakuza Zero: The Place of OathPrince of Persia: The Forgotten SandsDynasty Warriors 6Porky'sHarry Potter and the Order of the PhoenixPro Evolution Soccer 2014Butt Ugly Martians: B.K.M. BattlesThe Adventures of Tintin: The GameDynasty Warriors 7LEGO Ninjago: Shadow of RoninTongari Boushi to Oshare na Mahou TsukaiSpawn the EternalBakugan: Battle BrawlersThe Incredible HulkGenma OnimushaG-PoliceSpider-Man: Shattered DimensionsHarry Potter and the Goblet of FirePeter Jackson's King Kong: The Official Game of the MovieAzurik: Rise of PerathiaThe Lord of the Rings: Aragorn's QuestThe Godfather (US & Others sales)Bakugan: Battle BrawlersFront LinePaperboyArmy Men: Air CombatMobile Suit Gundam Battlefield Record U.C.0081Harry Potter and the Deathly Hallows - Part 2Fantastic 4Ghost RiderRatchet & Clank: Going Commando (JP weekly sales)LEGO The HobbitSamurai Warriors 4X-Men: DestinyGrand Theft AutoAsura's WrathLego Star Wars: The Force AwakensDynasty Warriors 6 EmpiresWild 9Onechanbara Z2: ChaosCovert Ops: Nuclear DawnLEGO Harry Potter: Years 5-7G.I. Joe: The Rise of CobraPolly Pocket: Super Splash IslandRampageAfro SamuraiSilent Hill: Book of MemoriesEpic Mickey 2: The Power of TwoMadagascar: Escape 2 AfricaLEGO Marvel's AvengersMobile Suit Gundam: Climax U.C.Buffy the Vampire SlayerLEGO Marvel's AvengersStar Wars: The Force Unleashed IIHarry Potter and the Goblet of FireSaint Seiya: Sanctuary BattleGirls Mode 3: Kirakira CodeKung Fu Panda 2Asphalt: InjectionDynasty Warriors: Gundam RebornThe Scorpion King: Rise of the AkkadianLooney Tunes: Acme ArsenalTom Clancy's Splinter CellThe Incredible Hulk: Ultimate DestructionSkylanders: SuperChargersLEGO The HobbitNBA 2K6Dynasty Warriors: StrikeforcePerfect WeaponMafiaSpider-Man: Edge of TimeDeadly CreaturesDragon Quest Heroes II: Twin Kings and the Prophecy's EndPuss in BootsFamily Fest presents: Movie GamesMusou Orochi ZNaruto Shippuden: Ninja Council 4Genji: Dawn of the SamuraiCritical DepthBratz: Girlz Really RockRampage 2: Universal TourAll Star KarateSenran Kagura: Estival VersusRogue OpsLegion: The Legend of ExcaliburGekijouban Macross F: Sayonara no Tsubasa - Hybrid PackSpartan: Total WarriorKiller is DeadStar Trek: The GameAssaultReactorMarvel Super Hero Squad: The Infinity GauntletGundam Battle ChronicleG-ForceDanball Senki BoostHatsune Miku: Project Mirai 2Sengoku Basara 3 UtageDanny Phantom: The Ultimate EnemyCrazy ClimberRampage: Total DestructionMobile Suit Gundam SeedPuss in BootsLEGO The Lord of the RingsHitman: HD TrilogyAliens vs Predator: RequiemCastlevania: Lords of Shadow 2Barbie: Groom and Glam PupsTenchu: Shadow AssassinsJackass the GameDungeon Hunter AllianceLEGO Harry Potter: Years 5-7The SufferingMega Man 64Rampage 2: Universal TourViewtiful Joe 2Ben 10 Alien Force: Vilgax AttacksG.I. Joe: The Rise of CobraHunted: The Demon's ForgeTransformers: DevastationFrom Russia With LoveDead IslandDisney's Magical Quest Starring Mickey and MinnieNaruto: Ninja CouncilDarksiders IIJackie Chan: StuntmasterScooby-Doo! Mystery MayhemShrek SuperSlamSailor MoonOne Piece: Pirate Warriors 3Digimon World Re:DigitizeNinja Gaiden: Dragon SwordTransformers: Dark of the MoonDisaster ReportPro Evolution Soccer 2012Akiba's Trip: Undead & UndressedThe Amazing Spider-Man 2 (2014)WCW Backstage AssaultGekijouban Macross F: Itsuwarino Utahime - Hybrid PackBratz: Girlz Really RockTenchu: Return From DarknessPrison Break: The ConspiracyGhostbusters IIMetal Gear Solid V: The Phantom PainG.I. Joe: The Rise of CobraViewtiful Joe 2Transformer: Rise of the Dark SparkSenran Kagura 2: Deep CrimsonThe Chronicles of Narnia: Prince CaspianWedding DashWipeOut 3 The GameBionicleVampire RainWay of the Samurai 3Deus Ex: The ConspiracySpider-Man: Web of ShadowsBatman BeginsJSRF: Jet Set Radio FutureThe Last AirbenderProject: SnowblindLEGO The HobbitEvil Dead: RegenerationMarvel Super Hero Squad: Comic CombatThe Amazing Spider-Man (Console Version)BeyBlade VForce: Super Tournament BattleLittle Battlers eXperience: Baku BoostAnarchy ReignsLEGO Ninjago: Shadow of RoninKung Fu RiderJikkyou Powerful Pro Yakyuu 2012Power Rangers: Wild ForceAttack on Titan (KOEI)Beyblade G-RevolutionFrogger 3DPlanet 51Sengoku Basara 2 HeroesDragon Ball: Revenge of King PiccoloAssassin's Creed SyndicateWay of the Samurai 4Captain America: Super SoldierKurohyou 2: Ryu ga Gotoku Ashura HenWarriors OrochiAfro SamuraiNo More Heroes: Heroes' ParadiseSaints Row IVThe Chronicles of Narnia: The Lion, The Witch and The WardrobeCode of PrincessTomb Raider: UnderworldFrom Russia With LoveDead Space 3We Wish You A Merry ChristmasShark TaleTeenage Mutant Ninja Turtles 3: Mutant NightmarePuzzle & Dragons X: God Chapter / Dragon ChapterHarry Potter and the Goblet of FireSleeping DogsForgotten Realms: Demon StoneResident Evil: RevelationsShaman King: Spirit of ShamansConanRatatouilleWarriors OrochiTom and Jerry in House TrapPower Rangers: Time ForceX-Men Origins: WolverineFamily GuyPrince of Persia: Warrior WithinMarvel Super Hero Squad: Comic CombatPredator: Concrete JungleBeyblade: Metal Fusion - Battle FortressWipeOut 3 The GameThe Great EscapeNinja Gaiden 3Metro: Last LightSilent Hill HD CollectionSaw II: Flesh & BloodIce Age: Dawn of the DinosaursKouchuu Ouja Mushi King: Greatest Champion e no Michi DSDynasty Warriors: Gundam 2The Spiderwick ChroniclesDinotopia: The Timestone PiratesManhuntPeter Jackson's King Kong: The Official Game of the MovieX-Men Origins: WolverineGreat Phoenix Wright: Ace Attorney - Naruhodou Ryuunosuke no BoukenDante's InfernoNeed for Speed: The RunLegacy of Kain: DefianceChaotic: Shadow WarriorsSpider-Man: Shattered DimensionsTom Clancy's Splinter Cell: BlacklistKamen Rider: Battride WarBinary DomainSpongeBob's Surf & Skate RoadtripKan Colle KaiRango: The Video GameThe Amazing Spider-Man (Console Version)AeroFighters AssaultDisney Magic World 2Teenage Mutant Ninja Turtles 2: Battle NexusSaints Row IVKenka Banchou 4: Ichinen SensouShadows of the DamnedNBA 2K11Warriors: Legends of TroyHulkThe Heavy Rain and Beyond: Two Souls CollectionGod Eater ResurrectionTenchu: Fatal ShadowsHarry Potter and the Prisoner of AzkabanDynasty Warriors GundamMonsters vs. AliensMushroom Men: The Spore WarsSoulCalibur LegendsRise of the KasaiThe Munchables3rd Super Robot Wars Z: Tengoku-HenDisney's Meet the RobinsonsPenguin no Mondai X: Tenkuu no 7 SenshiThe Scorpion King: Sword of OsirisJackie Chan Adventures: Legend of the Dark HandTy the Tasmanian Tiger 3: Night of the QuinkanPro Evolution Soccer 2014Samurai Warriors 2: EmpiresBlood Omen 2Dragon Blade: Wrath of FireSamurai Warriors: State of WarTreasures of the DeepThe Lord of the Rings: War in the NorthThe Last AirbenderIndiana Jones and the Emperor's TombBuffy the Vampire Slayer: Chaos BleedsRingling Bros. and Barnum & Bailey CircusThe Chronicles of Narnia: The Lion, The Witch and The WardrobeNaruto Shippuden: Dragon Blade ChroniclesDynasty Warriors 8: EmpiresCasper: Friends Around the WorldChaotic: Shadow WarriorsGhostbusters: The Video GameFear Effect 2: Retro HelixHow to Train Your DragonRemember MeHitman: HD TrilogyX-Men Origins: WolverineLEGO Marvel's AvengersShrek SuperSlamThe Chronicles of Narnia: Prince CaspianDying LightSpider-Man: Friend or FoeLEGO Marvel Super HeroesGauntlet: Dark LegacyVan HelsingSplatterhouseMarvel Super Hero Squad: Comic CombatTransformers: Dark of the MoonShadow MadnessAliens: InfestationDynasty Warriors: Gundam 3Silent Hill 4: The RoomGodzilla (2015)Toukiden: The Age of DemonsFirebladeMercury Meltdown RevolutionBall BreakersMobile Suit Gundam Seed Destiny: Generation of C.E.Twisted Metal: Small BrawlTomb Raider: UnderworldBiohazard: Revival SelectionCaptain America: Super SoldierTRON: EvolutionMarvel Super Hero Squad: The Infinity GauntletThe Suffering: Ties That BindGreen Lantern: Rise of the ManhuntersTeen TitansHyperdimension Neptunia U: Action UnleashedFairytale FightsThe Chronicles of Narnia: Prince CaspianThe Cursed CrusadeThe Grim Adventures of Billy & MandyTime CommandoKekkaishi: Karasumori Ayakashi KidanYakuza Zero: The Place of OathX-Men: The Official GameTrue Crime: New York CityThe Idolm@ster: Shiny Festa - Honey Sound / Funky Note / Groovy TuneIce Age: Dawn of the DinosaursWatchmen: The End is Nigh - The Complete ExperienceTamagotchi no Narikiri ChallengeOne Piece: Unlimited World RedRingling Bros. and Barnum & Bailey: Circus FriendsWorld Destruction League: Thunder TanksFinding Nemo: Escape to the Big BlueResident Evil Director's Cut: Dual Shock EditionThe Lord of the Rings: Aragorn's QuestN3 II: Ninety-Nine NightsRoadKillMacross Ultimate FrontierPursuit Force: Extreme JusticeHunter: The Reckoning RedeemerPro Evolution Soccer 2014Bee Movie GameThief: Deadly ShadowsTransformers: PrimeBatman BeginsTransformer: Rise of the Dark SparkFairytale FightsJames Cameron's Dark AngelSpawn: ArmageddonGundam Assault SurviveDisney's Home on the RangeTak: Mojo MistakeNightmare Creatures IICatwomanMonsters vs. AliensCountry Dance: All StarsGarfield: Lasagna World TourWorld Destruction League: Thunder TanksBeat Down: Fists of VengeanceReloadedG-ForceState of EmergencyBakugan Battle Brawlers: Defenders of the CoreBatman Beyond: Return of the JokerHellboy: The Science of EvilGauntlet: Dark LegacyToukiden KiwamiSumikko Gurashi: Koko ga OchitsukundesuTransFormers Animated: The GameSplatterhouseSpyro: Shadow LegacyResident EvilSenran Kagura: Estival VersusAnarchy ReignsBakugan Battle Brawlers: Defenders of the CoreMr. Do!'s CastleDeath TrapArmor AmbushMobile Suit Gundam: Extreme VS ForceMLB 16: The ShowChaotic: Shadow WarriorsSpider-Man: Web of Shadows - Amazing Allies EditionCreateEl Shaddai: Ascension of the MetatronThor: God of ThunderClash of the TitansAround the World in 80 DaysDynasty Warriors 8: Xtreme LegendsCurious GeorgeMedieval GamesThe Amazing Spider-Man (Console Version)Kid Adventures: Sky CaptainDisney's American Dragon Jake Long: Attack of the Dark DragonTom and Jerry: Infurnal EscapeWarriors Orochi 3Bladestorm: NightmareBeowulf: The GameFatal Frame II: Crimson ButterflyAngry Birds TrilogyDynasty Warriors 4The Incredibles: Rise of the UnderminerEragonRobotsMurdered: Soul SuspectSengoku Basara: Chronicle HeroesThe Wild Thornberrys: Chimp ChaseThe Powerpuff Girls: Chemical X-TractionBuck BumbleDragon Ball: Origins 2Rudolph the Red-Nosed ReindeerShinobido 2: Tales of the NinjaSpongeBob's Truth or SquareBurger IslandDynasty Warriors 8Tak and the Guardians of GrossLEGO The Lord of the RingsDarksiders IIPower Rangers Double PackSaw II: Flesh & BloodRudolph the Red-Nosed ReindeerWWE '13The Incredible Hulk: The Pantheon SagaDarksiders IIMegamind: Ultimate ShowdownSpace CampSenran Kagura: Sh?jo-tachi no ShineiUltimate Spider-ManFist of the North Star: Ken's RageJurassic Park: The GameHe-Man: Power of GrayskullWing Commander III: Heart of the TigerPrince of Persia: The Forgotten SandsDeadly PremonitionChaotic: Shadow WarriorsMetal Gear Solid V: Ground ZeroesPressure CookerThe Adventures of Tintin: The GameSonny with a ChanceMurdered: Soul SuspectWolfenstein: The Old BloodThe Terminator: Dawn of FateSamurai Warriors: KatanaMarvel Super Hero Squad: The Infinity GauntletThe Incredibles: Rise of the UnderminerDarksidersThe Secret Saturdays: Beasts of the 5th SunDisney's The Lion King: Simba's Mighty AdventureThor: God of ThunderFantastic Four: Rise of the Silver SurferGoldenEye 007 (2010)Jikkyou Powerful Pro Yakyuu 2012Gundam Breaker 2Prince of Persia: The Sands of TimeZoids: Battle LegendsKiller7The Cursed CrusadeSpider-Man: Friend or FoeTerrariaCastlevania: Lords of Shadow - Mirror of Fate3rd Super Robot Wars Z: Tengoku-HenBakugan Battle Brawlers: Defenders of the CoreSpongebob Squarepants / Fairly Odd Parents Double PackBurger IslandT'ai Fu: Wrath of the TigerCandace Kane's Candy FactoryJaws UnleashedX-Men: The Official GameScarface: The World is YoursScooby-Doo! Mystery MayhemPro Baseball Spirits 2015Curious GeorgeWarriors Orochi 3Metal Gear Solid: Peace Walker HD EditionThe Incredible Hulk: Ultimate DestructionPrince of Persia: The Two ThronesKung-Fu: High ImpactBatman BeginsYakuza: IshinYu-Gi-Oh! Nightmare Troubadour (US sales)Hoppechan: Tsukutte! Asonde! Punipuni Town!!Thor: God of ThunderBakugan Battle Brawlers: Defenders of the CoreDynasty Warriors 8: Xtreme LegendsMoshi Monsters: Katsuma UnleashedElf: The MovieGrabbed by the GhouliesDeception IV: Blood TiesAdventure Time: Explore the Dungeon Because I Don't Know!Power Rangers: Super LegendsFatal FrameThe Fifth ElementKung Fu Panda 2Haunted HouseRatatouilleG.I. Joe: The Rise of CobraSengoku Musou 3 EmpiresDishonoredG.I. Joe: The Rise of CobraDisney Infinity 2.0: Marvel Super HeroesSpider-Man: Edge of TimeJust CauseKenka Banchou 5: Otoko no HousokuLegend of the Guardians: The Owls of Ga'HooleDestroy All Humans! Big Willy UnleashedKamen Rider RyukiSenran Kagura Burst: Guren no Sh?jo-tachiTerminator 3: Rise of the MachinesYogi Bear: The Video GameGundam Breaker 2Mary-Kate and Ashley: Winners CircleOkamiHitman: Blood MoneySumikko Gurashi: Omise HajimerundesuFur Fighters: Viggo's RevengeKrullTop Spin 3The Da Vinci CodeWatch DogsChicken ShootSphinx and the Cursed MummyFarming Simulator 2012Onimusha EssentialsJust Cause 3X-BladesHow to Train Your DragonYour Shape: Fitness Evolved 2013WCW Backstage AssaultBio FREAKSEarth Defense Force 2: Invaders from Planet SpaceRobotsGyakuten Saiban 2Skylanders GiantsEragonJim Henson's the Muppets: On With the Show!Monster Hunter Diary: Poka Poka Airou Village DXDino Crisis 3SyberiaCreateRango: The Video GameTransformers: PrimeDynasty Warriors 7: EmpiresStar Wars: Jedi Power BattlesYu-Gi-Oh! Nightmare Troubadour (JP sales)X-BladesCyber SledFar Cry: PrimalDead Rising 2Happy FeetBlazBlue: Chrono Phantasma ExtendFear Factor: UnleashedAvatar: The Last Airbender - The Burning EarthG.I. Joe: The Rise of CobraTomb Raider: The ProphecyGame Party: ChampionsMary-Kate and Ashley: Crush Course007: Quantum of SolaceNayuta no KisekiMedalot 7Bio FREAKSGo Play: Circus StarKing ArthurRurouni Kenshin: Enjou! Kyoto RinneBlade IITransformers: DevastationEuro Truck Simulator 2DmC: Devil May CryWipeOut 3 The GamePeter Jackson's King Kong: The Official Game of the MovieSpace CampBakugan: Battle TrainerRogue OpsArmy Men: Green RogueSuperman: The Man of SteelPro Baseball Spirits 2015Kouchuu Ouja Mushi King: Greatest Champion e no Michi DS 2Super Robot Wars BXTomb Raider: LegendDestroy All Humans! Path of the FuronStar Wars: Lethal AllianceResident Evil: Revelations 2SpongeBob's Surf & Skate RoadtripAttack on Titan (KOEI)Naruto Shippuden: Kizuna DriveRango: The Video GameTRON: EvolutionNightCasterHitman 2: Silent AssassinGreen Lantern: Rise of the ManhuntersCrouching Tiger, Hidden DragonTom Clancy's Splinter Cell: Double AgentOtogi: Myth of DemonsOnechanbara: Bikini Samurai SquadDragon Quest Heroes II: Twin Kings and the Prophecy's EndGreen Lantern: Rise of the ManhuntersJust Cause 2Teenage Mutant Ninja Turtles 2: Battle NexusTransformers: War for Cybertron -- DecepticonsOverlord: Raising HellLegend of the Guardians: The Owls of Ga'HooleTamagotchi no Pichi Pichi OmisecchiBatman: Arkham KnightWarriors Orochi 2Assault: RetributionSengoku Basara 3 UtageSpartan: Total WarriorGravity Rush RemasteredAssassination Classroom: Grand Siege on Kuro-senseiDynasty Warriors 5 EmpiresAdvent RisingLEGO Batman 2: DC Super HeroesThor: God of ThunderIce Age: Dawn of the DinosaursTeenage Mutant Ninja Turtles: Arcade AttackDynasty Warriors: Gundam RebornVictorious: Time to ShineTransformer: Rise of the Dark SparkDragon Ball: OriginsNinja ReflexMarvel Avengers: Battle for EarthResident EvilSleeping DogsLego Star Wars: The Force AwakensKidou Senshi Gundam Seed Battle DestinyGodzilla Unleashed: Double SmashObscure: The AftermathGalidor: Defenders of the Outer DimensionTom Clancy's Splinter Cell TrilogyGundam Battle RoyaleOne Piece: Pirate Warriors 2Tom Clancy's Splinter Cell: BlacklistGladiator BeginsAll Kamen Rider: Rider GenerationOnechanbara: Bikini Zombie SlayersUndead KnightsFinal Fantasy XIV: HeavenswardThe Lord of the Rings: Aragorn's QuestGundam Memories: Tatakai no KiokuMegamind: Ultimate ShowdownKaijuu BustersMobile Suit Gundam Side Story: Missing LinkCurious GeorgeTenchu: Shadow AssassinsThe God of War TrilogyKiller is DeadCory in the HouseMacross Triangle FrontierGundam Breaker 3Fat Princess: Fistful of CakeGrand Theft Auto: San AndreasPrince of Persia: Rival SwordsFate/Extra CCCGladiator: Sword of Vengeance7 Days to DieUta no * Prince-Sama: All StarThe Penguins of Madagascar: Dr. Blowhole Returns - Again!Assassin's Creed ChroniclesRodea the Sky SoldierMegaTagmension Blanc + Neptune VS ZombiesJaws: Ultimate PredatorDeception IV: Blood TiesCastlevania: Curse of DarknessSpider-Man: Edge of TimeNightshadeThe Lord of the Rings: Aragorn's QuestYogi Bear: The Video GameBuffy the Vampire Slayer: Chaos BleedsTeenage Mutant Ninja Turtles 3: Mutant NightmareRango: The Video GamePlanet 51DeadpoolTMNTHyperdimension Neptunia Re;Birth 3BarnyardYattaman DS: BikkuriDokkiri Daisakusen da KoronHappy Feet TwoFantastic Four: Rise of the Silver SurferDead Island Definitive CollectionSphinx and the Cursed MummyYakuzaToeJam & Earl III: Mission to EarthLEGO Knights' KingdomRetro Game ChallengeHeart Catch PreCure! Oshare CollectionPhantom DustShin Sangoku Musou: Multi Raid 2Pro Evolution Soccer 2014The SettlersStubbs the Zombie in Rebel Without a PulseBatman: Dark TomorrowFatal Frame: Maiden of Black WaterMySims SkyHeroesBatman: Rise of Sin TzuSkylanders: SuperChargersSpy vs SpyCoralineCold FearAkiba's Trip: Undead & UndressedZangeki no ReginleivInvizimals: The Lost TribesSamurai Warriors 4-IISamurai Warriors 4-IISabrina The Teenage Witch: Potion CommotionPower Rangers: Super LegendsSuper Run For Money Tousouchuu Atsumare! Saikyou no Tousou MonotachiSpyborgsHappy Feet TwoThe Spiderwick ChroniclesGreen Lantern: Rise of the ManhuntersEragonXXXNaruto Shippuden: Naruto vs. SasukeProject: SnowblindAstro Boy: The Video GameKouchuu Ouja Mushi King: Super CollectionThe Adventures of Jimmy Neutron Boy Genius: Jet FusionPac-Man World 2Shin Sangoku Musou 6 SpecialThe Penguins of Madagascar: Dr. Blowhole Returns - Again!EA ReplayPuss in BootsBatman & RobinChopper AttackFighting Force 64Thief (2014)Night at the Museum: Battle of the SmithsonianSamurai Warriors 4Transformers: DevastationAKB48+MeAliasPlanet 51Tornado OutbreakAstro Boy: The Video GameTerrariaMushroom Men: Rise of the FungiThe Scorpion King: Rise of the AkkadianMy Little Sister Can't Be This Cute PortableConstantineJU-ON: The GrudgeAkiba's Trip: Undead & UndressedThe Godfather: Mob WarsThe Lord of the Rings: ConquestHellboy: The Science of EvilMurdered: Soul SuspectX-Men: DestinyCats & Dogs: The Revenge of Kitty GaloreHitman TrilogyHysteria Hospital: Emergency WardTransformer: Rise of the Dark SparkBlades of TimeRengoku: The Tower of PurgatoryDynasty Warriors AdvanceViewtiful Joe: Double Trouble!Tom Clancy's Splinter Cell: ConvictionNaruto Shippuden 3D: The New EraLego Star Wars: The Force AwakensTom Clancy's HAWX 2Warriors Orochi 3Toukiden 2Earth Defense Force 2: Invaders from Planet SpaceThe First TemplarX-Men: The Official GameMobile Suit Gundam Age: Universe Accel / Cosmic DriveBusou Shinki: Battle Masters Mk. 2Kenka Bancho Bros: Tokyo Battle RoyaleAdventure Time: Finn & Jake InvestigationsKamen Rider: Battride War IITaiko no Tatsujin: V VersionPariahFatal Frame 2: Wii EditionArmy Corps of HellUniverse at War: Earth AssaultTom Clancy's Splinter Cell: Chaos TheoryHappy Feet TwoKidou Senshi Gundam UCGreen Lantern: Rise of the ManhuntersCastlevania: Lords of Shadow 2SyberiaThe Story of Noah's ArkAstro Boy: The Video GameDeath By DegreesSamurai Warriors Chronicles 2ndAmerica's Next Top ModelShellshockThe Destiny of ZorroHot Wheels Ultimate RacingMetal Gear Solid HD EditionHunter: The ReckoningUrban ChaosWater SportsYaiba: Ninja Gaiden ZX-Men: The Official GameMinority Report: Everybody RunsProject Hacker: KakuseiAll Kamen Rider: Rider Generation 2[Prototype 2]Blades of TimeVan HelsingBee Movie GameSpider-Man: Web of ShadowsDragonseedsLode Runner 3-DHarry Potter and the Deathly Hallows - Part 1Army Men World War: Team AssaultTom Clancy's Splinter CellHarry Potter and the Deathly Hallows - Part 2Marvel Super Hero Squad: The Infinity GauntletEvil Dead: Fistfull of BoomstickEarth Defense Force 2025.1: The Shadow of New DespairKung Fu Panda 2Star Wars: Lethal AllianceGenerator Rex: Agent of ProvidenceHappy Feet TwoPredator: Concrete JungleCode Lyoko: Quest for InfinityRocky: LegendsThe Secret Saturdays: Beasts of the 5th SunPower Stone CollectionThor: God of ThunderRetro Game Challenge (US sales)EyeToy: Operation SpyResident Evil: Revelations 2Ninja ReflexHeatseekerWatchmen: The End is Nigh Part 1 & 2MySims SkyHeroesSkylanders: Spyro's AdventureMan vs. WildJohnny Bravo in The Hukka-Mega-Mighty-Ultra-Extreme Date-O-RamaMind QuizBladestorm: The Hundred Years' WarDisney Planes Fire & RescueMinority Report: Everybody RunsReCoreGundam BreakerJaws: Ultimate PredatorDisney's Aladdin in Nasira's RevengeTaiko no Tatsujin: Don Don! Mystery AdventureGhostbusters: The Video Game (DS Version)BarnyardGundam Breaker 3Metal Fight BeybladeRobotsOuchi Mainichi TamagotchiFresh PreCure! Asobi CollectionRygar: The Battle of ArgusRosco McQueen: Firefighter ExtremeThe VoiceAltered Beast: Guardian of the RealmsBarbie and the Magic of PegasusAdventure Time: Finn & Jake InvestigationsDigimon World: Next OrderThe Amazing Spider-Man (Console Version)The Crew: Wild RunDevil May Cry 4Generator Rex: Agent of ProvidenceLego Star Wars: The Force AwakensNinja Gaiden BlackPlaymobil PiratesGirls und Panzer: I Will Master TankeryPlaymobil CircusDef Jam Fight For NY: The TakeoverDestroy All Humans! Path of the FuronTransformers: DevastationShrek SuperSlamNew LegendsThe Secret Saturdays: Beasts of the 5th SunIsland Xtreme StuntsYoung Justice: LegacyPro Evolution Soccer 2012Pokemon Rumble WorldDemon ChaosDaGeDarProject EdenDisney Art AcademyGhosthunterObscure: The AftermathSeven: Molmorth no KiheitaiAstro Boy: Omega FactorBatman Beyond: Return of the JokerTunnel B1Beowulf: The GameSamurai Warriors 4: EmpiresAction Man-Operation ExtremeTornado OutbreakMystic HeroesKenka Banchou 2: Full ThrottleThe Mummy: Tomb of the Dragon EmperorSpider-Man: Edge of TimeNo More Heroes: Red ZoneThe Mummy: Tomb of the Dragon EmperorCrayon Shin-Chan Shokkugan! Densetsu o Yobu Omake Daiketsusen!!Crimson SeaHyperdimension Neptunia Re;Birth 2The Suffering: Ties That BindJikkyou Powerful Pro Yakyuu 2012Happy Feet TwoViewtiful Joe: Red Hot RumbleSengoku Basara 4: SumeragiResident Evil: Revelations 2Jumper: Griffin's StoryTy the Tasmanian Tiger 3: Night of the QuinkanBionicleLego Star Wars: The Force AwakensEscape Dead IslandAdventure Time: Finn & Jake InvestigationsPuss in BootsSamurai Warriors 2: Xtreme Legends50 Cent: BulletproofForgotten Realms: Demon StoneThe Penguins of Madagascar: Dr. Blowhole Returns - Again!LEGO Star Wars II: The Original TrilogyAdventure Time: The Secret of the Nameless KingdomKnights ContractDynasty Warriors 8: EmpiresThe Incredibles: Rise of the UnderminerCharlotte's WebCyberiaKiller7The Penguins of Madagascar: Dr. Blowhole Returns - Again!Astro BoyKuroko's Basketball: Ties to FutureLara Croft and the Temple of OsirisEscape Dead IslandRescue Heroes: Billy BlazesThe Spiderwick ChroniclesArslan: The Warriors of LegendThe Secret Saturdays: Beasts of the 5th SunFrom Russia With LoveWarriors Orochi 3 HyperKidou Senshi Gundam 00Captain America: Super SoldierFamicom Mini: Adventure IslandAmerica's Next Top ModelHello Kitty: Roller RescueGundam the 3D BattleGodzilla GenerationsForbidden Siren 2God Eater ResurrectionKamen Rider: Travelers SenkiSushi AcademyKaijuu Busters PoweredNinjabread ManFatal Frame III: The TormentedZero: Tsukihami no KamenSeven Samurai 20XXTom Clancy's Splinter Cell: Pandora TomorrowC.O.P.: The RecruitAdventure Time: Explore the Dungeon Because I Don't Know!Toukiden 2Tornado OutbreakAdventure Time: The Secret of the Nameless KingdomDiego's Build & RescueLooney Tunes: Acme ArsenalWolfenstein: The Old BloodPrey the StarsKnights ContractUta no Prince-Sama: All Star After SecretTomb Raider: UnderworldSamurai WesternEarth Defense Force 2017Harry Potter and the Sorcerer's StoneSuper Sentai Battle: Ranger CrossMan vs. WildIncredible CrisisDisney's Meet the RobinsonsDoraemon: Nobita and the Island of MiraclesGekijouban Madoka Magicka: The Battle PentagramSuperman: Shadow of ApokolipsSengoku Musou 3: MoushoudenBatman: Dark TomorrowLooney Tunes: Galactic SportsThe First TemplarFirebladeJust Dance: Disney Party 2Tomb Raider: LegendRoadKillValkyrie Drive: BhikkhuniGintama: Gin-San to Issho! Boku no Kabuki Machi NikkiIndycar Series 2005The VoiceEvil Dead: RegenerationDead Island: RiptideAssassin's Creed ChroniclesLegend of the Guardians: The Owls of Ga'HooleSamurai Warriors 2Auto DestructTerrariaDangerous Ji-San to 1000-nin no Otomodachi YokoshimaEmily the Strange: StrangerousAliens in the AtticDaniel X: The Ultimate PowerUrban ReignResident Evil 3: NemesisMan vs. WildLegend of the Guardians: The Owls of Ga'HooleMonkey HeroTokyo Beat DownThe Legend of Kage 2Samurai Warriors Chronicles 3Metal Gear Solid V: The Phantom PainDisaster: Day of CrisisDynasty Warriors 3Superman ReturnsNicola Kanshuu: Model Oshare * Audition PlatinaKung Fu Panda: Legendary WarriorsGenerator Rex: Agent of ProvidenceGundam Battle TacticsSky GunnerAnd1 StreetballAdventure Time: Finn & Jake InvestigationsWarriors Orochi 3Resident Evil ZeroTomb Raider: LegendGodai: Elemental ForceUprising XSpongeBob's Truth or SquareBusou Shinki: Battle MastersTeenage Mutant Ninja Turtles: Mutants in ManhattanInvizimals: The AllianceJust Dance: Disney Party 2Kenyuu Densetsu YaibaGame Center CX: Arino no Chousenjou 2SpongeBob's Truth or SquareTom Clancy's Splinter Cell: Chaos TheoryCho~ricchi! Tamagotchi no Puchi Puchi OmisecchiJames Cameron's Dark AngelMonster Rancher Battle Card: Episode IIJumper: Griffin's StoryFamicom Mini: Nazo no Murasame-JouHaunting GroundTornadoLoons: The Fight For FameMetal Gear SolidSilent Hill: OriginsBlast RadiusHarry Potter and the Sorcerer's StoneMcFarlane's Evil ProphecySamurai WarriorsZettai Zetsumei Toshi 3: Kowareyuku Machi to Kanojyo no UtaBlazBlue: Chrono Phantasma ExtendG-SaviourGintama DS: Yorozuya DaisoudouCrayon Shin-Chan: Obaka Daininden - Susume! Kasukabe Ninja Tai!Crimson Sea 2Doraemon: Nobita to Himitsu Dougu HakubutsukanAlpha and OmegaCatwomanCrayon Shin-Chan: Densetsu o Yobu Omake no To Shukkugaan!Assassin's Creed: RogueSpartan: Total WarriorFantastic FourRiver City Ransom EXGenerator Rex: Agent of ProvidenceDynasty Warriors 8: EmpiresFairy Tail: Zelef KakuseiTank! Tank! Tank!Street Fighter II': Special Champion Edition (JP weekly sales)Hoppechan: Minna de Odekake! Waku Waku Hoppe Land!!Jackass the Game DSToy Soldiers: War ChestRobot Alchemic DriveGodzilla (2014)Dynasty Warriors DS: Fighter's BattleOverBlood 2Moshi Monsters: Katsuma UnleashedFirefighter F.D.18Resident Evil 5Mega Man X4Monster High: New Ghoul in SchoolThe Powerpuff Girls: Relish RampageAlan WakeNinja WarriorsLost Heroes 2Norse by Norsewest: The Return of the Lost VikingsJust Dance: Disney Party 2Shin Lucky * Star: Moe Drill ~Tabidachi~Secret Service: Ultimate SacrificeAlex Rider: StormbreakerDeep LabyrinthHammerin' HeroSpawn: ArmageddonGod HandShin Chan: Las Nuevas Aventuras Para Wii!Prince of Persia: The Fallen KingBatman: Rise of Sin TzuFuture Card Buddy Fight: Yuujou no Bakunetsu FightPenguins of MadagascarX-Men: The Official GameTransformer: Rise of the Dark SparkArmy Men: Green RogueTRON: EvolutionOne Piece: Unlimited World RedInsecticideFrogger Advance: The Great QuestDisney InfinityStreets of Rage 3Lego Star Wars: The Force AwakensKabuki WarriorsThe LEGO Movie VideogameEscape from Bug IslandNanoBreakerBionicleDisney's Magical Quest 2 Starring Mickey and MinnieIkki Tousen: Xross ImpactBullet GirlsMitsukete! Keroro Gunsou: Machigai Sagashi Daisakusen de Arimasu!Samurai Warriors Chronicles 3Dynasty Warriors VsThe Book of Unwritten Tales: The Critter ChroniclesTonka Rescue PatrolLegend of KayOrder Up!!Lego Batman 3: Beyond GothamFamicom Mini: Balloon FightChou Gekijouban Keroro Gunsou 3: Tenkuu Daibouken de Arimasu!Ratchet & Clank CollectionTom Clancy's Splinter Cell: Pandora TomorrowGame Center CX: 3-Choume no ArinoLegend of KayMystic HeroesThe Amazing Spider-Man 2 (2014)Tron 2.0: Killer AppWarhammer: Battle For AtlumaPower ShovelGenerator Rex: Agent of ProvidenceSong of the DeepEarth Defense Force 2017 PortableWinx Club: Quest for the CodexDevil's ThirdKikou Heidan J-PhoenixBarbie and Her Sisters Puppy RescueShonen Jump's Shaman King: Legacy of the Spirits - Soaring Hawk/Sprinting WolfJissen Pachislot Secrets! Fist of the North Star F - Seikimatsu Kyuuseishu DensetsuTerrariaNicola Kanshuu: Model * Oshare Audition 2Cold FearMobile Suit Gundam 00: Gundam MeistersThe Great EscapeX-Men: DestinyMetal Gear Solid: Social OpsKurupoto Cool Cool StarsCrazy Chicken TalesHagane no Renkinjutsushi - Fullmetal Alchemist: Yakusoku no Hi eBatman: Rise of Sin TzuDead Rising 2: Off the RecordPlaymobil KnightsNazotoki Battle Tore! Densetsu no Makyuu o Fukkatsu Saseyo!Pro Evolution Soccer 2012Rurouni Kenshin: Meiji Kenyaku Romantan - KansenRemember MeICOPrinny: Can I Really Be The Hero? (US sales)BlazBlue: Chrono Phantasma ExtendSmile PreCure! Let's Go! Marchen WorldGun ShowdownXiaolin ShowdownDarksiders IICreateTop Gun: Hard LockDisney Planes Fire & RescueAttack on Titan (KOEI)DuckTales: RemasteredLEGO Batman: The VideogameTrackMania TurboTeenage Mutant Ninja Turtles 3: Mutant NightmareMercury MeltdownHi Hi Puffy AmiYumi: KaznappedResident Evil - Code: Veronica XSummon Night 6: Lost BordersDoraemon: Nobita no Uchuu EiyuukiTraptJumper: Griffin's StoryBrave: A Warrior's TaleAnsatsu Kyoushitsu: Assassin Ikusei Keikaku!!Raw Danger! (JP sales)Tron 2.0: Killer AppSteins;Gate: Hiyoku Renri no DarlingCaptain America: Super SoldierGegege no Kitarou: Youkai DaigekisenG-Police: Weapons of JusticeAll Kamen Rider: Rider Generation 2Warriors Orochi 2Brave: A Warrior's TaleBroken HelixThe SaboteurWarriors: Legends of TroyFatal FrameTeenage Mutant Ninja Turtles II: Back from the SewersResident Evil 2The Amazing Spider-Man 2 (2014)Vampire Rain: Altered SpeciesHarry Potter and the Sorcerer's StoneScurge: HiveCatwomanMurdered: Soul SuspectRomance of the Three Kingdoms 13Katekyoo Hitman Reborn! DS Flame Rumble XX - Kessen! Shin 6 ChoukaAnimorphs: Shattered RealityTerminator 3: Rise of the MachinesConstantineTom Clancy's Splinter Cell: Double AgentEvangelion: JoSamurai Jack: The Shadow of AkuKamen Rider KabutoNights of AzureDungeon Keeper 2Viewtiful Joe: Red Hot RumbleSamurai Warriors 4: EmpiresHakuouki: Yuugi Roku Ni - Matsuri Hayashi to TaishitachiGintama no SugorokuThe Lord of the Rings: Aragorn's QuestBattleBots: Beyond the BattleBoxCoralineCarmen Sandiego: The Secret of the Stolen DrumsLegend of KayCaptain America: Super SoldierNHL LegacyFinal Fight: StreetwiseKamen Rider: Battride War GenesisGladiator: Sword of VengeanceXiaolin ShowdownSamurai Dou PortableSamurai Warriors 4: EmpiresDuckTales: RemasteredMister SlimeShiren the Wanderer 5 Plus: Fortune Tower and the Dice of FateMarc Ecko's Getting Up: Contents Under PressureBlood Omen 2Shin Sangoku Musou 5 EmpiresGachiTora! Abarenbou Kyoushi in High SchoolDynasty Warriors 5Adventure Time: Finn & Jake InvestigationsSamurai Warriors 4-IITom Clancy's HAWX 2Uta no Prince-Sama: Music 3New Prince of Tennis: Go to the TopZyuden Sentai Kyoryuger: Game de Gaburincho!!ZombiUDomino RallySamurai Champloo: SidetrackedTeenage Mutant Ninja Turtles: Mutants in ManhattanKatekyoo Hitman Reborn! DS: Shinuki Max! Vongola Carnival!!Metal Fight Beyblade: Bakugami Susanoh Shuurai!Minna no EnnichiKing ArthurHunted: The Demon's ForgeToy Soldiers: War ChestAliens in the AtticCode LyokoTaito Legends Power UpTenchu: Dark SecretJoJo no Kimy? na B?ken Fantomu BuraddoTsumiki: Block Drop ManiaShin Sangoku Musou 5 SpecialOtogi 2: Immortal WarriorsLegend of KayStrawberry Shortcake: Strawberryland GamesHysteria Hospital: Emergency WardTiny Toon Adventures: Toonenstein - Dare to ScareLuminous Arc InfinityOntamaramaExpendableBakemonogatari PortableKeroro Gunsou: Enshuu da Yo! Zenin Shuugou Part 2KamiwazaJim Henson's Muppets in Spy Muppets: License to CroakLEGO The HobbitAliasAdventure Time: Finn & Jake InvestigationsDead in the WaterDetective Conan: Prelude from the PastDr. Seuss: Green Eggs and HamSengoku Basara 4: SumeragiYaiba: Ninja Gaiden ZGuild 01Ty the Tasmanian Tiger 3: Night of the QuinkanCartoon Network RacingRogue OpsG1 Grand PrixLEGO Indiana Jones 2: The Adventure ContinuesAround the World in 80 DaysThe Grim Adventures of Billy & MandyAdventure Time: Explore the Dungeon Because I Don't Know!Bladestorm: NightmareDowntown no Gaki no Tsukai Yaarahen de!! Zettai ni Tsukamatte Haikenai Gasu Kurobikari LandBarnyardCrime Life: Gang WarsDynasty Warriors Vol. 2Secret ServiceFatal Frame II: Crimson Butterfly Director's CutKamen Rider: Battride War GenesisShugo Chara! 3-tsu no Tamagoto Koisuru JokerSaints Row: Gat out of HellSoul Eater: Plot of MedusaGaist CrusherNaruto: Uzumaki Chronicles 2 (JP sales)Clever Kids: Creepy CrawliesNightCaster II: EquinoxOre-Sama Kingdom: Koi no Manga mo Debut o Mokushise! Doki Doki Love LessonFast & Furious: ShowdownTMNTMafiaFantastic Four: Rise of the Silver SurferRimo-CocoronTo Love-Ru Trouble Darkness: Battle EcstasyHakuouki: Bakumatsu Musou RokuArslan: The Warriors of LegendDouble Dragon AdvanceFantastic Four: Rise of the Silver SurferToukiden KiwamiAvatar: The GameLEGO FriendsDanny Phantom: Urban JungleWorld Trigger: Borderless MissionAssault RigsYes! PreCure 5Tom Clancy's HAWXRoswell Conspiracies: Aliens, Myths & LegendsDead Island Definitive CollectionCandace Kane's Candy FactoryHeatseekerChou Gekijoban Keroro Gunsou: Gekishin Dragon Warriors de Arimasu!CoralineDead Head FredHyperdimension Neptunia mk2Disney's Meet the RobinsonsSpy FictionResident Evil Director's CutKing ArthurChicken ShootJewel Quest 5: The Sleepless StarYowamushi PedalSan-X Land: Theme Park de Asobou!Naruto Shippuden: Dairansen! Kage Bunshin EmakiThe SmurfsRed Ninja: End of HonorNaruto Shippuuden: Shinobi Retsuden IIIBarnyardSPRayNo Rules: Get PhatZombi DaisukiLEGO Indiana Jones: The Original AdventuresDoraemon: Shin Nobita no Daimakyou Peko to 5-nin no TankentaThe Invincible Iron ManRefrain no Chika Meikyuu to Majo no RyodanMaken Shao: Demon SwordPlaymobil Top AgentsKamen Rider: Battride War GenesisPocket PoolThe CubeDevil May Cry 4Great Battle Full BlastHitman (2016)7 Days to DieDoki Doki! PreCure Narikiri Life!Gravity Falls: Legend of the Gnome GemuletsWay of the Samurai 2 PortableHellboy: The Science of EvilLionel Trains: On TrackCatwomanDo-Konjou Shougakussei: Bon Bita - Hadaka no Choujou Ketsusen!! Bita vs. Dokuro Dei!Ou to Maou to 7-nin no Himegimitachi: Shin Ousama MonogatariAeon FluxHanaoni: Yume no TsudzukiGoGo's Crazy BonesGrand Theft Auto: Vice CityOokami KakushiKikou Heidan J-Phoenix 2Sengoku Musou 3 Z SpecialResident Evil: Operation Raccoon CitySamurai Warriors 2: EmpiresInfamous: First LightTerrariaGo Diego Go!: Safari RescueThe Da Vinci CodeAstro Boy: The Video GameResident Evil: RevelationsShadow of the ColossusHeadhunter: RedemptionThe Chase: Felix Meets FelicityCastlevania: Lords of Shadow 2Herc's AdventuresBlazBlue: Chrono Phantasma ExtendRomance of the Three Kingdoms 13Yuki Yuna is a Hero: Memory of the ForestScarface: The World is YoursMobile Suit Gundam: Mokuba no KisekiSong of the DeepGundam Battle OnlineHarry Potter and the Order of the PhoenixStolenMonster High: New Ghoul in SchoolBullet Girls 2Famicom Remix Best ChoiceDynasty Warriors Vol. 2 (JP sales)Tokumei Sentai Go-BustersSaints Row 2Harry Potter and the Prisoner of AzkabanLEGO Jurassic WorldDragon Ball: Advanced AdventureThe Ripping FriendsRodea the Sky SoldierHunter x Hunter: Wonder AdventureSuper Army WarAo no Exorcist: Genkoku no LabyrinthDuckTales: RemasteredWarriors Orochi 3Monster High: New Ghoul in SchoolCy GirlsMinority Report: Everybody RunsToki no Kizuna: Sekigahara KitanGumby vs. the AstrobotsNHL LegacyTeenage Mutant Ninja Turtles 3: Mutant NightmareCastlevania: Lords of Shadow - ReverieBeatdown: Fists of VengeanceAilu de PuzzleTomb Raider: AnniversaryHot Potato!Barbie and Her Sisters Puppy RescuePenguins of MadagascarKuroshitsuji: Phantom & GhostPirates: Duels on the High SeasAegis of Earth: Protonovus AssaultHello Kitty: Roller RescueHitman: Blood MoneyAssassin's Creed Chronicles: ChinaThe Cursed CrusadeHousekeepingDetective Conan: Prelude from the PastAdventure Time: Explore the Dungeon Because I Don't Know!Fast & Furious: ShowdownAlienators: Evolution ContinuesOnechanbara Z KaguraTop Gun: Hard LockAsterix & Obelix: Kick ButtixBounty HoundsCare Bears - Care QuestEven in a Game Listen to Me Girls. I Am Your Father!Boboboubo Boubobo: Ougi 87.5 Bakuretsu Hanage ShinkenSky DancersKekkaishi: Kokubourou no KageMame Goma: Shiro to Kuro no MeikyuuCrouching Tiger, Hidden DragonClash of ElementalistsDeer Drive: LegendsDiabolik Lovers: Dark FateTeenage Mutant Ninja Turtles: Mutants in ManhattanBattle Assault 3 featuring Gundam SeedBatman Forever: The Arcade GameDetective Conan: Phantom RhapsodyM&Ms Shell ShockedK-On! After School Live!! HD Ver.Overlord IIYoung Justice: LegacyShining StarsPrince of Persia: The Forgotten SandsRugby League Live 3Project Gotham Racing 2 (JP weekly sales)Ukiyo no ShishiThe Binding of IsaacCT Special ForcesLiving Legends: Frozen Beauty.hack: Sekai no Mukou ni + VersusDisney's Hide & SneakRaw Danger!Monster Rancher Hop-A-BoutMetroid Prime: Federation ForceSilverliciousToriko: Ultimate SurvivalMonster High: New Ghoul in SchoolA Good Librarian Like a Good Shepherd: Library PartyDance FactoryDragonHeart: Fire & SteelGal Gun: Double PeacePriPara & Pretty Rhythm: PriPara de Tsukaeru Oshare Item 1450!RoadKillFullmetal Alchemist: BrotherhoodHakuoki Zuisouroku Omokage HanaTimmy TimeRatatouilleBoot Camp AcademyHarry Potter and the Half-Blood PrinceCode Lyoko: Quest for InfinityKekkaishi: Kokubourou ShuuraiShugo Chara! Amunonijiro Chara ChangeGalleon: Islands of MysterySummon Night 6: Lost BordersNacho LibreEbikore Photo Kano KissBad Apple WarsTransformers: DevastationJyuzaengi: Engetsu SangokudenShin Sangoku Musou Online: Kamishou RanbuKeshisasu-Kun: Battle Kas-tivalPet Alien: An Intergalactic PuzzlepaloozaZoboomafoo: Leapin' Lemurs!The Peanuts Movie: Snoopy's Grand AdventureResident Evil 4Power Rangers Super MegaforceTeenage Mutant Ninja Turtles: Mutants in ManhattanCharlie Blasts TerritoryCode Geass: Hangyaku no LelouchDownstream Panic!Katekyoo Hitman Reborn! DS: Ore ga Boss! Saikyou Family TaisenStar Wars: The Force Unleashed IIPrincess Natasha: Student, Secret Agent, PrincessCurious GeorgeKung Fu Panda: Showdown of Legendary Legends007: Quantum of SolacePhantasy Star Online 2: Episode 3 Deluxe PackageBeyblade EvolutionPlanet of the ApesOumagatoki: Kaidan RomanceKung Fu Panda: Legendary WarriorsNanashi no Game MeYoung Justice: LegacySyberiaBladestorm: NightmareHigurashi no Naku Koro ni IkiTreasure Gaust: Gaust Diver Crimson Red / Deep PurpleGrid RunnerGekido Advance: Kintaro's RevengeTurn It AroundAttack on Titan (KOEI)Buffy the Vampire Slayer: Wrath of the Darkhul KingMy Hero Academia: Battle for AllRugby League Live 3Monsters vs. AliensBleach DS 4th: Flame BringerPacific LiberatorFirebladeKong: King of AtlantisKidou Senshi V GundamGanbare Goemon: Toukai Douchuu Ooedo Tengurigaeshi no MakiThe Settlers II 10th AnniversaryOnechanbara Z KaguraThe IdolM@ster: Gravure For You! Vol. 6Ghostbusters (2016)Secrets of the TitanicHarukanaru Toki no Naka de 6Samurai Warriors 2Darius Burst: Chronicle SavioursBiohazard: Revival SelectionPrince of Persia (2008)Super Duper SumosGudetama: Hanjuku de TanomuwaStar Trek: The GameThe Last GuyGintama: Banji Oku Chuubu!Aegis of Earth: Protonovus AssaultKaizoku Sentai Gokaiger: Atsumete Henshin! 35 Sentai!Jewel Quest 5: The Sleepless StarTiger & Bunny: On-Air Jack!Pro Evolution Soccer 2012Eureka Seven AO: Jungfrau no HanabanatachiStar Wars The Clone Wars: Republic HeroesLet's Sing 2016Buffy the Vampire Slayer: Chaos BleedsBrothers Conflict: Passion PinkMy Frogger: Toy TrialsJet Grind RadioStrike Witches: Aoi no Dengekisen - Shin Taichou Funtousuru!Under the SkinKabu Trader ShunPoy PoyBully: Scholarship EditionSengoku Basara: Sanada Yukimura-DenMonster High 13 WishesDisney Planes Fire & RescueJustice League Heroes: The FlashThe Peanuts Movie: Snoopy's Grand AdventureTerrariaHokuto no Ken: Hokuto Shinken Denshousha no MichiThe Lord of the Rings: ConquestLittle Busters! Converted EditionCapcom Digital CollectionMoyashimon DSX-Men Origins: Wolverine - Uncaged EditionLEGO Pirates of the Caribbean: The Video GameThe Peanuts Movie: Snoopy's Grand AdventureSoul Eater: Battle ResonanceThe Great Battle Gaiden 2: Matsuri da WasshoiEvangelion: JoGhostbusters (2016)Yes! Precure 5 Go Go Zenin Shu Go! Dream FestivalThe Idolmaster: Gravure For You! Vol.7Juusanshi Engi Engetsu Sangokuden 2No More Heroes: Heroes' ParadiseAno Hi Mita Hana no Namae o Bokutachi wa Mada ShiranaiNaruto Shippuden: Ultimate Ninja Storm CollectionLEGO Harry Potter: Years 1-4Carmen Sandiego: The Secret of the Stolen DrumsDisney's Magical Quest 3 Starring Mickey and DonaldRengoku II:  The Stairway To H.E.A.V.E.N.Strike Witches 2: Iyasu Naosu PunipunisuruTV Anime Idolm@ster: Cinderella Girls G4U! Pack Vol.1The VoiceBunmei Haruka: Aoiza IbunrokuDiabolik Lovers: Vandead CarnivalTy the Tasmanian Tiger 3: Night of the QuinkanCross Ange: Tenshi to Ryuu no Rondo tr.Kenka Bancho OtomePenguins of MadagascarKung Fu PandaWinning Post 8 2015CevilleTotally Spies! 2: UndercoverNatalie Brooks: Mystery at Hillcrest HighNANA: Live Staff Daiboshuu! Shoshinsha KangeiCastlevania: Lords of Shadow - ReverieLa Corda d'Oro 4Thomas and Friends: Steaming around SodorPrison ArchitectKingdom: Ikkitousen no KenRugby League Live 3ScrapLandBrave: The Video GameBig Idea's VeggieTales: LarryBoy and the Bad AppleFranklin's Great AdventuresSAWTo Love-Ru Trouble: Darkness - True PrincessIce Age: Dawn of the DinosaursRule of RoseInvizimals: The Lost KingdomWinning Post 8 2015Ukiyo no RoushiAegis of Earth: Protonovus AssaultKung Fu Panda: Showdown of Legendary LegendsSimple 2500 Series Portable!! Vol. 12: The Hohei 2: Senyuu yo, Sakini IkeSengoku Otome: Legend BattleKnight's Apprentice: Memorick's AdventuresDarksidersDisney's Meet the RobinsonsGenrohCarmen Sandiego: The Secret of the Stolen DrumsDies Irae: Amantes AmentesThe Idolmaster: Gravure For You! Vol.9Brave: The Video GameTengen Toppa Gurren-LagannSpider-Man: Web of ShadowsShinken de Watashi ni Koi Shinasai! RFinal Fantasy XIV: HeavenswardDetective Jinguuji Saburo: Ronde RevengeRugby League Team Manager 2015Hot 'n' ColdKikou Heidan J-Phoenix: Cobalt ShoutaihenMeikyuu Cross Blood: ReloadedChuck E. Cheese's Super CollectionKung Fu Panda: Showdown of Legendary LegendsDead RisingThe Idolmaster: Gravure For You! Vol.8Hakuoki: Shinkai - Furi no ShouHeadhunter: RedemptionOnechanbara SpecialJewel Link: Galactic QuestSilent BomberSamurai & DragonsCrayon Shin-Chan: Uchuu de Achoo!? Yuujou no Oba-Karate!!Anima - Gate of MemoriesArcana Famiglia: Vascello Phantasma no MajutsushiResident Evil: Umbrella CorpsStrike Witches: Anata to Dekiru Koto - A Little Peaceful DaysDragon Ball Z: Buu's Fury / Dragon Ball GT: TransformationKokoro Connect: Yochi RandomTenkai Knights: Brave BattleResident Evil ZeroDowntown Nekketsu JidaigekMini NinjasLegend of Kay AnniversaryUchuu Keiji Tamashii: The Space Sheriff SpiritsAngelique RetourWinx Club: Saving AlfeaGarfield Gets RealTV Anime Idolm@ster: Cinderella Girls G4U! Pack Vol.5Date-A-Live Twin Edition: Rio ReincarnationNatsuiro High School: Seishun HakushoTom Clancy's Splinter Cell Classic Trilogy HDDynasty Warriors 8: EmpiresOtoko YukakuRose to Tasogare no KojouSengoku Basara: Sanada Yukimura-DenMushihimesamaSoukoku no Kusabi: Hiiro no Kakera 3 - Ashita e no TobiraCharlie's AngelsTeenage Mutant Ninja Turtles Double PackMarvel Avengers: Battle for EarthNatsuiro High School: Seishun HakushoKamen Rider: Battride War IIKatekyoo Hitman Reborn!! Let's Ansatsu!? Nerawareta 10 Daime!The MummyThe Crow: City of AngelsPoyo Poyo Kansatsu NikkiGon: BakuBakuBakuBaku AdventureDowntown Nekketsu Koushinkyoku: Soreyuke Daiundoukai All-Star SpecialLovely x Cation 1 & 2New Atelier Rorona: Hajimari no MonogatariThe Crew: Wild RunMy Hero: DoctorMetal Fight Beyblade Portable: Chouzetsu Tensei Vulcan HorsesSD Gundam Sangokuden Brave Battle Warriors: Shin Mirisha TaisenRed Ninja: End of HonorSega Ages 2500 Series Vol. 26: Dynamite DekaKong: The Animated SeriesThe Crew: Wild RunToukiden 2PachiPara 3D: Ooumi Monogatari 2 - Pachi Pro Fuuunroku HanaBen 10 Omniverse 2Tomb Raider: LegendRising Zan: The Samurai GunmanKimikare: New SemesterKatekyoo Hitman Reborn! Kindan no Yami no DeltaLara Croft and the Temple of OsirisFinal Fantasy XIV: HeavenswardSeinaru Kana: Orichalcum no Na no MotoniSong of the DeepTV Anime Idolm@ster: Cinderella Girls G4U! Pack Vol.2Pirates PlundArrrLost: Via DomusMonster High 13 WishesTV Anime Idolm@ster: Cinderella Girls G4U! Pack Vol.3This War of MineMarvel Superheroes 3D: Grandmaster's ChallengeArslan: The Warriors of LegendFinal Fight: StreetwiseNano DiverElkrone no Atelier: Dear for OtomateTV Anime Idolm@ster: Cinderella Girls G4U! Pack Vol.4LEGO Star Wars II: The Original TrilogyJust CauseAbunai: Koi no Sousa ShitsuL.G.S: Shinsetsu HoushinengiOne Piece MansionSoul Eater: Monotone PrincessBig Idea's VeggieTales: LarryBoy and the Bad AppleMetal Fight Beyblade: Choujou Kessen! Big Bang BladersClock Zero: Shuuen no Ichibyou - ExTimeBig Bass FishingReine des FleursLEGO Star Wars: The Video GameDark VoidIrritating StickSimple 2000 Series Vol. 105: The Maid Fuku to KikanjuuZombie Hunters 2Custom DriveSamurai Jack: The Shadow of AkuThe Incredibles: Rise of the UnderminerOre wa Shoujo MangakaBusou Renkin: Youkoso Papillon Park eZoey 101: Field Trip FiascoUsavichi: Game no JikanPsychedelica of the Black ButterflyDuckTales: RemasteredTransformers: PrimeGaist Crusher GodStrongest Tokyo University Shogi DSShin Sangoku Musou Online: Souten RanbuDinotopia: The Sunstone OdysseyYuu Yuu Hakusho DS: Ankoku Bujutsukai HenGames Explosion!Saenai Kanojo no Sodatekata: Blessing FlowersProfessional Farmer 2016Storm Lover Kai!!Harukanaru Toki no Naka de 6Katekyoo Hitman Reborn! DS: Mafia Daishuugou Bongole FestivalBarbie and Her Sisters Puppy RescueWorms: WMDTiger & Bunny: Hero's DayJust CauseGirl Friend Beta: Kimi to Sugosu NatsuyasumiMeiji Toukyou Renka: Twilight KissTurokCoven and Labyrinth of RefrainSuper Battle For Money Sentouchuu: Kyuukyoku no Shinobu to Battle Player Choujou Kessen!BlackthorneBlack CatGod Eater Off Shot: Soma Shikkuzaru-hen Twin Pack & Animation Vol.4UppersRengoku II: The Stairway to H.E.A.V.E.N. (jp sales)Kaitou RousseauAbunai: Koi no Sousa ShitsuKaitou Joker: Toki o Koeru Kaitou to Ushinawareta HousekiAquaman: Battle for AtlantisInfinite Stratos 2: Love and PurgeGrand Theft Auto IIIResident Evil 5 HDMiyako: Awayuki no UtageBen 10 Omniverse 2Aeon FluxBarbie and Her Sisters Puppy RescueHigurashi no Naku Koro ni IkiParanormal Pursuit: The Gifted OneNinja Gaiden Sigma 2Nintendogs and Cats Golden Retriever and New FriendsYoung Justice: LegacyCollar x MaliceDragon's Dogma Online: Season 2Norn + Nonette: Last EraHarry Potter and the Chamber of SecretsFuuraiki 3Chokkan! Asonde RelaxumaSoulCalibur Legends (JP sales)Monkey Madness: Island EscapeOrder Up!!RepubliqueSan-X Character Channel: All-Star Daishuugou!LegolandHyakka YakouHakuoki: Reimeiroku DSBunmei Kaika: Aoiza Ibunroku SaienTsukigime Ranko's Longest DayBakumatsu RockDynasty Warriors: EiketsudenSpider-Man: Friend or FoeCarmageddon: Max DamageSengoku Basara 2 HeroesHi Hi Puffy AmiYumi: The Genie & the AmpAquaman: Battle for AtlantisSimple DS Series Vol. 41: The Bakudan Shori-HanParagonDokuroSlide Adventure: Mag KidFarming Simulator 15 Expansion PackRoot Double: Before Crime After DaysRainbow Islands: RevolutionLegend of Kay AnniversaryTsuyo Kiss 3 PortableFireman Sam: Action StationsDurarara!! RelayFuun Shinsengumi Bakumatsuden PortablePeriod Cube: Torikago no AmadeusProfessional Farmer 2016Dinotopia: The Sunstone OdysseyKenka Banchou PortableThe Amazing Spider-Man (DS & Mobile Versions)Fallout AnthologyDance with DevilsCrouching Tiger, Hidden DragonFate/kaleid liner Prisma IllyaTrackMania TurboSan-X: Chara Sagashi LandTenchu San PortableThe Wild WestThe Amazing Spider-Man 2 (2014)Teenage Mutant Ninja Turtles (3DS)The Godfather (JP sales)Brothers Conflict: Precious BabyShin Sangoku Musou 4 SpecialMadagascar: Escape 2 AfricaLegacy of Kain: DefianceAssassin's Creed ChroniclesHyperdimension Neptunia mk2Rugby League Live 3Winx Club: Saving AlfeaKatekyoo Hitman Reborn! Kindan no Yami no DeltaHorse Life 4: My Horse, My Friend, My ChampionAzure Striker Gunvolt: Striker PackShinobi, Koi Utsutsu: Setsugetsuka Koi EmakiKoi Sentai Love & Peace the P.S.P: Power Zenkai! Special Youso Tenkomori de Portable Ka Daisakusen de Aru!The SmurfsUnending Bloody CallIrotoridori no Sekai: World's End Re-BirthTrineTeenage Mutant Ninja TurtlesHirameki Action: Chibikko Wagyan no Daiki na BoukenHitman (2016)Metal Gear Solid HD EditionMushi BugyouTransformers: Fall of CybertronHyakki Yagyou Kaidan RomanceHakuoki: Reimeiroku - Omouhase KaraE.T. The Extra-TerrestrialGod Eater Off Shot: Tachibana Sakuya-hen Twin Pack & Animation Vol.7Original Frisbee Disc Sports: Ultimate & GolfFujiko F. Fujio Characters: Great Assembly! Slightly Fantastic Slapstick PartyPlanet MonstersCarmageddon 64Chou Ezaru wa Akai Hana: Koi wa Tsuki ni Shirube Kareru' to numeric",
      "\nThe above exception was the direct cause of the following exception:\n",
      "\u001b[1;31mTypeError\u001b[0m                                 Traceback (most recent call last)",
      "Cell \u001b[1;32mIn[47], line 1\u001b[0m\n\u001b[1;32m----> 1\u001b[0m \u001b[43mgroup\u001b[49m\u001b[38;5;241;43m.\u001b[39;49m\u001b[43mmean\u001b[49m\u001b[43m(\u001b[49m\u001b[43m)\u001b[49m\n",
      "File \u001b[1;32mc:\\Users\\javie\\AppData\\Local\\Programs\\Python\\Python312\\Lib\\site-packages\\pandas\\core\\groupby\\groupby.py:2452\u001b[0m, in \u001b[0;36mGroupBy.mean\u001b[1;34m(self, numeric_only, engine, engine_kwargs)\u001b[0m\n\u001b[0;32m   2445\u001b[0m     \u001b[38;5;28;01mreturn\u001b[39;00m \u001b[38;5;28mself\u001b[39m\u001b[38;5;241m.\u001b[39m_numba_agg_general(\n\u001b[0;32m   2446\u001b[0m         grouped_mean,\n\u001b[0;32m   2447\u001b[0m         executor\u001b[38;5;241m.\u001b[39mfloat_dtype_mapping,\n\u001b[0;32m   2448\u001b[0m         engine_kwargs,\n\u001b[0;32m   2449\u001b[0m         min_periods\u001b[38;5;241m=\u001b[39m\u001b[38;5;241m0\u001b[39m,\n\u001b[0;32m   2450\u001b[0m     )\n\u001b[0;32m   2451\u001b[0m \u001b[38;5;28;01melse\u001b[39;00m:\n\u001b[1;32m-> 2452\u001b[0m     result \u001b[38;5;241m=\u001b[39m \u001b[38;5;28;43mself\u001b[39;49m\u001b[38;5;241;43m.\u001b[39;49m\u001b[43m_cython_agg_general\u001b[49m\u001b[43m(\u001b[49m\n\u001b[0;32m   2453\u001b[0m \u001b[43m        \u001b[49m\u001b[38;5;124;43m\"\u001b[39;49m\u001b[38;5;124;43mmean\u001b[39;49m\u001b[38;5;124;43m\"\u001b[39;49m\u001b[43m,\u001b[49m\n\u001b[0;32m   2454\u001b[0m \u001b[43m        \u001b[49m\u001b[43malt\u001b[49m\u001b[38;5;241;43m=\u001b[39;49m\u001b[38;5;28;43;01mlambda\u001b[39;49;00m\u001b[43m \u001b[49m\u001b[43mx\u001b[49m\u001b[43m:\u001b[49m\u001b[43m \u001b[49m\u001b[43mSeries\u001b[49m\u001b[43m(\u001b[49m\u001b[43mx\u001b[49m\u001b[43m,\u001b[49m\u001b[43m \u001b[49m\u001b[43mcopy\u001b[49m\u001b[38;5;241;43m=\u001b[39;49m\u001b[38;5;28;43;01mFalse\u001b[39;49;00m\u001b[43m)\u001b[49m\u001b[38;5;241;43m.\u001b[39;49m\u001b[43mmean\u001b[49m\u001b[43m(\u001b[49m\u001b[43mnumeric_only\u001b[49m\u001b[38;5;241;43m=\u001b[39;49m\u001b[43mnumeric_only\u001b[49m\u001b[43m)\u001b[49m\u001b[43m,\u001b[49m\n\u001b[0;32m   2455\u001b[0m \u001b[43m        \u001b[49m\u001b[43mnumeric_only\u001b[49m\u001b[38;5;241;43m=\u001b[39;49m\u001b[43mnumeric_only\u001b[49m\u001b[43m,\u001b[49m\n\u001b[0;32m   2456\u001b[0m \u001b[43m    \u001b[49m\u001b[43m)\u001b[49m\n\u001b[0;32m   2457\u001b[0m     \u001b[38;5;28;01mreturn\u001b[39;00m result\u001b[38;5;241m.\u001b[39m__finalize__(\u001b[38;5;28mself\u001b[39m\u001b[38;5;241m.\u001b[39mobj, method\u001b[38;5;241m=\u001b[39m\u001b[38;5;124m\"\u001b[39m\u001b[38;5;124mgroupby\u001b[39m\u001b[38;5;124m\"\u001b[39m)\n",
      "File \u001b[1;32mc:\\Users\\javie\\AppData\\Local\\Programs\\Python\\Python312\\Lib\\site-packages\\pandas\\core\\groupby\\groupby.py:1998\u001b[0m, in \u001b[0;36mGroupBy._cython_agg_general\u001b[1;34m(self, how, alt, numeric_only, min_count, **kwargs)\u001b[0m\n\u001b[0;32m   1995\u001b[0m     result \u001b[38;5;241m=\u001b[39m \u001b[38;5;28mself\u001b[39m\u001b[38;5;241m.\u001b[39m_agg_py_fallback(how, values, ndim\u001b[38;5;241m=\u001b[39mdata\u001b[38;5;241m.\u001b[39mndim, alt\u001b[38;5;241m=\u001b[39malt)\n\u001b[0;32m   1996\u001b[0m     \u001b[38;5;28;01mreturn\u001b[39;00m result\n\u001b[1;32m-> 1998\u001b[0m new_mgr \u001b[38;5;241m=\u001b[39m \u001b[43mdata\u001b[49m\u001b[38;5;241;43m.\u001b[39;49m\u001b[43mgrouped_reduce\u001b[49m\u001b[43m(\u001b[49m\u001b[43marray_func\u001b[49m\u001b[43m)\u001b[49m\n\u001b[0;32m   1999\u001b[0m res \u001b[38;5;241m=\u001b[39m \u001b[38;5;28mself\u001b[39m\u001b[38;5;241m.\u001b[39m_wrap_agged_manager(new_mgr)\n\u001b[0;32m   2000\u001b[0m \u001b[38;5;28;01mif\u001b[39;00m how \u001b[38;5;129;01min\u001b[39;00m [\u001b[38;5;124m\"\u001b[39m\u001b[38;5;124midxmin\u001b[39m\u001b[38;5;124m\"\u001b[39m, \u001b[38;5;124m\"\u001b[39m\u001b[38;5;124midxmax\u001b[39m\u001b[38;5;124m\"\u001b[39m]:\n",
      "File \u001b[1;32mc:\\Users\\javie\\AppData\\Local\\Programs\\Python\\Python312\\Lib\\site-packages\\pandas\\core\\internals\\managers.py:1469\u001b[0m, in \u001b[0;36mBlockManager.grouped_reduce\u001b[1;34m(self, func)\u001b[0m\n\u001b[0;32m   1465\u001b[0m \u001b[38;5;28;01mif\u001b[39;00m blk\u001b[38;5;241m.\u001b[39mis_object:\n\u001b[0;32m   1466\u001b[0m     \u001b[38;5;66;03m# split on object-dtype blocks bc some columns may raise\u001b[39;00m\n\u001b[0;32m   1467\u001b[0m     \u001b[38;5;66;03m#  while others do not.\u001b[39;00m\n\u001b[0;32m   1468\u001b[0m     \u001b[38;5;28;01mfor\u001b[39;00m sb \u001b[38;5;129;01min\u001b[39;00m blk\u001b[38;5;241m.\u001b[39m_split():\n\u001b[1;32m-> 1469\u001b[0m         applied \u001b[38;5;241m=\u001b[39m \u001b[43msb\u001b[49m\u001b[38;5;241;43m.\u001b[39;49m\u001b[43mapply\u001b[49m\u001b[43m(\u001b[49m\u001b[43mfunc\u001b[49m\u001b[43m)\u001b[49m\n\u001b[0;32m   1470\u001b[0m         result_blocks \u001b[38;5;241m=\u001b[39m extend_blocks(applied, result_blocks)\n\u001b[0;32m   1471\u001b[0m \u001b[38;5;28;01melse\u001b[39;00m:\n",
      "File \u001b[1;32mc:\\Users\\javie\\AppData\\Local\\Programs\\Python\\Python312\\Lib\\site-packages\\pandas\\core\\internals\\blocks.py:393\u001b[0m, in \u001b[0;36mBlock.apply\u001b[1;34m(self, func, **kwargs)\u001b[0m\n\u001b[0;32m    387\u001b[0m \u001b[38;5;129m@final\u001b[39m\n\u001b[0;32m    388\u001b[0m \u001b[38;5;28;01mdef\u001b[39;00m \u001b[38;5;21mapply\u001b[39m(\u001b[38;5;28mself\u001b[39m, func, \u001b[38;5;241m*\u001b[39m\u001b[38;5;241m*\u001b[39mkwargs) \u001b[38;5;241m-\u001b[39m\u001b[38;5;241m>\u001b[39m \u001b[38;5;28mlist\u001b[39m[Block]:\n\u001b[0;32m    389\u001b[0m \u001b[38;5;250m    \u001b[39m\u001b[38;5;124;03m\"\"\"\u001b[39;00m\n\u001b[0;32m    390\u001b[0m \u001b[38;5;124;03m    apply the function to my values; return a block if we are not\u001b[39;00m\n\u001b[0;32m    391\u001b[0m \u001b[38;5;124;03m    one\u001b[39;00m\n\u001b[0;32m    392\u001b[0m \u001b[38;5;124;03m    \"\"\"\u001b[39;00m\n\u001b[1;32m--> 393\u001b[0m     result \u001b[38;5;241m=\u001b[39m \u001b[43mfunc\u001b[49m\u001b[43m(\u001b[49m\u001b[38;5;28;43mself\u001b[39;49m\u001b[38;5;241;43m.\u001b[39;49m\u001b[43mvalues\u001b[49m\u001b[43m,\u001b[49m\u001b[43m \u001b[49m\u001b[38;5;241;43m*\u001b[39;49m\u001b[38;5;241;43m*\u001b[39;49m\u001b[43mkwargs\u001b[49m\u001b[43m)\u001b[49m\n\u001b[0;32m    395\u001b[0m     result \u001b[38;5;241m=\u001b[39m maybe_coerce_values(result)\n\u001b[0;32m    396\u001b[0m     \u001b[38;5;28;01mreturn\u001b[39;00m \u001b[38;5;28mself\u001b[39m\u001b[38;5;241m.\u001b[39m_split_op_result(result)\n",
      "File \u001b[1;32mc:\\Users\\javie\\AppData\\Local\\Programs\\Python\\Python312\\Lib\\site-packages\\pandas\\core\\groupby\\groupby.py:1995\u001b[0m, in \u001b[0;36mGroupBy._cython_agg_general.<locals>.array_func\u001b[1;34m(values)\u001b[0m\n\u001b[0;32m   1992\u001b[0m     \u001b[38;5;28;01mreturn\u001b[39;00m result\n\u001b[0;32m   1994\u001b[0m \u001b[38;5;28;01massert\u001b[39;00m alt \u001b[38;5;129;01mis\u001b[39;00m \u001b[38;5;129;01mnot\u001b[39;00m \u001b[38;5;28;01mNone\u001b[39;00m\n\u001b[1;32m-> 1995\u001b[0m result \u001b[38;5;241m=\u001b[39m \u001b[38;5;28;43mself\u001b[39;49m\u001b[38;5;241;43m.\u001b[39;49m\u001b[43m_agg_py_fallback\u001b[49m\u001b[43m(\u001b[49m\u001b[43mhow\u001b[49m\u001b[43m,\u001b[49m\u001b[43m \u001b[49m\u001b[43mvalues\u001b[49m\u001b[43m,\u001b[49m\u001b[43m \u001b[49m\u001b[43mndim\u001b[49m\u001b[38;5;241;43m=\u001b[39;49m\u001b[43mdata\u001b[49m\u001b[38;5;241;43m.\u001b[39;49m\u001b[43mndim\u001b[49m\u001b[43m,\u001b[49m\u001b[43m \u001b[49m\u001b[43malt\u001b[49m\u001b[38;5;241;43m=\u001b[39;49m\u001b[43malt\u001b[49m\u001b[43m)\u001b[49m\n\u001b[0;32m   1996\u001b[0m \u001b[38;5;28;01mreturn\u001b[39;00m result\n",
      "File \u001b[1;32mc:\\Users\\javie\\AppData\\Local\\Programs\\Python\\Python312\\Lib\\site-packages\\pandas\\core\\groupby\\groupby.py:1946\u001b[0m, in \u001b[0;36mGroupBy._agg_py_fallback\u001b[1;34m(self, how, values, ndim, alt)\u001b[0m\n\u001b[0;32m   1944\u001b[0m     msg \u001b[38;5;241m=\u001b[39m \u001b[38;5;124mf\u001b[39m\u001b[38;5;124m\"\u001b[39m\u001b[38;5;124magg function failed [how->\u001b[39m\u001b[38;5;132;01m{\u001b[39;00mhow\u001b[38;5;132;01m}\u001b[39;00m\u001b[38;5;124m,dtype->\u001b[39m\u001b[38;5;132;01m{\u001b[39;00mser\u001b[38;5;241m.\u001b[39mdtype\u001b[38;5;132;01m}\u001b[39;00m\u001b[38;5;124m]\u001b[39m\u001b[38;5;124m\"\u001b[39m\n\u001b[0;32m   1945\u001b[0m     \u001b[38;5;66;03m# preserve the kind of exception that raised\u001b[39;00m\n\u001b[1;32m-> 1946\u001b[0m     \u001b[38;5;28;01mraise\u001b[39;00m \u001b[38;5;28mtype\u001b[39m(err)(msg) \u001b[38;5;28;01mfrom\u001b[39;00m \u001b[38;5;21;01merr\u001b[39;00m\n\u001b[0;32m   1948\u001b[0m \u001b[38;5;28;01mif\u001b[39;00m ser\u001b[38;5;241m.\u001b[39mdtype \u001b[38;5;241m==\u001b[39m \u001b[38;5;28mobject\u001b[39m:\n\u001b[0;32m   1949\u001b[0m     res_values \u001b[38;5;241m=\u001b[39m res_values\u001b[38;5;241m.\u001b[39mastype(\u001b[38;5;28mobject\u001b[39m, copy\u001b[38;5;241m=\u001b[39m\u001b[38;5;28;01mFalse\u001b[39;00m)\n",
      "\u001b[1;31mTypeError\u001b[0m: agg function failed [how->mean,dtype->object]"
     ]
    }
   ],
   "source": [
    "group.mean() "
   ]
  },
  {
   "cell_type": "code",
   "execution_count": 35,
   "metadata": {},
   "outputs": [],
   "source": [
    "%matplotlib inline  #permite graficar en jupyter"
   ]
  },
  {
   "cell_type": "code",
   "execution_count": 36,
   "metadata": {},
   "outputs": [
    {
     "data": {
      "text/plain": [
       "<AxesSubplot:xlabel='Genre'>"
      ]
     },
     "execution_count": 36,
     "metadata": {},
     "output_type": "execute_result"
    },
    {
     "data": {
      "image/png": "[encoded data removed]",
      "text/plain": [
       "<Figure size 432x288 with 1 Axes>"
      ]
     },
     "metadata": {
      "needs_background": "light"
     },
     "output_type": "display_data"
    }
   ],
   "source": [
    "group[\"Global_Sales\"].mean().plot(kind=\"bar\") #grafica la media de las ventas globales por genero"
   ]
  },
  {
   "cell_type": "code",
   "execution_count": 37,
   "metadata": {},
   "outputs": [
    {
     "data": {
      "text/plain": [
       "<AxesSubplot:xlabel='Genre'>"
      ]
     },
     "execution_count": 37,
     "metadata": {},
     "output_type": "execute_result"
    },
    {
     "data": {
      "image/png": "[encoded data removed]",
      "text/plain": [
       "<Figure size 432x288 with 1 Axes>"
      ]
     },
     "metadata": {
      "needs_background": "light"
     },
     "output_type": "display_data"
    }
   ],
   "source": [
    "group[[\"NA_Sales\",\n",
    "       \"EU_Sales\",\n",
    "       \"JP_Sales\"]].mean().plot(kind=\"bar\") #grafica la media de las ventas por region"
   ]
  },
  {
   "cell_type": "markdown",
   "metadata": {},
   "source": [
    "Don't forget to follow us on [YouTube](http://youtube.com/tirendazacademy) | [Medium](http://tirendazacademy.medium.com) | [Twitter](http://twitter.com/tirendazacademy) | [GitHub](http://github.com/tirendazacademy) | [Linkedin](https://www.linkedin.com/in/tirendaz-academy) | [Kaggle](https://www.kaggle.com/tirendazacademy) 😎"
   ]
  }
 ],
 "metadata": {
  "kernelspec": {
   "display_name": "Python 3",
   "language": "python",
   "name": "python3"
  },
  "language_info": {
   "codemirror_mode": {
    "name": "ipython",
    "version": 3
   },
   "file_extension": ".py",
   "mimetype": "text/x-python",
   "name": "python",
   "nbconvert_exporter": "python",
   "pygments_lexer": "ipython3",
   "version": "3.12.0"
  }
 },
 "nbformat": 4,
 "nbformat_minor": 2
}
